{
 "cells": [
  {
   "cell_type": "markdown",
   "metadata": {},
   "source": [
    "* Double DQN\n",
    "* prioritized ER (sampling of transitions with uniform weights)\n",
    "* gradient clipping\n",
    "* 3 layers, 50 hidden dim\n",
    "* $\\gamma = 0.98$\n",
    "* activation is SELU  (useful ?)\n",
    "* optimizer is Adam and learning rate is 0.0001\n",
    "* there are two losses: the MSE (Bellman) and a penalty for not being in the range (-RMAX, RMAX). The total loss is the sum of these two\n",
    "* maximum 10 steps of optimization for finding $argmax_{a}Q(s,a)$ with Rprop algorithm\n",
    "* actions are logged. As some can be zero, we replace the zeros by the minimal action taken\n"
   ]
  },
  {
   "cell_type": "code",
   "execution_count": 1,
   "metadata": {},
   "outputs": [
    {
     "name": "stdout",
     "output_type": "stream",
     "text": [
      "ready\n"
     ]
    }
   ],
   "source": [
    "print('ready')"
   ]
  },
  {
   "cell_type": "code",
   "execution_count": 2,
   "metadata": {
    "collapsed": true,
    "scrolled": true
   },
   "outputs": [],
   "source": [
    "import torch as t\n",
    "from torch.nn import ReLU, SELU\n",
    "import numpy as np\n",
    "from random import random, sample\n",
    "from matplotlib import pyplot as plt\n",
    "from sklearn.preprocessing import StandardScaler\n",
    "from IPython.display import display, clear_output\n",
    "from parse_dataset import *\n",
    "from rank_based import *\n",
    "from icnn import ICNN, gradient_step_action, diff_params, loss_beyond_RMAX,  clip_gradients, get_q_target, update_parameters_lag\n",
    "from copy import deepcopy\n",
    "from utils import variable, moving_avg\n",
    "import rank_based\n",
    "import proportional\n",
    "from time import time\n",
    "import evaluation\n",
    "from SepsisExperienceBuffer import  SepsisExperienceBuffer"
   ]
  },
  {
   "cell_type": "markdown",
   "metadata": {},
   "source": [
    "# Load and parse dataset"
   ]
  },
  {
   "cell_type": "code",
   "execution_count": 39,
   "metadata": {
    "scrolled": false
   },
   "outputs": [
    {
     "data": {
      "image/png": "[encoded data removed]",
      "text/plain": [
       "<matplotlib.figure.Figure at 0x28907991240>"
      ]
     },
     "metadata": {},
     "output_type": "display_data"
    },
    {
     "data": {
      "image/png": "[encoded data removed]",
      "text/plain": [
       "<matplotlib.figure.Figure at 0x28917472898>"
      ]
     },
     "metadata": {},
     "output_type": "display_data"
    }
   ],
   "source": [
    "data = pd.read_csv('Sepsis_imp.csv')\n",
    "replace_absurd_temperatures(data)\n",
    "data = drop_patients_with_absurd_weights(data)\n",
    "data = drop_patients_with_unrealistic_HR_or_BP(data)\n",
    "data = add_relative_time_column(data)\n",
    "data = drop_patient_with_negative_input(data)\n",
    "add_small_quantities(data)\n",
    "create_action_column(data)\n",
    "add_log_actions(data)\n",
    "\n",
    "log_scaler = StandardScaler()\n",
    "scaler = StandardScaler()\n",
    "action_scaler = StandardScaler()\n",
    "train_idx, test_idx = split_train_test_idx(data)\n",
    "\n",
    "# scale on train data only\n",
    "scaler.fit(data.loc[data.icustayid.isin(train_idx)][numerical_columns_not_to_be_logged])\n",
    "log_scaler.fit(np.log(data.loc[data.icustayid.isin(train_idx)][numerical_columns_to_be_logged]))\n",
    "action_scaler.fit(data.loc[data.icustayid.isin(train_idx)][log_action_cols])\n",
    "\n",
    "plt.hist(data.log_vaso, bins=20)\n",
    "plt.show()\n",
    "plt.hist(data.log_fluid, bins=20)\n",
    "plt.show()"
   ]
  },
  {
   "cell_type": "code",
   "execution_count": 40,
   "metadata": {},
   "outputs": [
    {
     "data": {
      "image/png": "[encoded data removed]",
      "text/plain": [
       "<matplotlib.figure.Figure at 0x28928680ef0>"
      ]
     },
     "metadata": {},
     "output_type": "display_data"
    }
   ],
   "source": [
    "plt.hist(data.max_dose_vaso, bins=20)\n",
    "plt.show()"
   ]
  },
  {
   "cell_type": "markdown",
   "metadata": {},
   "source": [
    "Split train/test"
   ]
  },
  {
   "cell_type": "code",
   "execution_count": 41,
   "metadata": {},
   "outputs": [],
   "source": [
    "test_idx, train_idx = split_train_test_idx(data)"
   ]
  },
  {
   "cell_type": "markdown",
   "metadata": {},
   "source": [
    "List of transitions `(s,a,r,s')`"
   ]
  },
  {
   "cell_type": "code",
   "execution_count": 42,
   "metadata": {
    "scrolled": true
   },
   "outputs": [
    {
     "name": "stderr",
     "output_type": "stream",
     "text": [
      "C:\\Users\\Camilo\\Dropbox\\Graduate Studies\\Harvard\\CS282r RL for Healthcare\\Final Project\\cs282-f17-sebastian-camilo\\parse_dataset.py:264: FutureWarning: comparison to `None` will result in an elementwise object comparison in the future.\n",
      "  if idx == None:\n"
     ]
    }
   ],
   "source": [
    "transitions_train = transition_iterator(data, idx=train_idx, scaler=scaler, log_scaler=log_scaler,  action_scaler=action_scaler, RMAX=15, log_action=True)"
   ]
  },
  {
   "cell_type": "code",
   "execution_count": 43,
   "metadata": {},
   "outputs": [
    {
     "name": "stdout",
     "output_type": "stream",
     "text": [
      "len(transitions_dict): 12224\n"
     ]
    }
   ],
   "source": [
    "transitions_dict = {k: {\n",
    "    \"s\": values[0],\n",
    "    \"a\": values[1],\n",
    "    \"r\": values[2],\n",
    "    \"s'\": values[3]   \n",
    "}\n",
    " for k, values in enumerate(transitions_train)\n",
    "}\n",
    "\n",
    "print('len(transitions_dict):',len(transitions_dict))"
   ]
  },
  {
   "cell_type": "markdown",
   "metadata": {},
   "source": [
    "Compute bounds for the actions (you don't have right to prescribe less than the min or more than the max). It gives bounds to the possible actions and ensure that the max of Q can actually be found"
   ]
  },
  {
   "cell_type": "code",
   "execution_count": 44,
   "metadata": {},
   "outputs": [
    {
     "name": "stdout",
     "output_type": "stream",
     "text": [
      "min0, max0, min1, max1: -0.440594871376 3.91733713675 -1.60180774102 1.52607942065\n",
      "rmin, rmax: -15.0 15.0\n"
     ]
    }
   ],
   "source": [
    "# Compute extremums of action space\n",
    "min0 = min([d['a'][0] for k, d in transitions_dict.items()])\n",
    "max0 = max([d['a'][0] for k, d in transitions_dict.items()])\n",
    "min1 = min([d['a'][1] for k, d in transitions_dict.items()])\n",
    "max1 = max([d['a'][1] for k, d in transitions_dict.items()])\n",
    "\n",
    "print('min0, max0, min1, max1:', min0, max0, min1, max1)\n",
    "\n",
    "# Also save min and max of rewards\n",
    "rmin = min([d['r'] for k, d in transitions_dict.items()])\n",
    "rmax = max([d['r'] for k, d in transitions_dict.items()])\n",
    "print('rmin, rmax:', rmin,rmax)"
   ]
  },
  {
   "cell_type": "code",
   "execution_count": 45,
   "metadata": {
    "scrolled": false
   },
   "outputs": [
    {
     "name": "stderr",
     "output_type": "stream",
     "text": [
      "252204it [00:01, 145338.90it/s]\n"
     ]
    },
    {
     "name": "stdout",
     "output_type": "stream",
     "text": [
      "Final length of D_train: 953\n",
      "First few episodes of D_train: [[], [(1, 0, 0, 1), (1, 0, 0, 62), (62, 4, 0, 722), (722, 4, 0, 403), (403, 4, 0, 544), (544, 4, 0, 256), (256, 4, 0, 405), (405, 4, 0, 405), (405, 4, 0, 113), (113, 4, 0, 17), (17, 4, 0, 368), (368, 4, 0, 366), (366, 4, 0, 10), (10, 4, 0, 475), (475, 4, 0, 10), (10, 3, 15, 10)]]\n"
     ]
    }
   ],
   "source": [
    "# Compute D, which is the same as transitions_train but as a list of lists where every element is an episode\n",
    "\n",
    "discrete_transitions = np.load('trajectories.npy')\n",
    "previous_id = discrete_transitions[0,0]\n",
    "D_train=[]\n",
    "episode = []\n",
    "for i,trans in tqdm(enumerate(discrete_transitions)):\n",
    "    if trans[0] in train_idx:\n",
    "        if trans[0] != previous_id:\n",
    "#             print('Appending ',len(episode),'-step episode from patient',previous_id, 'to D')\n",
    "            previous_id = trans[0]\n",
    "            D_train.append(deepcopy(episode))\n",
    "            episode = []   \n",
    "        # We're using rewards -15 and 15, so we need to correct the rewards that come with the\n",
    "        # file (was created with rewards -10 and 20)\n",
    "        if trans[3]:\n",
    "            r = trans[3]-5\n",
    "        else: r = trans[3]\n",
    "        episode.append((trans[1],trans[2], r, trans[4]))    \n",
    "\n",
    "print('Final length of D_train:',len(D_train)) \n",
    "print('First few episodes of D_train:',D_train[:2])\n",
    "\n",
    "## TODO: CHANGE TRANSITIONS SO THAT THE LAST STATE OF AN EPISODE IS STATE 751 IF ALIVE, 752 IF DEAD"
   ]
  },
  {
   "cell_type": "markdown",
   "metadata": {},
   "source": [
    "### Build neural network\n",
    "The neural network is convex in $a$\n",
    "\n",
    "$$u_0 = x$$\n",
    "$$z_0 = a$$\n",
    "$$u_{i+1} = \\tilde{g}_i(\\tilde{W}_iu_i+b_i)$$\n",
    "$$z_{i+1} = g_i\\left(W_i^{(z)}(z_i \\cdot (W_i^{(zu)}u_i+b_i^{(z)})_+) + W_i^{(a)}(a \\cdot (W_i^{(au)}u_i+b_i^{(a)})) + W_i^{(u)}u_i+b_i\\right)$$\n",
    "with $$W_i^{(z)}\\geq 0$$\n"
   ]
  },
  {
   "cell_type": "code",
   "execution_count": 46,
   "metadata": {
    "collapsed": true
   },
   "outputs": [],
   "source": [
    "Q_select = ICNN(3, 50, activation=SELU())\n",
    "Q_eval = deepcopy(Q_select)"
   ]
  },
  {
   "cell_type": "code",
   "execution_count": 47,
   "metadata": {},
   "outputs": [
    {
     "name": "stdout",
     "output_type": "stream",
     "text": [
      "ready\n"
     ]
    }
   ],
   "source": [
    "print('ready')"
   ]
  },
  {
   "cell_type": "markdown",
   "metadata": {},
   "source": [
    "### Test the Prioritized Experience Sampling"
   ]
  },
  {
   "cell_type": "code",
   "execution_count": 48,
   "metadata": {
    "collapsed": true
   },
   "outputs": [],
   "source": [
    "# # Instance a basic PER Buffer for sepsis with low batch_size for testing\n",
    "# exp_buffer = SepsisExperienceBuffer(batch_size = batch_size, partition_num = batch_size, total_step = 260000)\n",
    "\n",
    "# # Load a small subset of transitions from dataset\n",
    "# c = 0\n",
    "# for i in transitions_dict:\n",
    "#     c = c+1\n",
    "#     if c >= 50: break  \n",
    "#     if transitions_dict[i][\"s'\"] is not None:\n",
    "#         s_prime_variable = variable(transitions_dict[i][\"s'\"]).float().resize(1,50)\n",
    "#     else:\n",
    "#         s_prime_variable = variable(np.array([50*[np.nan]])).float()\n",
    "        \n",
    "#     exp_tuple = [variable(transitions_dict[i]['s']).float().resize(1,50), \\\n",
    "#         variable(transitions_dict[i]['a']).float().resize(1,2), \\\n",
    "#         variable(transitions_dict[i]['r']).float(), \\\n",
    "#         s_prime_variable]\n",
    "    \n",
    "#     exp_buffer.store(exp_tuple)   \n",
    "    \n",
    "# # Sample elements and observe priorities\n",
    "    \n",
    "# exp, w, rank_id = exp_buffer.sample(step)\n"
   ]
  },
  {
   "cell_type": "markdown",
   "metadata": {},
   "source": [
    "# Get PER"
   ]
  },
  {
   "cell_type": "code",
   "execution_count": 49,
   "metadata": {},
   "outputs": [
    {
     "name": "stdout",
     "output_type": "stream",
     "text": [
      "ready\n"
     ]
    }
   ],
   "source": [
    "print('ready')"
   ]
  },
  {
   "cell_type": "markdown",
   "metadata": {},
   "source": [
    "Create buffer with initialized priorities\n",
    "\n",
    "Can take some time"
   ]
  },
  {
   "cell_type": "code",
   "execution_count": 50,
   "metadata": {
    "scrolled": true
   },
   "outputs": [
    {
     "name": "stdout",
     "output_type": "stream",
     "text": [
      "Length of experience buffer: 12096\n"
     ]
    }
   ],
   "source": [
    "# INITIALIZE SOME VARIABLES\n",
    "EPOCHS = 100\n",
    "batch_size = 128\n",
    "gamma = .98\n",
    "RMAX = 15\n",
    "c = 100.  # weight of the loss \"beyond RMAX\"\n",
    "max_steps_a = 10\n",
    "\n",
    "# CREATE PRIORITIZED ER EXPERIENCE BUFFER\n",
    "# proceed by batch\n",
    "# update the priorities immediately, so that the network starts training by looking at the good things immediately\n",
    "# CAN TAKE SOME TIME\n",
    "exp_buffer = SepsisExperienceBuffer(batch_size = batch_size, partition_num = batch_size, total_step = 260000)\n",
    "for i in range(0, len(transitions_dict), batch_size):\n",
    "    s = []\n",
    "    a = []\n",
    "    r = []\n",
    "    s_ = []\n",
    "    for j in range(0, min(batch_size, len(transitions_dict) - (i+batch_size))):\n",
    "        # check if state is terminal\n",
    "        if transitions_dict[i+j][\"s'\"] is not None:\n",
    "            s_.append(variable(transitions_dict[i+j][\"s'\"]).resize(1,50))\n",
    "        else:\n",
    "            s_.append(variable(np.array([50*[np.nan]])))\n",
    "        s.append(variable(transitions_dict[i+j]['s']).resize(1,50))\n",
    "        a.append(variable(transitions_dict[i+j]['a']).resize(1,2))\n",
    "        r.append(variable(transitions_dict[i+j]['r']))\n",
    "    if len(s) == 0:\n",
    "        break\n",
    "    s = t.cat(s)\n",
    "    a = t.cat(a)\n",
    "    r = t.cat(r)\n",
    "    s_ = t.cat(s_)\n",
    "    \n",
    "    target = get_q_target(Q_select, Q_eval, s_, r, min0, max0, min1, max1, gamma=gamma, max_steps_a=max_steps_a).squeeze()\n",
    "    pred = Q_select(s, a).squeeze()\n",
    "    td_error = ((pred - target)**2 + c*loss_beyond_RMAX(pred, RMAX).squeeze()).data.numpy() \n",
    "\n",
    "    for j in range(0, min(batch_size, len(transitions_dict) - (i+batch_size))):\n",
    "        exp_tuple = [s[j].resize(1, 50), a[j].resize(1,2), r[j].resize(1,1), s_[j].resize(1,50)]\n",
    "        exp_buffer.store(exp_tuple, td_error[j])\n",
    "        \n",
    "print('Length of experience buffer:', len(exp_buffer._buffer._experience))"
   ]
  },
  {
   "cell_type": "markdown",
   "metadata": {},
   "source": [
    "# Train model"
   ]
  },
  {
   "cell_type": "code",
   "execution_count": 51,
   "metadata": {},
   "outputs": [
    {
     "name": "stdout",
     "output_type": "stream",
     "text": [
      "ready\n"
     ]
    }
   ],
   "source": [
    "print('ready')"
   ]
  },
  {
   "cell_type": "code",
   "execution_count": 52,
   "metadata": {
    "collapsed": true
   },
   "outputs": [],
   "source": [
    "def clip(x):\n",
    "    \"\"\"\n",
    "    Clip values below -RMAX or above RMAX\n",
    "    Might be useful when the target goes beyond\n",
    "    \"\"\"\n",
    "    return x*((x>=-RMAX).float())*((x<=RMAX).float()) + RMAX*(x>RMAX).float() - RMAX*(x<-RMAX).float()"
   ]
  },
  {
   "cell_type": "code",
   "execution_count": 53,
   "metadata": {
    "scrolled": false
   },
   "outputs": [
    {
     "ename": "ValueError",
     "evalue": "empty range for randrange() (2,2, 0)",
     "output_type": "error",
     "traceback": [
      "\u001b[1;31m---------------------------------------------------------------------------\u001b[0m",
      "\u001b[1;31mValueError\u001b[0m                                Traceback (most recent call last)",
      "\u001b[1;32m<ipython-input-53-35236b76c7e0>\u001b[0m in \u001b[0;36m<module>\u001b[1;34m()\u001b[0m\n\u001b[0;32m     41\u001b[0m         \u001b[1;31m# Sample batch\u001b[0m\u001b[1;33m\u001b[0m\u001b[1;33m\u001b[0m\u001b[0m\n\u001b[0;32m     42\u001b[0m         \u001b[0mt_sample\u001b[0m \u001b[1;33m=\u001b[0m \u001b[0mtime\u001b[0m\u001b[1;33m(\u001b[0m\u001b[1;33m)\u001b[0m\u001b[1;33m\u001b[0m\u001b[0m\n\u001b[1;32m---> 43\u001b[1;33m         \u001b[0mexp\u001b[0m\u001b[1;33m,\u001b[0m \u001b[0mw\u001b[0m\u001b[1;33m,\u001b[0m \u001b[0mexp_id\u001b[0m \u001b[1;33m=\u001b[0m \u001b[0mexp_buffer\u001b[0m\u001b[1;33m.\u001b[0m\u001b[0msample\u001b[0m\u001b[1;33m(\u001b[0m\u001b[0mglobal_step\u001b[0m\u001b[1;33m)\u001b[0m\u001b[1;33m\u001b[0m\u001b[0m\n\u001b[0m\u001b[0;32m     44\u001b[0m         \u001b[0mstates\u001b[0m \u001b[1;33m=\u001b[0m \u001b[0mt\u001b[0m\u001b[1;33m.\u001b[0m\u001b[0mcat\u001b[0m\u001b[1;33m(\u001b[0m\u001b[1;33m[\u001b[0m\u001b[0md\u001b[0m\u001b[1;33m[\u001b[0m\u001b[1;36m0\u001b[0m\u001b[1;33m]\u001b[0m \u001b[1;32mfor\u001b[0m \u001b[0md\u001b[0m \u001b[1;32min\u001b[0m \u001b[0mexp\u001b[0m\u001b[1;33m]\u001b[0m\u001b[1;33m)\u001b[0m\u001b[1;33m.\u001b[0m\u001b[0mfloat\u001b[0m\u001b[1;33m(\u001b[0m\u001b[1;33m)\u001b[0m\u001b[1;33m\u001b[0m\u001b[0m\n\u001b[0;32m     45\u001b[0m         \u001b[0mactions\u001b[0m \u001b[1;33m=\u001b[0m \u001b[0mt\u001b[0m\u001b[1;33m.\u001b[0m\u001b[0mcat\u001b[0m\u001b[1;33m(\u001b[0m\u001b[1;33m[\u001b[0m\u001b[0md\u001b[0m\u001b[1;33m[\u001b[0m\u001b[1;36m1\u001b[0m\u001b[1;33m]\u001b[0m \u001b[1;32mfor\u001b[0m \u001b[0md\u001b[0m \u001b[1;32min\u001b[0m \u001b[0mexp\u001b[0m\u001b[1;33m]\u001b[0m\u001b[1;33m)\u001b[0m\u001b[1;33m.\u001b[0m\u001b[0mfloat\u001b[0m\u001b[1;33m(\u001b[0m\u001b[1;33m)\u001b[0m\u001b[1;33m\u001b[0m\u001b[0m\n",
      "\u001b[1;32mC:\\Users\\Camilo\\Dropbox\\Graduate Studies\\Harvard\\CS282r RL for Healthcare\\Final Project\\cs282-f17-sebastian-camilo\\SepsisExperienceBuffer.py\u001b[0m in \u001b[0;36msample\u001b[1;34m(self, global_step)\u001b[0m\n\u001b[0;32m     53\u001b[0m             \u001b[0mexp_ids\u001b[0m\u001b[1;33m:\u001b[0m \u001b[0mexperience\u001b[0m \u001b[0mids\u001b[0m \u001b[0mrequired\u001b[0m \u001b[1;32mfor\u001b[0m \u001b[0mupdates\u001b[0m \u001b[0mlater\u001b[0m\u001b[1;33m\u001b[0m\u001b[0m\n\u001b[0;32m     54\u001b[0m         \"\"\"\n\u001b[1;32m---> 55\u001b[1;33m         \u001b[1;32mreturn\u001b[0m \u001b[0mself\u001b[0m\u001b[1;33m.\u001b[0m\u001b[0m_buffer\u001b[0m\u001b[1;33m.\u001b[0m\u001b[0msample\u001b[0m\u001b[1;33m(\u001b[0m\u001b[0mglobal_step\u001b[0m\u001b[1;33m)\u001b[0m\u001b[1;33m\u001b[0m\u001b[0m\n\u001b[0m\u001b[0;32m     56\u001b[0m \u001b[1;33m\u001b[0m\u001b[0m\n\u001b[0;32m     57\u001b[0m     \u001b[1;32mdef\u001b[0m \u001b[0mupdate\u001b[0m\u001b[1;33m(\u001b[0m\u001b[0mself\u001b[0m\u001b[1;33m,\u001b[0m \u001b[0mexp_ids\u001b[0m\u001b[1;33m,\u001b[0m \u001b[0mdeltas\u001b[0m\u001b[1;33m)\u001b[0m\u001b[1;33m:\u001b[0m\u001b[1;33m\u001b[0m\u001b[0m\n",
      "\u001b[1;32mC:\\Users\\Camilo\\Dropbox\\Graduate Studies\\Harvard\\CS282r RL for Healthcare\\Final Project\\cs282-f17-sebastian-camilo\\rank_based.py\u001b[0m in \u001b[0;36msample\u001b[1;34m(self, global_step)\u001b[0m\n\u001b[0;32m    166\u001b[0m         \u001b[1;32mfor\u001b[0m \u001b[0mn\u001b[0m \u001b[1;32min\u001b[0m \u001b[0mrange\u001b[0m\u001b[1;33m(\u001b[0m\u001b[1;36m1\u001b[0m\u001b[1;33m,\u001b[0m \u001b[0mself\u001b[0m\u001b[1;33m.\u001b[0m\u001b[0mbatch_size\u001b[0m \u001b[1;33m+\u001b[0m \u001b[1;36m1\u001b[0m\u001b[1;33m)\u001b[0m\u001b[1;33m:\u001b[0m\u001b[1;33m\u001b[0m\u001b[0m\n\u001b[0;32m    167\u001b[0m             \u001b[0mprint\u001b[0m\u001b[1;33m(\u001b[0m\u001b[1;34m'n:'\u001b[0m\u001b[1;33m,\u001b[0m\u001b[0mn\u001b[0m\u001b[1;33m,\u001b[0m \u001b[1;34m\"distribution['strata_ends'][n] + 1:\"\u001b[0m\u001b[1;33m,\u001b[0m \u001b[0mdistribution\u001b[0m\u001b[1;33m[\u001b[0m\u001b[1;34m'strata_ends'\u001b[0m\u001b[1;33m]\u001b[0m\u001b[1;33m[\u001b[0m\u001b[0mn\u001b[0m\u001b[1;33m]\u001b[0m \u001b[1;33m+\u001b[0m \u001b[1;36m1\u001b[0m\u001b[1;33m,\u001b[0m\u001b[1;34m\"distribution['strata_ends'][n + 1]:\"\u001b[0m\u001b[1;33m,\u001b[0m\u001b[0mdistribution\u001b[0m\u001b[1;33m[\u001b[0m\u001b[1;34m'strata_ends'\u001b[0m\u001b[1;33m]\u001b[0m\u001b[1;33m[\u001b[0m\u001b[0mn\u001b[0m \u001b[1;33m+\u001b[0m \u001b[1;36m1\u001b[0m\u001b[1;33m]\u001b[0m\u001b[1;33m)\u001b[0m\u001b[1;33m\u001b[0m\u001b[0m\n\u001b[1;32m--> 168\u001b[1;33m \u001b[1;33m\u001b[0m\u001b[0m\n\u001b[0m\u001b[0;32m    169\u001b[0m             index = random.randint(distribution['strata_ends'][n] + 1,\n\u001b[0;32m    170\u001b[0m                                    distribution['strata_ends'][n + 1])\n",
      "\u001b[1;32mC:\\Users\\Camilo\\Anaconda3\\lib\\random.py\u001b[0m in \u001b[0;36mrandint\u001b[1;34m(self, a, b)\u001b[0m\n\u001b[0;32m    218\u001b[0m         \"\"\"\n\u001b[0;32m    219\u001b[0m \u001b[1;33m\u001b[0m\u001b[0m\n\u001b[1;32m--> 220\u001b[1;33m         \u001b[1;32mreturn\u001b[0m \u001b[0mself\u001b[0m\u001b[1;33m.\u001b[0m\u001b[0mrandrange\u001b[0m\u001b[1;33m(\u001b[0m\u001b[0ma\u001b[0m\u001b[1;33m,\u001b[0m \u001b[0mb\u001b[0m\u001b[1;33m+\u001b[0m\u001b[1;36m1\u001b[0m\u001b[1;33m)\u001b[0m\u001b[1;33m\u001b[0m\u001b[0m\n\u001b[0m\u001b[0;32m    221\u001b[0m \u001b[1;33m\u001b[0m\u001b[0m\n\u001b[0;32m    222\u001b[0m     def _randbelow(self, n, int=int, maxsize=1<<BPF, type=type,\n",
      "\u001b[1;32mC:\\Users\\Camilo\\Anaconda3\\lib\\random.py\u001b[0m in \u001b[0;36mrandrange\u001b[1;34m(self, start, stop, step, _int)\u001b[0m\n\u001b[0;32m    196\u001b[0m             \u001b[1;32mreturn\u001b[0m \u001b[0mistart\u001b[0m \u001b[1;33m+\u001b[0m \u001b[0mself\u001b[0m\u001b[1;33m.\u001b[0m\u001b[0m_randbelow\u001b[0m\u001b[1;33m(\u001b[0m\u001b[0mwidth\u001b[0m\u001b[1;33m)\u001b[0m\u001b[1;33m\u001b[0m\u001b[0m\n\u001b[0;32m    197\u001b[0m         \u001b[1;32mif\u001b[0m \u001b[0mstep\u001b[0m \u001b[1;33m==\u001b[0m \u001b[1;36m1\u001b[0m\u001b[1;33m:\u001b[0m\u001b[1;33m\u001b[0m\u001b[0m\n\u001b[1;32m--> 198\u001b[1;33m             \u001b[1;32mraise\u001b[0m \u001b[0mValueError\u001b[0m\u001b[1;33m(\u001b[0m\u001b[1;34m\"empty range for randrange() (%d,%d, %d)\"\u001b[0m \u001b[1;33m%\u001b[0m \u001b[1;33m(\u001b[0m\u001b[0mistart\u001b[0m\u001b[1;33m,\u001b[0m \u001b[0mistop\u001b[0m\u001b[1;33m,\u001b[0m \u001b[0mwidth\u001b[0m\u001b[1;33m)\u001b[0m\u001b[1;33m)\u001b[0m\u001b[1;33m\u001b[0m\u001b[0m\n\u001b[0m\u001b[0;32m    199\u001b[0m \u001b[1;33m\u001b[0m\u001b[0m\n\u001b[0;32m    200\u001b[0m         \u001b[1;31m# Non-unit step argument supplied.\u001b[0m\u001b[1;33m\u001b[0m\u001b[1;33m\u001b[0m\u001b[0m\n",
      "\u001b[1;31mValueError\u001b[0m: empty range for randrange() (2,2, 0)"
     ]
    }
   ],
   "source": [
    "import importlib\n",
    "importlib.reload(evaluation)\n",
    "\n",
    "# OPTIMIZER PARAMETERS\n",
    "learning_rate = 1e-4\n",
    "optimizer = t.optim.Adam(Q_select.parameters(), lr=learning_rate)\n",
    "max_steps = int(len(data) / batch_size)\n",
    "max_steps_a = 10\n",
    "\n",
    "# batch size\n",
    "batch_size= 64\n",
    "exp_buffer._buffer.batch_size = batch_size\n",
    "\n",
    "# update weights target\n",
    "T_UPDATE = 100  # parameter to copy the weights periodically\n",
    "tau = 1e-2  # rate to update target network toward primary network\n",
    "\n",
    "# monitoring\n",
    "losses = []\n",
    "average_q_pred = []\n",
    "average_q_target = []\n",
    "max_q_pred = []\n",
    "min_q_pred = []\n",
    "max_q_target = []\n",
    "min_q_target = []\n",
    "average_vaso = []\n",
    "max_vaso = []\n",
    "min_vaso = []\n",
    "average_fluid = []\n",
    "max_fluid = []\n",
    "min_fluid = []\n",
    "global_step = 0\n",
    "\n",
    "\n",
    "# TRAIN\n",
    "for _ in range(EPOCHS):\n",
    "    t0 = time()\n",
    "    for step in range(max_steps):\n",
    "        global_step += 1\n",
    "\n",
    "        # Sample batch\n",
    "        t_sample = time()\n",
    "        exp, w, exp_id = exp_buffer.sample(global_step)\n",
    "        states = t.cat([d[0] for d in exp]).float()\n",
    "        actions = t.cat([d[1] for d in exp]).float()\n",
    "        rewards = t.cat([d[2] for d in exp]).float()\n",
    "        next_states = t.cat([d[3] for d in exp]).float()\n",
    "#         print('sample', time() - t_sample)\n",
    "        \n",
    "        # Init grad (set all of them to zero)\n",
    "        optimizer.zero_grad()\n",
    "\n",
    "        # Compute loss\n",
    "        t_loss = time()\n",
    "        pred = Q_select.forward(states, actions).squeeze()  # Q(s, a)\n",
    "        target, max_actions = get_q_target(Q_select, Q_eval, next_states, rewards, min0, max0, min1, max1, gamma=gamma, max_steps_a=max_steps_a, return_max_actions=True)  # max_a' Q(s', a)\n",
    "        target = clip(target.squeeze())\n",
    "        loss = (pred - target)**2 + c*loss_beyond_RMAX(pred, RMAX).squeeze()  # this loss penalizes values that are not in the range [-rmax, rmax]\n",
    "#         print('loss', time()-t_loss)\n",
    "        \n",
    "        # Update priorities\n",
    "        t_update = time()\n",
    "        exp_buffer.update(exp_id, loss.data.numpy().tolist())\n",
    "#         print('update', time()-t_update)\n",
    "\n",
    "        loss = loss*variable(w)\n",
    "        loss = t.sum(loss)\n",
    "        \n",
    "        # Monitoring\n",
    "        losses.append(loss.data.numpy()[0]/batch_size)\n",
    "        average_q_pred.append(t.mean(pred).squeeze().data.numpy()[0])\n",
    "        max_q_pred.append(t.max(pred).squeeze().data.numpy()[0])\n",
    "        min_q_pred.append(t.min(pred).squeeze().data.numpy()[0])\n",
    "        average_q_target.append(t.mean(target).squeeze().data.numpy()[0])\n",
    "        max_q_target.append(t.max(target).squeeze().data.numpy()[0])\n",
    "        min_q_target.append(t.min(target).squeeze().data.numpy()[0])\n",
    "        min_a = np.min(max_actions.data.numpy(), 0).squeeze()\n",
    "        max_a = np.max(max_actions.data.numpy(), 0).squeeze()\n",
    "        mean_a = np.mean(max_actions.data.numpy(), 0).squeeze()\n",
    "        min_vaso.append(min_a[0])\n",
    "        max_vaso.append(max_a[0])\n",
    "        average_vaso.append(mean_a[0])\n",
    "        min_fluid.append(min_a[1])\n",
    "        max_fluid.append(max_a[1])\n",
    "        average_fluid.append(mean_a[1])\n",
    "        \n",
    "        # Compute gradients and update weights of the selection network\n",
    "        t_grad = time()\n",
    "        loss.backward()\n",
    "        clip_gradients(Q_select)\n",
    "        optimizer.step()\n",
    "        \n",
    "        # Keep weights positive so that the Q_select stays concave\n",
    "        Q_select.proj()\n",
    "#         print('grad', time()-t_grad)\n",
    "        \n",
    "        # update parameters of the evaluation network. Its weights lag behind\n",
    "        t_update_q = time()\n",
    "        if global_step % T_UPDATE == 0:\n",
    "            Q_eval = deepcopy(Q_select)\n",
    "#         update_parameters_lag(Q_select, Q_eval, tau)\n",
    "#         print('update q', time() - t_update_q)\n",
    "\n",
    "        # plot\n",
    "        if step % 250 == 0:\n",
    "            clear_output(wait=True)\n",
    "            plt.show()\n",
    "            # td error\n",
    "            plt.plot(moving_avg(np.log(losses)))\n",
    "            plt.show()\n",
    "            # Q values (target and pred)\n",
    "            plt.plot(moving_avg(average_q_pred[100:]), label='avg pred', c='darkblue')\n",
    "            plt.plot(moving_avg(min_q_pred[100:]), label='min pred', c='darkblue', alpha=.8,linestyle=':')\n",
    "            plt.plot(moving_avg(max_q_pred[100:]), label='max pred', c='darkblue', alpha=.8,linestyle=':')\n",
    "            plt.plot(moving_avg(average_q_target[100:]), label='avg target', c='crimson')\n",
    "            plt.plot(moving_avg(min_q_target[100:]), label='min target', c='crimson', alpha=.8,linestyle=':')\n",
    "            plt.plot(moving_avg(max_q_target[100:]), label='max target', c='crimson', alpha=.8,linestyle=':')\n",
    "            plt.legend(loc='center left', bbox_to_anchor=(1, 0.5))\n",
    "            plt.show()\n",
    "            # actions (vaso and fluid)\n",
    "            plt.plot(moving_avg(average_fluid[100:]), label='avg fluid', c='darkblue')\n",
    "            plt.plot(moving_avg(min_fluid[100:]), label='min fluid', c='darkblue', alpha=.8,linestyle=':')\n",
    "            plt.plot(moving_avg(max_fluid[100:]), label='max fluid', c='darkblue', alpha=.8,linestyle=':')\n",
    "            plt.plot(moving_avg(average_vaso[100:]), label='avg vaso', c='crimson')\n",
    "            plt.plot(moving_avg(min_vaso[100:]), label='min vaso', c='crimson', alpha=.8,linestyle=':')\n",
    "            plt.plot(moving_avg(max_vaso[100:]), label='max vaso', c='crimson', alpha=.8,linestyle=':')\n",
    "            plt.legend(loc='center left', bbox_to_anchor=(1, 0.5))\n",
    "            plt.show()\n",
    "            \n",
    "            print('Epoch %s\\n%s steps in this epoch\\n%s steps/s' % (str(_), str(step), str(step/(time()-t0))))"
   ]
  },
  {
   "cell_type": "code",
   "execution_count": null,
   "metadata": {
    "collapsed": true
   },
   "outputs": [],
   "source": [
    "# DR estimator\n",
    "extremums_of_action_space = (min0,max0,min1,max1)\n",
    "DR = evaluation.eval_ICNN_DR(Q_select, extremums_of_action_space, D_train, gamma, rmin, rmax)\n",
    "print('DR:', DR)\n",
    "plt.plot(DR)\n",
    "plt.title('DR value at step'+str(step))"
   ]
  },
  {
   "cell_type": "markdown",
   "metadata": {},
   "source": [
    "Note that the **log batch-averaged loss** is plotted"
   ]
  },
  {
   "cell_type": "code",
   "execution_count": null,
   "metadata": {
    "collapsed": true,
    "scrolled": true
   },
   "outputs": [],
   "source": [
    "rewards"
   ]
  },
  {
   "cell_type": "code",
   "execution_count": null,
   "metadata": {
    "collapsed": true,
    "scrolled": true
   },
   "outputs": [],
   "source": [
    "Q_eval(next_states,actions)"
   ]
  },
  {
   "cell_type": "code",
   "execution_count": null,
   "metadata": {
    "collapsed": true,
    "scrolled": true
   },
   "outputs": [],
   "source": [
    "a_range = np.arange(min0,max0,1e-2)\n",
    "n = a_range.shape[0]\n",
    "a = variable(np.array([[aa,0.] for aa in a_range]))\n",
    "plt.plot(a_range,Q_eval(t.cat(n*[next_states[:1]]), a).squeeze().data.numpy())\n",
    "plt.show()"
   ]
  },
  {
   "cell_type": "code",
   "execution_count": null,
   "metadata": {
    "collapsed": true
   },
   "outputs": [],
   "source": [
    "Q_eval(next_states)"
   ]
  },
  {
   "cell_type": "code",
   "execution_count": null,
   "metadata": {
    "collapsed": true,
    "scrolled": true
   },
   "outputs": [],
   "source": [
    "get_q_target(Q_select, Q_eval, next_states, rewards, min0, max0, min1, max1, gamma=gamma, max_steps_a=10)"
   ]
  },
  {
   "cell_type": "code",
   "execution_count": null,
   "metadata": {
    "collapsed": true,
    "scrolled": true
   },
   "outputs": [],
   "source": [
    "Q_select.forward(states,actions)"
   ]
  },
  {
   "cell_type": "code",
   "execution_count": null,
   "metadata": {
    "collapsed": true
   },
   "outputs": [],
   "source": [
    "list(Q_select.parameters())[0]"
   ]
  },
  {
   "cell_type": "code",
   "execution_count": null,
   "metadata": {
    "collapsed": true
   },
   "outputs": [],
   "source": [
    "60000/240000*64"
   ]
  },
  {
   "cell_type": "code",
   "execution_count": null,
   "metadata": {
    "collapsed": true,
    "scrolled": true
   },
   "outputs": [],
   "source": [
    "print('finished')"
   ]
  },
  {
   "cell_type": "markdown",
   "metadata": {},
   "source": [
    "# Look at the predictions of the model once trained"
   ]
  },
  {
   "cell_type": "code",
   "execution_count": null,
   "metadata": {
    "collapsed": true,
    "scrolled": true
   },
   "outputs": [],
   "source": [
    "t.sum((Q_target.squeeze()-Q_pred.squeeze())**2 + c*loss_beyond_RMAX(Q_pred, RMAX).squeeze())"
   ]
  },
  {
   "cell_type": "code",
   "execution_count": null,
   "metadata": {
    "collapsed": true,
    "scrolled": true
   },
   "outputs": [],
   "source": [
    "Q1.forward(states,actions)"
   ]
  },
  {
   "cell_type": "code",
   "execution_count": null,
   "metadata": {
    "collapsed": true,
    "scrolled": true
   },
   "outputs": [],
   "source": [
    "Q_target"
   ]
  },
  {
   "cell_type": "code",
   "execution_count": null,
   "metadata": {
    "collapsed": true
   },
   "outputs": [],
   "source": [
    "next_state_ = []\n",
    "good = dict()\n",
    "for i, s in enumerate(next_states):\n",
    "    if not np.isnan(s.data.numpy()[0]):\n",
    "        next_state_.append(s.resize(1, 50))\n",
    "        good[i] = len(good)\n",
    "\n",
    "next_state_ = t.cat(next_state_)\n",
    "max_action = variable(np.zeros((len(next_state_), 2)), requires_grad=True).float()\n",
    "prev_action = variable(np.zeros((len(next_state_), 2)), requires_grad=True).float()\n",
    "input_param = t.nn.Parameter(max_action.data)\n",
    "optimizer_for_a = t.optim.Rprop([input_param], lr=5e-1)\n",
    "for k in range(5):\n",
    "    max_action, input_param, optimizer_for_a = gradient_step_action(Q1, Q2, next_state_, max_action, min0, max0, min1, max1, input_param=input_param, optimizer=optimizer_for_a)\n",
    "    if np.max(np.abs(prev_action.data.numpy() - max_action.data.numpy())) < 1e-3:\n",
    "        break\n",
    "    prev_action = max_action * 1"
   ]
  },
  {
   "cell_type": "code",
   "execution_count": null,
   "metadata": {
    "collapsed": true,
    "scrolled": true
   },
   "outputs": [],
   "source": [
    "max_action"
   ]
  },
  {
   "cell_type": "code",
   "execution_count": null,
   "metadata": {
    "collapsed": true
   },
   "outputs": [],
   "source": [
    "state = t.cat(np.arange(min0,max0,1e-2).shape[0]*[next_state_[0].resize(1,50)]).float()\n",
    "actions = variable(np.array([[a,0.] for a in np.arange(min0,max0,1e-2)])).float()\n",
    "Qvalues = Q1.forward(state, actions).data.numpy()\n",
    "plt.plot(np.arange(min0,max0,1e-2), Qvalues)\n",
    "plt.show()"
   ]
  },
  {
   "cell_type": "markdown",
   "metadata": {
    "collapsed": true
   },
   "source": [
    "# Comparing to clinician policy"
   ]
  },
  {
   "cell_type": "code",
   "execution_count": null,
   "metadata": {
    "collapsed": true
   },
   "outputs": [],
   "source": [
    "compute_mortality_vs_deviation_from_recommended_dose(data_filename, recommended_treatment__dict, make_plots = True)"
   ]
  }
 ],
 "metadata": {
  "kernelspec": {
   "display_name": "Python 3",
   "language": "python",
   "name": "python3"
  },
  "language_info": {
   "codemirror_mode": {
    "name": "ipython",
    "version": 3
   },
   "file_extension": ".py",
   "mimetype": "text/x-python",
   "name": "python",
   "nbconvert_exporter": "python",
   "pygments_lexer": "ipython3",
   "version": "3.6.1"
  }
 },
 "nbformat": 4,
 "nbformat_minor": 2
}
