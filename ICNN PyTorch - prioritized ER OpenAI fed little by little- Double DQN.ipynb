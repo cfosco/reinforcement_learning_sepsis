{
 "cells": [
  {
   "cell_type": "markdown",
   "metadata": {},
   "source": [
    "* Double DQN\n",
    "* prioritized ER \n",
    "* gradient clipping\n",
    "* 3 layers, 50 hidden dim\n",
    "* $\\gamma = 0.99$\n",
    "* activation is softplus\n",
    "* batch normalization\n",
    "* optimizer is Adam and learning rate is 0.001\n",
    "* the loss is the MSE (Bellman) + a penalty for going outside of (-RMAX, RMAX)\n",
    "* maximum 8-10 steps of optimization for finding $argmax_{a}Q(s,a)$ with Rprop algorithm\n",
    "* actions are logged. As some can be zero, we replace the zeros by the minimal action taken\n"
   ]
  },
  {
   "cell_type": "markdown",
   "metadata": {},
   "source": [
    "In this notebook, we feed the memory little by little.\n",
    "\n",
    "This is because we think that the rareness of -15 transitions prevents the model from learning"
   ]
  },
  {
   "cell_type": "code",
   "execution_count": 2,
   "metadata": {},
   "outputs": [
    {
     "name": "stdout",
     "output_type": "stream",
     "text": [
      "ready\n"
     ]
    }
   ],
   "source": [
    "print('ready')"
   ]
  },
  {
   "cell_type": "code",
   "execution_count": 3,
   "metadata": {
    "collapsed": true,
    "scrolled": true
   },
   "outputs": [],
   "source": [
    "import torch as t\n",
    "from torch.nn import ReLU, SELU, LeakyReLU\n",
    "import numpy as np\n",
    "from random import random, sample\n",
    "from matplotlib import pyplot as plt\n",
    "from sklearn.preprocessing import StandardScaler\n",
    "from IPython import display\n",
    "from parse_dataset import *\n",
    "from icnn import ICNN, ICNNBN, gradient_step_action, diff_params, loss_beyond_RMAX, clip_gradients, get_q_target, update_parameters_lag\n",
    "from copy import deepcopy\n",
    "from utils import variable, moving_avg\n",
    "from replay_buffer import PrioritizedReplayBuffer"
   ]
  },
  {
   "cell_type": "markdown",
   "metadata": {},
   "source": [
    "# Load and parse dataset"
   ]
  },
  {
   "cell_type": "code",
   "execution_count": 4,
   "metadata": {
    "scrolled": true
   },
   "outputs": [
    {
     "data": {
      "text/plain": [
       "StandardScaler(copy=True, with_mean=True, with_std=True)"
      ]
     },
     "execution_count": 4,
     "metadata": {},
     "output_type": "execute_result"
    }
   ],
   "source": [
    "data = pd.read_csv('Sepsis_imp.csv')\n",
    "replace_absurd_temperatures(data)\n",
    "data = drop_patients_with_absurd_weights(data)\n",
    "data = drop_patients_with_unrealistic_HR_or_BP(data)\n",
    "data = add_relative_time_column(data)\n",
    "data = drop_patient_with_negative_input(data)\n",
    "add_small_quantities(data)\n",
    "create_action_column(data)\n",
    "add_log_actions(data)\n",
    "\n",
    "log_scaler = StandardScaler()\n",
    "scaler = StandardScaler()\n",
    "action_scaler = StandardScaler()\n",
    "train_idx, test_idx = split_train_test_idx(data)\n",
    "\n",
    "# scale on train data only\n",
    "scaler.fit(data.loc[data.icustayid.isin(train_idx)][numerical_columns_not_to_be_logged])\n",
    "log_scaler.fit(np.log(data.loc[data.icustayid.isin(train_idx)][numerical_columns_to_be_logged]))\n",
    "action_scaler.fit(data.loc[data.icustayid.isin(train_idx)][log_action_cols])"
   ]
  },
  {
   "cell_type": "code",
   "execution_count": 5,
   "metadata": {
    "scrolled": true
   },
   "outputs": [
    {
     "data": {
      "image/png": "[encoded data removed]",
      "text/plain": [
       "<matplotlib.figure.Figure at 0x25ea3db7278>"
      ]
     },
     "metadata": {},
     "output_type": "display_data"
    },
    {
     "data": {
      "image/png": "[encoded data removed]",
      "text/plain": [
       "<matplotlib.figure.Figure at 0x25ea3e83c88>"
      ]
     },
     "metadata": {},
     "output_type": "display_data"
    }
   ],
   "source": [
    "plt.rcParams['figure.figsize'] = (5,5)\n",
    "plt.hist(data.log_vaso, bins=20)\n",
    "plt.show()\n",
    "plt.hist(data.log_fluid, bins=20)\n",
    "plt.show()"
   ]
  },
  {
   "cell_type": "code",
   "execution_count": 6,
   "metadata": {},
   "outputs": [
    {
     "data": {
      "image/png": "[encoded data removed]",
      "text/plain": [
       "<matplotlib.figure.Figure at 0x25ea4648ba8>"
      ]
     },
     "metadata": {},
     "output_type": "display_data"
    }
   ],
   "source": [
    "plt.hist(action_scaler.transform(data.loc[data.icustayid.isin(train_idx)][log_action_cols])[:,1], bins=20)\n",
    "plt.show()"
   ]
  },
  {
   "cell_type": "markdown",
   "metadata": {},
   "source": [
    "Split train/test"
   ]
  },
  {
   "cell_type": "code",
   "execution_count": 7,
   "metadata": {
    "collapsed": true
   },
   "outputs": [],
   "source": [
    "train_idx, test_idx = split_train_test_idx(data)"
   ]
  },
  {
   "cell_type": "markdown",
   "metadata": {},
   "source": [
    "List of transitions `(s,a,r,s')`"
   ]
  },
  {
   "cell_type": "code",
   "execution_count": 8,
   "metadata": {
    "scrolled": false
   },
   "outputs": [
    {
     "name": "stderr",
     "output_type": "stream",
     "text": [
      "C:\\Users\\sebastien\\anaconda_notebook\\cs282-f17-sebastian-camilo\\parse_dataset.py:264: FutureWarning: comparison to `None` will result in an elementwise object comparison in the future.\n",
      "  if idx == None:\n"
     ]
    }
   ],
   "source": [
    "transitions_train = transition_iterator(data, train_idx, scaler, log_scaler, action_scaler, RMAX=15, log_action=True)"
   ]
  },
  {
   "cell_type": "code",
   "execution_count": 9,
   "metadata": {},
   "outputs": [
    {
     "name": "stderr",
     "output_type": "stream",
     "text": [
      "C:\\Users\\sebastien\\anaconda_notebook\\cs282-f17-sebastian-camilo\\parse_dataset.py:264: FutureWarning: comparison to `None` will result in an elementwise object comparison in the future.\n",
      "  if idx == None:\n"
     ]
    }
   ],
   "source": [
    "transitions_test = transition_iterator(data, test_idx, scaler, log_scaler, action_scaler, RMAX=15, log_action=True)"
   ]
  },
  {
   "cell_type": "code",
   "execution_count": 10,
   "metadata": {
    "collapsed": true
   },
   "outputs": [],
   "source": [
    "transitions_dict = {k: {\n",
    "    \"s\": values[0],\n",
    "    \"a\": values[1],\n",
    "    \"r\": values[2],\n",
    "    \"s'\": values[3]   \n",
    "}\n",
    " for k, values in enumerate(transitions_train)\n",
    "}"
   ]
  },
  {
   "cell_type": "markdown",
   "metadata": {},
   "source": [
    "Compute bounds for the actions (you don't have right to prescribe less than the min or more than the max). It gives bounds to the possible actions and ensure that the max of Q can actually be found"
   ]
  },
  {
   "cell_type": "code",
   "execution_count": 11,
   "metadata": {
    "collapsed": true
   },
   "outputs": [],
   "source": [
    "min0 = min([d['a'][0] for k, d in transitions_dict.items()])\n",
    "max0 = max([d['a'][0] for k, d in transitions_dict.items()])\n",
    "min1 = min([d['a'][1] for k, d in transitions_dict.items()])\n",
    "max1 = max([d['a'][1] for k, d in transitions_dict.items()])"
   ]
  },
  {
   "cell_type": "markdown",
   "metadata": {},
   "source": [
    "### Build neural network\n",
    "The neural network is convex in $a$\n",
    "\n",
    "$$u_0 = s$$\n",
    "$$z_0 = a$$\n",
    "$$u_{i+1} = \\tilde{g}_i(\\tilde{W}_iu_i+b_i)$$\n",
    "$$z_{i+1} = g_i\\left(W_i^{(z)}(z_i \\cdot (W_i^{(zu)}u_i+b_i^{(z)})_+) + W_i^{(a)}(a \\cdot (W_i^{(au)}u_i+b_i^{(a)})) + W_i^{(u)}u_i+b_i\\right)$$\n",
    "with $$W_i^{(z)}\\geq 0$$\n"
   ]
  },
  {
   "cell_type": "code",
   "execution_count": 12,
   "metadata": {
    "scrolled": true
   },
   "outputs": [
    {
     "data": {
      "text/plain": [
       "ICNNBN (\n",
       "  (activation): Softplus (beta=1, threshold=20)\n",
       "  (u0): Linear (50 -> 50)\n",
       "  (bn_u0): BatchNorm1d(50, eps=0.001, momentum=0.99, affine=True)\n",
       "  (u1): Linear (50 -> 50)\n",
       "  (bn_u1): BatchNorm1d(50, eps=0.001, momentum=0.99, affine=True)\n",
       "  (z_u0): Linear (50 -> 50)\n",
       "  (bn_z_u0): BatchNorm1d(50, eps=0.001, momentum=0.99, affine=True)\n",
       "  (z_au0): Linear (50 -> 2)\n",
       "  (bn_z_au0): BatchNorm1d(2, eps=0.001, momentum=0.99, affine=True)\n",
       "  (z_au_0): Linear (2 -> 50)\n",
       "  (bn_z_au_0): BatchNorm1d(50, eps=0.001, momentum=0.99, affine=True)\n",
       "  (z_u1): Linear (50 -> 50)\n",
       "  (bn_z_u1): BatchNorm1d(50, eps=0.001, momentum=0.99, affine=True)\n",
       "  (z_au1): Linear (50 -> 2)\n",
       "  (bn_z_au1): BatchNorm1d(2, eps=0.001, momentum=0.99, affine=True)\n",
       "  (z_au_1): Linear (2 -> 50)\n",
       "  (bn_z_au_1): BatchNorm1d(50, eps=0.001, momentum=0.99, affine=True)\n",
       "  (z_zu1): Linear (50 -> 50)\n",
       "  (bn_z_zu1): BatchNorm1d(50, eps=0.001, momentum=0.99, affine=True)\n",
       "  (z_zu_1): Linear (50 -> 50)\n",
       "  (bn_z_zu_1): BatchNorm1d(50, eps=0.001, momentum=0.99, affine=True)\n",
       "  (z_u2): Linear (50 -> 1)\n",
       "  (bn_z_u2): BatchNorm1d(1, eps=0.001, momentum=0.99, affine=True)\n",
       "  (z_au2): Linear (50 -> 2)\n",
       "  (bn_z_au2): BatchNorm1d(2, eps=0.001, momentum=0.99, affine=True)\n",
       "  (z_au_2): Linear (2 -> 1)\n",
       "  (bn_z_au_2): BatchNorm1d(1, eps=0.001, momentum=0.99, affine=True)\n",
       "  (z_zu2): Linear (50 -> 50)\n",
       "  (bn_z_zu2): BatchNorm1d(50, eps=0.001, momentum=0.99, affine=True)\n",
       "  (z_zu_2): Linear (50 -> 1)\n",
       "  (bn_z_zu_2): BatchNorm1d(1, eps=0.001, momentum=0.99, affine=True)\n",
       ")"
      ]
     },
     "execution_count": 12,
     "metadata": {},
     "output_type": "execute_result"
    }
   ],
   "source": [
    "# Q_select = ICNN(3, 50, activation=SELU())\n",
    "Q_select = ICNNBN(3, 50, LeakyReLU(-1.))\n",
    "Q_eval = deepcopy(Q_select)\n",
    "Q_eval.eval()"
   ]
  },
  {
   "cell_type": "code",
   "execution_count": 13,
   "metadata": {},
   "outputs": [
    {
     "name": "stdout",
     "output_type": "stream",
     "text": [
      "#params: 19327\n"
     ]
    }
   ],
   "source": [
    "print('#params: %s' % np.sum([np.prod(p.data.numpy().shape) for p in Q_select.parameters()]))"
   ]
  },
  {
   "cell_type": "markdown",
   "metadata": {},
   "source": [
    "# Get PER"
   ]
  },
  {
   "cell_type": "code",
   "execution_count": 14,
   "metadata": {
    "collapsed": true,
    "scrolled": true
   },
   "outputs": [],
   "source": [
    "# CREATE PRIORITIZED ER EXPERIENCE BUFFER\n",
    "memory = PrioritizedReplayBuffer(len(transitions_dict), .6)\n",
    "n_initial_0 = 500  # this is the initial number of transitions having reward 0\n",
    "n_initial_15 = 1000  # this is the initial number of transitions having reward 15\n",
    "n_initial_m15 = 5000  # this is the initial number of transitions having reward -15\n",
    "count_15 = 0\n",
    "count_0 = 0\n",
    "count_m15 = 0\n",
    "\n",
    "saved = set()\n",
    "for idx, tr in shuffle(list(transitions_dict.items())):\n",
    "    save = False\n",
    "    if tr['r'] == 0 and count_0 < n_initial_0:\n",
    "        count_0 += 1\n",
    "        save = True\n",
    "    if tr['r'] == -15 and count_m15 < n_initial_m15:\n",
    "        count_m15 += 1\n",
    "        save = True\n",
    "    if tr['r'] == 15 and count_15 < n_initial_15:\n",
    "        count_15 += 1\n",
    "        save = True\n",
    "    \n",
    "    if save:\n",
    "        saved.add(idx)\n",
    "        # check if state is terminal\n",
    "        if tr[\"s'\"] is not None:\n",
    "            s_ = tr[\"s'\"]\n",
    "            done = False\n",
    "        else:\n",
    "            s_ = np.array(50*[np.nan])\n",
    "            done = True\n",
    "        s = tr['s']\n",
    "        a = tr['a']\n",
    "        r = np.array([tr['r']])\n",
    "\n",
    "        transition = (s,a,r,s_,done)\n",
    "        memory.add(*transition)"
   ]
  },
  {
   "cell_type": "code",
   "execution_count": 15,
   "metadata": {
    "collapsed": true
   },
   "outputs": [],
   "source": [
    "not_present_yet = shuffle([k for k in transitions_dict if k not in saved])"
   ]
  },
  {
   "cell_type": "markdown",
   "metadata": {},
   "source": [
    "# Train model"
   ]
  },
  {
   "cell_type": "code",
   "execution_count": 16,
   "metadata": {},
   "outputs": [
    {
     "name": "stdout",
     "output_type": "stream",
     "text": [
      "ready\n"
     ]
    }
   ],
   "source": [
    "print('ready')"
   ]
  },
  {
   "cell_type": "code",
   "execution_count": 17,
   "metadata": {
    "collapsed": true
   },
   "outputs": [],
   "source": [
    "def clip(x):\n",
    "    \"\"\"\n",
    "    Clip values below -RMAX or above RMAX\n",
    "    Might be useful when the target goes beyond\n",
    "    \"\"\"\n",
    "    return x*((x>=-RMAX).float())*((x<=RMAX).float()) + RMAX*(x>RMAX).float() - RMAX*(x<-RMAX).float()"
   ]
  },
  {
   "cell_type": "code",
   "execution_count": 18,
   "metadata": {
    "collapsed": true
   },
   "outputs": [],
   "source": [
    "def test():\n",
    "    n = len(transitions_test)\n",
    "    for i in range(0, len(transitions_test), batch_size):\n",
    "        transitions = transitions_test[i:i+batch_size]\n",
    "        s = t.cat([variable(tr[0].reshape((1,50))) for tr in transitions])\n",
    "        a = t.cat([variable(tr[1].reshape((1,2))) for tr in transitions])\n",
    "        r = t.cat([variable(tr[2].reshape((1,1))) for tr in transitions])\n",
    "        s_ = t.cat([variable(tr[3].reshape((1,50))) if tr[3] is not None else variable(np.array([50*[np.nan]])) for tr in transitions])\n",
    "        Q_select.eval()\n",
    "        pred = Q_select.forward(s, a).squeeze()  # Q(s, a)\n",
    "        target, max_actions = get_q_target(Q_select, Q_eval, s_, r, min0, max0, min1, max1, gamma=gamma, max_steps_a=max_steps_a, return_max_actions=True)  # max_a' Q(s', a)\n",
    "        Q_select.train()\n",
    "        target = target.squeeze()\n",
    "        if i == 0:\n",
    "            td_error = t.sum(t.abs(pred-target))\n",
    "            avg_Q = t.sum(pred)\n",
    "            max_Q = t.max(pred)\n",
    "            min_Q = t.min(pred)\n",
    "        else:\n",
    "            td_error += t.sum(t.abs(pred-target))\n",
    "            avg_Q += t.sum(pred)\n",
    "            max_Q += t.max(pred)\n",
    "            min_Q += t.min(pred)\n",
    "    return td_error.data.numpy()[0]/n, avg_Q.data.numpy()[0]/n, max_Q.data.numpy()[0]/(n/batch_size), min_Q.data.numpy()[0]/(n/batch_size)\n",
    "        "
   ]
  },
  {
   "cell_type": "markdown",
   "metadata": {},
   "source": [
    "# Idees\n",
    "* lag update ?\n",
    "* commencer avec une proportion egale de +15, -15, 0, et ajouter des 0 a chaque batch\n",
    "* ajouter un terme dans la loss pour penaliser les valeurs extremes, avec une loss ressemblant a $(Q(s, \\alpha) + 15)^2$ avec $\\alpha$ le max des vasos par exemple\n"
   ]
  },
  {
   "cell_type": "code",
   "execution_count": 20,
   "metadata": {
    "collapsed": true
   },
   "outputs": [],
   "source": [
    "def get_q_target(Q_select, Q_eval, next_state, rewards, min0, max0, min1, max1, gamma=1., max_steps_a=5, return_max_actions=False):\n",
    "    next_state_ = []\n",
    "    good = dict()\n",
    "    for i, s in enumerate(next_state):\n",
    "        if not np.isnan(s.data.numpy()[0]):\n",
    "            next_state_.append(s.resize(1, 50))\n",
    "            good[i] = len(good)\n",
    "    if len(good) == 0:\n",
    "        return rewards.squeeze(), variable(np.array(len(rewards)*[[np.nan, np.nan]]))\n",
    "    else:\n",
    "        next_state_ = t.cat(next_state_)\n",
    "        max_action = variable(np.zeros((len(next_state_), 2)), requires_grad=True).float()\n",
    "        prev_action = variable(np.zeros((len(next_state_), 2)), requires_grad=True).float()\n",
    "        input_param = t.nn.Parameter(max_action.data)\n",
    "        optimizer_for_a = t.optim.Rprop([input_param], lr=5e-1)\n",
    "        for k in range(max_steps_a):\n",
    "            max_action, input_param, optimizer_for_a = gradient_step_action(Q_select, next_state_, max_action, min0, max0, min1, max1, input_param=input_param, optimizer=optimizer_for_a)\n",
    "            if np.max(np.abs(prev_action.data.numpy() - max_action.data.numpy())) < 1e-3:\n",
    "                break\n",
    "            prev_action = max_action * 1\n",
    "\n",
    "        pred = Q_eval.forward(next_state_, max_action)\n",
    "        Qvalues = [pred[good[i]].float().resize(1, 1) if i in good else variable(np.zeros((1, 1))).float() for i in range(len(next_state))]\n",
    "        max_prev_Q_value = t.cat(Qvalues, dim=0)\n",
    "        Q_target = rewards.squeeze() + gamma * max_prev_Q_value.squeeze()\n",
    "        if not return_max_actions:\n",
    "            return Q_target\n",
    "        else:\n",
    "            return Q_target, max_action"
   ]
  },
  {
   "cell_type": "code",
   "execution_count": 21,
   "metadata": {
    "scrolled": true
   },
   "outputs": [
    {
     "ename": "KeyboardInterrupt",
     "evalue": "",
     "output_type": "error",
     "traceback": [
      "\u001b[1;31m---------------------------------------------------------------------------\u001b[0m",
      "\u001b[1;31mKeyboardInterrupt\u001b[0m                         Traceback (most recent call last)",
      "\u001b[1;32m<ipython-input-21-8524ca32716e>\u001b[0m in \u001b[0;36m<module>\u001b[1;34m()\u001b[0m\n\u001b[0;32m    124\u001b[0m             \u001b[0mdisplay\u001b[0m\u001b[1;33m.\u001b[0m\u001b[0mclear_output\u001b[0m\u001b[1;33m(\u001b[0m\u001b[0mwait\u001b[0m\u001b[1;33m=\u001b[0m\u001b[1;32mTrue\u001b[0m\u001b[1;33m)\u001b[0m\u001b[1;33m\u001b[0m\u001b[0m\n\u001b[0;32m    125\u001b[0m \u001b[1;33m\u001b[0m\u001b[0m\n\u001b[1;32m--> 126\u001b[1;33m             \u001b[0mfig\u001b[0m\u001b[1;33m,\u001b[0m \u001b[0maxes\u001b[0m \u001b[1;33m=\u001b[0m \u001b[0mplt\u001b[0m\u001b[1;33m.\u001b[0m\u001b[0msubplots\u001b[0m\u001b[1;33m(\u001b[0m\u001b[1;36m3\u001b[0m\u001b[1;33m,\u001b[0m \u001b[1;36m2\u001b[0m\u001b[1;33m)\u001b[0m\u001b[1;33m\u001b[0m\u001b[0m\n\u001b[0m\u001b[0;32m    127\u001b[0m             \u001b[1;31m# td error\u001b[0m\u001b[1;33m\u001b[0m\u001b[1;33m\u001b[0m\u001b[0m\n\u001b[0;32m    128\u001b[0m             \u001b[0maxes\u001b[0m\u001b[1;33m[\u001b[0m\u001b[1;36m0\u001b[0m\u001b[1;33m,\u001b[0m\u001b[1;36m0\u001b[0m\u001b[1;33m]\u001b[0m\u001b[1;33m.\u001b[0m\u001b[0mplot\u001b[0m\u001b[1;33m(\u001b[0m\u001b[0mmoving_avg\u001b[0m\u001b[1;33m(\u001b[0m\u001b[0mlosses\u001b[0m\u001b[1;33m)\u001b[0m\u001b[1;33m)\u001b[0m\u001b[1;33m\u001b[0m\u001b[0m\n",
      "\u001b[1;32mC:\\ProgramData\\Anaconda3\\lib\\site-packages\\matplotlib\\pyplot.py\u001b[0m in \u001b[0;36msubplots\u001b[1;34m(nrows, ncols, sharex, sharey, squeeze, subplot_kw, gridspec_kw, **fig_kw)\u001b[0m\n\u001b[0;32m   1235\u001b[0m         \u001b[1;32melse\u001b[0m\u001b[1;33m:\u001b[0m\u001b[1;33m\u001b[0m\u001b[0m\n\u001b[0;32m   1236\u001b[0m             \u001b[0msubplot_kw\u001b[0m\u001b[1;33m[\u001b[0m\u001b[1;34m'sharey'\u001b[0m\u001b[1;33m]\u001b[0m \u001b[1;33m=\u001b[0m \u001b[0maxarr\u001b[0m\u001b[1;33m[\u001b[0m\u001b[0msys\u001b[0m\u001b[1;33m[\u001b[0m\u001b[0mi\u001b[0m\u001b[1;33m]\u001b[0m\u001b[1;33m]\u001b[0m\u001b[1;33m\u001b[0m\u001b[0m\n\u001b[1;32m-> 1237\u001b[1;33m         \u001b[0maxarr\u001b[0m\u001b[1;33m[\u001b[0m\u001b[0mi\u001b[0m\u001b[1;33m]\u001b[0m \u001b[1;33m=\u001b[0m \u001b[0mfig\u001b[0m\u001b[1;33m.\u001b[0m\u001b[0madd_subplot\u001b[0m\u001b[1;33m(\u001b[0m\u001b[0mgs\u001b[0m\u001b[1;33m[\u001b[0m\u001b[0mi\u001b[0m \u001b[1;33m//\u001b[0m \u001b[0mncols\u001b[0m\u001b[1;33m,\u001b[0m \u001b[0mi\u001b[0m \u001b[1;33m%\u001b[0m \u001b[0mncols\u001b[0m\u001b[1;33m]\u001b[0m\u001b[1;33m,\u001b[0m \u001b[1;33m**\u001b[0m\u001b[0msubplot_kw\u001b[0m\u001b[1;33m)\u001b[0m\u001b[1;33m\u001b[0m\u001b[0m\n\u001b[0m\u001b[0;32m   1238\u001b[0m \u001b[1;33m\u001b[0m\u001b[0m\n\u001b[0;32m   1239\u001b[0m     \u001b[1;31m# returned axis array will be always 2-d, even if nrows=ncols=1\u001b[0m\u001b[1;33m\u001b[0m\u001b[1;33m\u001b[0m\u001b[0m\n",
      "\u001b[1;32mC:\\ProgramData\\Anaconda3\\lib\\site-packages\\matplotlib\\figure.py\u001b[0m in \u001b[0;36madd_subplot\u001b[1;34m(self, *args, **kwargs)\u001b[0m\n\u001b[0;32m   1019\u001b[0m                     \u001b[0mself\u001b[0m\u001b[1;33m.\u001b[0m\u001b[0m_axstack\u001b[0m\u001b[1;33m.\u001b[0m\u001b[0mremove\u001b[0m\u001b[1;33m(\u001b[0m\u001b[0max\u001b[0m\u001b[1;33m)\u001b[0m\u001b[1;33m\u001b[0m\u001b[0m\n\u001b[0;32m   1020\u001b[0m \u001b[1;33m\u001b[0m\u001b[0m\n\u001b[1;32m-> 1021\u001b[1;33m             \u001b[0ma\u001b[0m \u001b[1;33m=\u001b[0m \u001b[0msubplot_class_factory\u001b[0m\u001b[1;33m(\u001b[0m\u001b[0mprojection_class\u001b[0m\u001b[1;33m)\u001b[0m\u001b[1;33m(\u001b[0m\u001b[0mself\u001b[0m\u001b[1;33m,\u001b[0m \u001b[1;33m*\u001b[0m\u001b[0margs\u001b[0m\u001b[1;33m,\u001b[0m \u001b[1;33m**\u001b[0m\u001b[0mkwargs\u001b[0m\u001b[1;33m)\u001b[0m\u001b[1;33m\u001b[0m\u001b[0m\n\u001b[0m\u001b[0;32m   1022\u001b[0m \u001b[1;33m\u001b[0m\u001b[0m\n\u001b[0;32m   1023\u001b[0m         \u001b[0mself\u001b[0m\u001b[1;33m.\u001b[0m\u001b[0m_axstack\u001b[0m\u001b[1;33m.\u001b[0m\u001b[0madd\u001b[0m\u001b[1;33m(\u001b[0m\u001b[0mkey\u001b[0m\u001b[1;33m,\u001b[0m \u001b[0ma\u001b[0m\u001b[1;33m)\u001b[0m\u001b[1;33m\u001b[0m\u001b[0m\n",
      "\u001b[1;32mC:\\ProgramData\\Anaconda3\\lib\\site-packages\\matplotlib\\axes\\_subplots.py\u001b[0m in \u001b[0;36m__init__\u001b[1;34m(self, fig, *args, **kwargs)\u001b[0m\n\u001b[0;32m     71\u001b[0m \u001b[1;33m\u001b[0m\u001b[0m\n\u001b[0;32m     72\u001b[0m         \u001b[1;31m# _axes_class is set in the subplot_class_factory\u001b[0m\u001b[1;33m\u001b[0m\u001b[1;33m\u001b[0m\u001b[0m\n\u001b[1;32m---> 73\u001b[1;33m         \u001b[0mself\u001b[0m\u001b[1;33m.\u001b[0m\u001b[0m_axes_class\u001b[0m\u001b[1;33m.\u001b[0m\u001b[0m__init__\u001b[0m\u001b[1;33m(\u001b[0m\u001b[0mself\u001b[0m\u001b[1;33m,\u001b[0m \u001b[0mfig\u001b[0m\u001b[1;33m,\u001b[0m \u001b[0mself\u001b[0m\u001b[1;33m.\u001b[0m\u001b[0mfigbox\u001b[0m\u001b[1;33m,\u001b[0m \u001b[1;33m**\u001b[0m\u001b[0mkwargs\u001b[0m\u001b[1;33m)\u001b[0m\u001b[1;33m\u001b[0m\u001b[0m\n\u001b[0m\u001b[0;32m     74\u001b[0m \u001b[1;33m\u001b[0m\u001b[0m\n\u001b[0;32m     75\u001b[0m     \u001b[1;32mdef\u001b[0m \u001b[0m__reduce__\u001b[0m\u001b[1;33m(\u001b[0m\u001b[0mself\u001b[0m\u001b[1;33m)\u001b[0m\u001b[1;33m:\u001b[0m\u001b[1;33m\u001b[0m\u001b[0m\n",
      "\u001b[1;32mC:\\ProgramData\\Anaconda3\\lib\\site-packages\\matplotlib\\axes\\_base.py\u001b[0m in \u001b[0;36m__init__\u001b[1;34m(self, fig, rect, facecolor, frameon, sharex, sharey, label, xscale, yscale, axisbg, **kwargs)\u001b[0m\n\u001b[0;32m    527\u001b[0m \u001b[1;33m\u001b[0m\u001b[0m\n\u001b[0;32m    528\u001b[0m         \u001b[1;31m# this call may differ for non-sep axes, e.g., polar\u001b[0m\u001b[1;33m\u001b[0m\u001b[1;33m\u001b[0m\u001b[0m\n\u001b[1;32m--> 529\u001b[1;33m         \u001b[0mself\u001b[0m\u001b[1;33m.\u001b[0m\u001b[0m_init_axis\u001b[0m\u001b[1;33m(\u001b[0m\u001b[1;33m)\u001b[0m\u001b[1;33m\u001b[0m\u001b[0m\n\u001b[0m\u001b[0;32m    530\u001b[0m         \u001b[1;32mif\u001b[0m \u001b[0maxisbg\u001b[0m \u001b[1;32mis\u001b[0m \u001b[1;32mnot\u001b[0m \u001b[1;32mNone\u001b[0m \u001b[1;32mand\u001b[0m \u001b[0mfacecolor\u001b[0m \u001b[1;32mis\u001b[0m \u001b[1;32mnot\u001b[0m \u001b[1;32mNone\u001b[0m\u001b[1;33m:\u001b[0m\u001b[1;33m\u001b[0m\u001b[0m\n\u001b[0;32m    531\u001b[0m             raise TypeError('Both axisbg and facecolor are not None. '\n",
      "\u001b[1;32mC:\\ProgramData\\Anaconda3\\lib\\site-packages\\matplotlib\\axes\\_base.py\u001b[0m in \u001b[0;36m_init_axis\u001b[1;34m(self)\u001b[0m\n\u001b[0;32m    621\u001b[0m         \u001b[1;34m\"move this out of __init__ because non-separable axes don't use it\"\u001b[0m\u001b[1;33m\u001b[0m\u001b[0m\n\u001b[0;32m    622\u001b[0m         \u001b[0mself\u001b[0m\u001b[1;33m.\u001b[0m\u001b[0mxaxis\u001b[0m \u001b[1;33m=\u001b[0m \u001b[0mmaxis\u001b[0m\u001b[1;33m.\u001b[0m\u001b[0mXAxis\u001b[0m\u001b[1;33m(\u001b[0m\u001b[0mself\u001b[0m\u001b[1;33m)\u001b[0m\u001b[1;33m\u001b[0m\u001b[0m\n\u001b[1;32m--> 623\u001b[1;33m         \u001b[0mself\u001b[0m\u001b[1;33m.\u001b[0m\u001b[0mspines\u001b[0m\u001b[1;33m[\u001b[0m\u001b[1;34m'bottom'\u001b[0m\u001b[1;33m]\u001b[0m\u001b[1;33m.\u001b[0m\u001b[0mregister_axis\u001b[0m\u001b[1;33m(\u001b[0m\u001b[0mself\u001b[0m\u001b[1;33m.\u001b[0m\u001b[0mxaxis\u001b[0m\u001b[1;33m)\u001b[0m\u001b[1;33m\u001b[0m\u001b[0m\n\u001b[0m\u001b[0;32m    624\u001b[0m         \u001b[0mself\u001b[0m\u001b[1;33m.\u001b[0m\u001b[0mspines\u001b[0m\u001b[1;33m[\u001b[0m\u001b[1;34m'top'\u001b[0m\u001b[1;33m]\u001b[0m\u001b[1;33m.\u001b[0m\u001b[0mregister_axis\u001b[0m\u001b[1;33m(\u001b[0m\u001b[0mself\u001b[0m\u001b[1;33m.\u001b[0m\u001b[0mxaxis\u001b[0m\u001b[1;33m)\u001b[0m\u001b[1;33m\u001b[0m\u001b[0m\n\u001b[0;32m    625\u001b[0m         \u001b[0mself\u001b[0m\u001b[1;33m.\u001b[0m\u001b[0myaxis\u001b[0m \u001b[1;33m=\u001b[0m \u001b[0mmaxis\u001b[0m\u001b[1;33m.\u001b[0m\u001b[0mYAxis\u001b[0m\u001b[1;33m(\u001b[0m\u001b[0mself\u001b[0m\u001b[1;33m)\u001b[0m\u001b[1;33m\u001b[0m\u001b[0m\n",
      "\u001b[1;32mC:\\ProgramData\\Anaconda3\\lib\\site-packages\\matplotlib\\spines.py\u001b[0m in \u001b[0;36mregister_axis\u001b[1;34m(self, axis)\u001b[0m\n\u001b[0;32m    161\u001b[0m         \u001b[0mself\u001b[0m\u001b[1;33m.\u001b[0m\u001b[0maxis\u001b[0m \u001b[1;33m=\u001b[0m \u001b[0maxis\u001b[0m\u001b[1;33m\u001b[0m\u001b[0m\n\u001b[0;32m    162\u001b[0m         \u001b[1;32mif\u001b[0m \u001b[0mself\u001b[0m\u001b[1;33m.\u001b[0m\u001b[0maxis\u001b[0m \u001b[1;32mis\u001b[0m \u001b[1;32mnot\u001b[0m \u001b[1;32mNone\u001b[0m\u001b[1;33m:\u001b[0m\u001b[1;33m\u001b[0m\u001b[0m\n\u001b[1;32m--> 163\u001b[1;33m             \u001b[0mself\u001b[0m\u001b[1;33m.\u001b[0m\u001b[0maxis\u001b[0m\u001b[1;33m.\u001b[0m\u001b[0mcla\u001b[0m\u001b[1;33m(\u001b[0m\u001b[1;33m)\u001b[0m\u001b[1;33m\u001b[0m\u001b[0m\n\u001b[0m\u001b[0;32m    164\u001b[0m         \u001b[0mself\u001b[0m\u001b[1;33m.\u001b[0m\u001b[0mstale\u001b[0m \u001b[1;33m=\u001b[0m \u001b[1;32mTrue\u001b[0m\u001b[1;33m\u001b[0m\u001b[0m\n\u001b[0;32m    165\u001b[0m \u001b[1;33m\u001b[0m\u001b[0m\n",
      "\u001b[1;32mC:\\ProgramData\\Anaconda3\\lib\\site-packages\\matplotlib\\axis.py\u001b[0m in \u001b[0;36mcla\u001b[1;34m(self)\u001b[0m\n\u001b[0;32m    758\u001b[0m         \u001b[0mself\u001b[0m\u001b[1;33m.\u001b[0m\u001b[0m_set_artist_props\u001b[0m\u001b[1;33m(\u001b[0m\u001b[0mself\u001b[0m\u001b[1;33m.\u001b[0m\u001b[0mlabel\u001b[0m\u001b[1;33m)\u001b[0m\u001b[1;33m\u001b[0m\u001b[0m\n\u001b[0;32m    759\u001b[0m \u001b[1;33m\u001b[0m\u001b[0m\n\u001b[1;32m--> 760\u001b[1;33m         \u001b[0mself\u001b[0m\u001b[1;33m.\u001b[0m\u001b[0mreset_ticks\u001b[0m\u001b[1;33m(\u001b[0m\u001b[1;33m)\u001b[0m\u001b[1;33m\u001b[0m\u001b[0m\n\u001b[0m\u001b[0;32m    761\u001b[0m \u001b[1;33m\u001b[0m\u001b[0m\n\u001b[0;32m    762\u001b[0m         \u001b[0mself\u001b[0m\u001b[1;33m.\u001b[0m\u001b[0mconverter\u001b[0m \u001b[1;33m=\u001b[0m \u001b[1;32mNone\u001b[0m\u001b[1;33m\u001b[0m\u001b[0m\n",
      "\u001b[1;32mC:\\ProgramData\\Anaconda3\\lib\\site-packages\\matplotlib\\axis.py\u001b[0m in \u001b[0;36mreset_ticks\u001b[1;34m(self)\u001b[0m\n\u001b[0;32m    772\u001b[0m         \u001b[0mcbook\u001b[0m\u001b[1;33m.\u001b[0m\u001b[0mpopall\u001b[0m\u001b[1;33m(\u001b[0m\u001b[0mself\u001b[0m\u001b[1;33m.\u001b[0m\u001b[0mminorTicks\u001b[0m\u001b[1;33m)\u001b[0m\u001b[1;33m\u001b[0m\u001b[0m\n\u001b[0;32m    773\u001b[0m \u001b[1;33m\u001b[0m\u001b[0m\n\u001b[1;32m--> 774\u001b[1;33m         \u001b[0mself\u001b[0m\u001b[1;33m.\u001b[0m\u001b[0mmajorTicks\u001b[0m\u001b[1;33m.\u001b[0m\u001b[0mextend\u001b[0m\u001b[1;33m(\u001b[0m\u001b[1;33m[\u001b[0m\u001b[0mself\u001b[0m\u001b[1;33m.\u001b[0m\u001b[0m_get_tick\u001b[0m\u001b[1;33m(\u001b[0m\u001b[0mmajor\u001b[0m\u001b[1;33m=\u001b[0m\u001b[1;32mTrue\u001b[0m\u001b[1;33m)\u001b[0m\u001b[1;33m]\u001b[0m\u001b[1;33m)\u001b[0m\u001b[1;33m\u001b[0m\u001b[0m\n\u001b[0m\u001b[0;32m    775\u001b[0m         \u001b[0mself\u001b[0m\u001b[1;33m.\u001b[0m\u001b[0mminorTicks\u001b[0m\u001b[1;33m.\u001b[0m\u001b[0mextend\u001b[0m\u001b[1;33m(\u001b[0m\u001b[1;33m[\u001b[0m\u001b[0mself\u001b[0m\u001b[1;33m.\u001b[0m\u001b[0m_get_tick\u001b[0m\u001b[1;33m(\u001b[0m\u001b[0mmajor\u001b[0m\u001b[1;33m=\u001b[0m\u001b[1;32mFalse\u001b[0m\u001b[1;33m)\u001b[0m\u001b[1;33m]\u001b[0m\u001b[1;33m)\u001b[0m\u001b[1;33m\u001b[0m\u001b[0m\n\u001b[0;32m    776\u001b[0m         \u001b[0mself\u001b[0m\u001b[1;33m.\u001b[0m\u001b[0m_lastNumMajorTicks\u001b[0m \u001b[1;33m=\u001b[0m \u001b[1;36m1\u001b[0m\u001b[1;33m\u001b[0m\u001b[0m\n",
      "\u001b[1;32mC:\\ProgramData\\Anaconda3\\lib\\site-packages\\matplotlib\\axis.py\u001b[0m in \u001b[0;36m_get_tick\u001b[1;34m(self, major)\u001b[0m\n\u001b[0;32m   1727\u001b[0m         \u001b[1;32melse\u001b[0m\u001b[1;33m:\u001b[0m\u001b[1;33m\u001b[0m\u001b[0m\n\u001b[0;32m   1728\u001b[0m             \u001b[0mtick_kw\u001b[0m \u001b[1;33m=\u001b[0m \u001b[0mself\u001b[0m\u001b[1;33m.\u001b[0m\u001b[0m_minor_tick_kw\u001b[0m\u001b[1;33m\u001b[0m\u001b[0m\n\u001b[1;32m-> 1729\u001b[1;33m         \u001b[1;32mreturn\u001b[0m \u001b[0mXTick\u001b[0m\u001b[1;33m(\u001b[0m\u001b[0mself\u001b[0m\u001b[1;33m.\u001b[0m\u001b[0maxes\u001b[0m\u001b[1;33m,\u001b[0m \u001b[1;36m0\u001b[0m\u001b[1;33m,\u001b[0m \u001b[1;34m''\u001b[0m\u001b[1;33m,\u001b[0m \u001b[0mmajor\u001b[0m\u001b[1;33m=\u001b[0m\u001b[0mmajor\u001b[0m\u001b[1;33m,\u001b[0m \u001b[1;33m**\u001b[0m\u001b[0mtick_kw\u001b[0m\u001b[1;33m)\u001b[0m\u001b[1;33m\u001b[0m\u001b[0m\n\u001b[0m\u001b[0;32m   1730\u001b[0m \u001b[1;33m\u001b[0m\u001b[0m\n\u001b[0;32m   1731\u001b[0m     \u001b[1;32mdef\u001b[0m \u001b[0m_get_label\u001b[0m\u001b[1;33m(\u001b[0m\u001b[0mself\u001b[0m\u001b[1;33m)\u001b[0m\u001b[1;33m:\u001b[0m\u001b[1;33m\u001b[0m\u001b[0m\n",
      "\u001b[1;32mC:\\ProgramData\\Anaconda3\\lib\\site-packages\\matplotlib\\axis.py\u001b[0m in \u001b[0;36m__init__\u001b[1;34m(self, axes, loc, label, size, width, color, tickdir, pad, labelsize, labelcolor, zorder, gridOn, tick1On, tick2On, label1On, label2On, major)\u001b[0m\n\u001b[0;32m    150\u001b[0m         \u001b[0mself\u001b[0m\u001b[1;33m.\u001b[0m\u001b[0mtick1line\u001b[0m \u001b[1;33m=\u001b[0m \u001b[0mself\u001b[0m\u001b[1;33m.\u001b[0m\u001b[0m_get_tick1line\u001b[0m\u001b[1;33m(\u001b[0m\u001b[1;33m)\u001b[0m\u001b[1;33m\u001b[0m\u001b[0m\n\u001b[0;32m    151\u001b[0m         \u001b[0mself\u001b[0m\u001b[1;33m.\u001b[0m\u001b[0mtick2line\u001b[0m \u001b[1;33m=\u001b[0m \u001b[0mself\u001b[0m\u001b[1;33m.\u001b[0m\u001b[0m_get_tick2line\u001b[0m\u001b[1;33m(\u001b[0m\u001b[1;33m)\u001b[0m\u001b[1;33m\u001b[0m\u001b[0m\n\u001b[1;32m--> 152\u001b[1;33m         \u001b[0mself\u001b[0m\u001b[1;33m.\u001b[0m\u001b[0mgridline\u001b[0m \u001b[1;33m=\u001b[0m \u001b[0mself\u001b[0m\u001b[1;33m.\u001b[0m\u001b[0m_get_gridline\u001b[0m\u001b[1;33m(\u001b[0m\u001b[1;33m)\u001b[0m\u001b[1;33m\u001b[0m\u001b[0m\n\u001b[0m\u001b[0;32m    153\u001b[0m \u001b[1;33m\u001b[0m\u001b[0m\n\u001b[0;32m    154\u001b[0m         \u001b[0mself\u001b[0m\u001b[1;33m.\u001b[0m\u001b[0mlabel1\u001b[0m \u001b[1;33m=\u001b[0m \u001b[0mself\u001b[0m\u001b[1;33m.\u001b[0m\u001b[0m_get_text1\u001b[0m\u001b[1;33m(\u001b[0m\u001b[1;33m)\u001b[0m\u001b[1;33m\u001b[0m\u001b[0m\n",
      "\u001b[1;32mC:\\ProgramData\\Anaconda3\\lib\\site-packages\\matplotlib\\axis.py\u001b[0m in \u001b[0;36m_get_gridline\u001b[1;34m(self)\u001b[0m\n\u001b[0;32m    448\u001b[0m                           markersize=0)\n\u001b[0;32m    449\u001b[0m         \u001b[0ml\u001b[0m\u001b[1;33m.\u001b[0m\u001b[0mset_transform\u001b[0m\u001b[1;33m(\u001b[0m\u001b[0mself\u001b[0m\u001b[1;33m.\u001b[0m\u001b[0maxes\u001b[0m\u001b[1;33m.\u001b[0m\u001b[0mget_xaxis_transform\u001b[0m\u001b[1;33m(\u001b[0m\u001b[0mwhich\u001b[0m\u001b[1;33m=\u001b[0m\u001b[1;34m'grid'\u001b[0m\u001b[1;33m)\u001b[0m\u001b[1;33m)\u001b[0m\u001b[1;33m\u001b[0m\u001b[0m\n\u001b[1;32m--> 450\u001b[1;33m         \u001b[0ml\u001b[0m\u001b[1;33m.\u001b[0m\u001b[0mget_path\u001b[0m\u001b[1;33m(\u001b[0m\u001b[1;33m)\u001b[0m\u001b[1;33m.\u001b[0m\u001b[0m_interpolation_steps\u001b[0m \u001b[1;33m=\u001b[0m \u001b[0mGRIDLINE_INTERPOLATION_STEPS\u001b[0m\u001b[1;33m\u001b[0m\u001b[0m\n\u001b[0m\u001b[0;32m    451\u001b[0m         \u001b[0mself\u001b[0m\u001b[1;33m.\u001b[0m\u001b[0m_set_artist_props\u001b[0m\u001b[1;33m(\u001b[0m\u001b[0ml\u001b[0m\u001b[1;33m)\u001b[0m\u001b[1;33m\u001b[0m\u001b[0m\n\u001b[0;32m    452\u001b[0m \u001b[1;33m\u001b[0m\u001b[0m\n",
      "\u001b[1;32mC:\\ProgramData\\Anaconda3\\lib\\site-packages\\matplotlib\\lines.py\u001b[0m in \u001b[0;36mget_path\u001b[1;34m(self)\u001b[0m\n\u001b[0;32m    987\u001b[0m         \"\"\"\n\u001b[0;32m    988\u001b[0m         \u001b[1;32mif\u001b[0m \u001b[0mself\u001b[0m\u001b[1;33m.\u001b[0m\u001b[0m_invalidy\u001b[0m \u001b[1;32mor\u001b[0m \u001b[0mself\u001b[0m\u001b[1;33m.\u001b[0m\u001b[0m_invalidx\u001b[0m\u001b[1;33m:\u001b[0m\u001b[1;33m\u001b[0m\u001b[0m\n\u001b[1;32m--> 989\u001b[1;33m             \u001b[0mself\u001b[0m\u001b[1;33m.\u001b[0m\u001b[0mrecache\u001b[0m\u001b[1;33m(\u001b[0m\u001b[1;33m)\u001b[0m\u001b[1;33m\u001b[0m\u001b[0m\n\u001b[0m\u001b[0;32m    990\u001b[0m         \u001b[1;32mreturn\u001b[0m \u001b[0mself\u001b[0m\u001b[1;33m.\u001b[0m\u001b[0m_path\u001b[0m\u001b[1;33m\u001b[0m\u001b[0m\n\u001b[0;32m    991\u001b[0m \u001b[1;33m\u001b[0m\u001b[0m\n",
      "\u001b[1;32mC:\\ProgramData\\Anaconda3\\lib\\site-packages\\matplotlib\\lines.py\u001b[0m in \u001b[0;36mrecache\u001b[1;34m(self, always)\u001b[0m\n\u001b[0;32m    697\u001b[0m \u001b[1;33m\u001b[0m\u001b[0m\n\u001b[0;32m    698\u001b[0m         \u001b[0mself\u001b[0m\u001b[1;33m.\u001b[0m\u001b[0m_xy\u001b[0m \u001b[1;33m=\u001b[0m \u001b[0mnp\u001b[0m\u001b[1;33m.\u001b[0m\u001b[0mempty\u001b[0m\u001b[1;33m(\u001b[0m\u001b[1;33m(\u001b[0m\u001b[0mlen\u001b[0m\u001b[1;33m(\u001b[0m\u001b[0mx\u001b[0m\u001b[1;33m)\u001b[0m\u001b[1;33m,\u001b[0m \u001b[1;36m2\u001b[0m\u001b[1;33m)\u001b[0m\u001b[1;33m,\u001b[0m \u001b[0mdtype\u001b[0m\u001b[1;33m=\u001b[0m\u001b[0mnp\u001b[0m\u001b[1;33m.\u001b[0m\u001b[0mfloat_\u001b[0m\u001b[1;33m)\u001b[0m\u001b[1;33m\u001b[0m\u001b[0m\n\u001b[1;32m--> 699\u001b[1;33m         \u001b[0mself\u001b[0m\u001b[1;33m.\u001b[0m\u001b[0m_xy\u001b[0m\u001b[1;33m[\u001b[0m\u001b[1;33m:\u001b[0m\u001b[1;33m,\u001b[0m \u001b[1;36m0\u001b[0m\u001b[1;33m]\u001b[0m \u001b[1;33m=\u001b[0m \u001b[0mx\u001b[0m\u001b[1;33m\u001b[0m\u001b[0m\n\u001b[0m\u001b[0;32m    700\u001b[0m         \u001b[0mself\u001b[0m\u001b[1;33m.\u001b[0m\u001b[0m_xy\u001b[0m\u001b[1;33m[\u001b[0m\u001b[1;33m:\u001b[0m\u001b[1;33m,\u001b[0m \u001b[1;36m1\u001b[0m\u001b[1;33m]\u001b[0m \u001b[1;33m=\u001b[0m \u001b[0my\u001b[0m\u001b[1;33m\u001b[0m\u001b[0m\n\u001b[0;32m    701\u001b[0m \u001b[1;33m\u001b[0m\u001b[0m\n",
      "\u001b[1;31mKeyboardInterrupt\u001b[0m: "
     ]
    }
   ],
   "source": [
    "from time import time\n",
    "plt.rcParams['figure.figsize'] = (20,20)\n",
    "\n",
    "# RL parameters\n",
    "global_step = -1\n",
    "EPOCHS = 100\n",
    "gamma = .99\n",
    "max_steps_beta = 100000\n",
    "beta0 = .4\n",
    "beta = lambda t: (t<max_steps_beta)*(beta0 + t*(1-beta0)/max_steps_beta) + (t>=max_steps_beta)*1.\n",
    "RMAX = 15\n",
    "c = 1e4\n",
    "T_UPDATE = 200  # parameter to copy the weights periodically\n",
    "\n",
    "# OPTIMIZER PARAMETERS\n",
    "batch_size = 32\n",
    "learning_rate = 1e-3  # can have higher than default value if use BatchNorm\n",
    "optimizer = t.optim.Adam(Q_select.parameters(), lr=learning_rate)\n",
    "max_steps = int(len(data) / batch_size)\n",
    "max_steps_a = 8\n",
    "\n",
    "# monitoring\n",
    "losses = []\n",
    "td_errors = []\n",
    "test_td_errors = []\n",
    "test_average_q_pred = []\n",
    "test_max_q_pred = []\n",
    "test_min_q_pred = []\n",
    "average_q_pred = []\n",
    "average_q_target = []\n",
    "max_q_pred = []\n",
    "min_q_pred = []\n",
    "max_q_target = []\n",
    "min_q_target = []\n",
    "average_vaso = []\n",
    "max_vaso = []\n",
    "min_vaso = []\n",
    "average_fluid = []\n",
    "max_fluid = []\n",
    "min_fluid = []\n",
    "\n",
    "\n",
    "# TRAIN\n",
    "for _ in range(EPOCHS):\n",
    "    t0 = time()\n",
    "    for step in range(max_steps):\n",
    "        global_step += 1\n",
    "\n",
    "        # Add transition in memory\n",
    "        idx = not_present_yet.pop()\n",
    "        tr = transitions_dict[idx]\n",
    "        if tr[\"s'\"] is not None:\n",
    "            s_ = tr[\"s'\"]\n",
    "            done = False\n",
    "        else:\n",
    "            s_ = np.array(50*[np.nan])\n",
    "            done = True\n",
    "        s = tr['s']\n",
    "        a = tr['a']\n",
    "        r = np.array([tr['r']])\n",
    "        transition = (s,a,r,s_,done)\n",
    "        memory.add(*transition)\n",
    "        \n",
    "        # Sample batch\n",
    "        s,a,r,s_,done,w,idx = memory.sample(batch_size, beta(global_step))\n",
    "        states = variable(s)\n",
    "        actions = variable(a)\n",
    "        rewards = variable(r)\n",
    "        next_states = variable(s_)\n",
    "        weights = variable(w).squeeze()\n",
    "        \n",
    "        # Init grad (set all of them to zero)\n",
    "        optimizer.zero_grad()\n",
    "\n",
    "        # Compute loss\n",
    "        pred = Q_select.forward(states, actions).squeeze()  # Q(s, a)\n",
    "        Q_select.eval()\n",
    "        target, max_actions = get_q_target(Q_select, Q_eval, next_states, rewards, min0, max0, min1, max1, gamma=gamma, max_steps_a=max_steps_a, return_max_actions=True)  # max_a' Q(s', a)\n",
    "        Q_select.train()\n",
    "        target = clip(target.squeeze())\n",
    "        loss = (pred-target)\n",
    "        loss = loss**2\n",
    "        loss = loss*weights  # multiplication by the PER coefficients\n",
    "        loss = t.mean(loss) + c*t.mean(loss_beyond_RMAX(pred, RMAX))\n",
    "        \n",
    "        # Update priorities\n",
    "        td_error = t.abs(pred - target) + 1e-3\n",
    "        memory.update_priorities(idx, td_error.data.numpy())\n",
    "        \n",
    "        # Monitoring\n",
    "        losses.append(loss.data.numpy()[0])\n",
    "        td_errors.append(td_error.data.numpy().mean())\n",
    "        average_q_pred.append(t.mean(pred).squeeze().data.numpy()[0])\n",
    "        max_q_pred.append(t.max(pred).squeeze().data.numpy()[0])\n",
    "        min_q_pred.append(t.min(pred).squeeze().data.numpy()[0])\n",
    "        average_q_target.append(t.mean(target).squeeze().data.numpy()[0])\n",
    "        max_q_target.append(t.max(target).squeeze().data.numpy()[0])\n",
    "        min_q_target.append(t.min(target).squeeze().data.numpy()[0])\n",
    "        min_a = np.min(max_actions.data.numpy(), 0).squeeze()\n",
    "        max_a = np.max(max_actions.data.numpy(), 0).squeeze()\n",
    "        mean_a = np.mean(max_actions.data.numpy(), 0).squeeze()\n",
    "        min_vaso.append(min_a[0])\n",
    "        max_vaso.append(max_a[0])\n",
    "        average_vaso.append(mean_a[0])\n",
    "        min_fluid.append(min_a[1])\n",
    "        max_fluid.append(max_a[1])\n",
    "        average_fluid.append(mean_a[1])\n",
    "        \n",
    "        # Compute gradients and update weights of the selection network\n",
    "        loss.backward()\n",
    "        clip_gradients(Q_select, 10)\n",
    "        optimizer.step()\n",
    "        \n",
    "        # Keep weights positive so that the Q_select stays concave\n",
    "        Q_select.proj()\n",
    "        \n",
    "        # update parameters of the evaluation network. Its weights lag behind\n",
    "        if global_step % T_UPDATE == 0:\n",
    "            Q_eval = deepcopy(Q_select)\n",
    "            Q_eval.eval()\n",
    "\n",
    "        # PLOT\n",
    "        if step % 250 == 0:\n",
    "            display.clear_output(wait=True)\n",
    "            \n",
    "            fig, axes = plt.subplots(3, 2)\n",
    "            # td error\n",
    "            axes[0,0].plot(moving_avg(losses))\n",
    "            axes[0,1].plot(moving_avg(td_errors))\n",
    "            # Q values (target and pred)\n",
    "            axes[1,0].plot(moving_avg(average_q_pred), label='avg pred', c='darkblue')\n",
    "            axes[1,0].plot(moving_avg(min_q_pred), label='min pred', c='darkblue', alpha=.8,linestyle=':')\n",
    "            axes[1,0].plot(moving_avg(max_q_pred), label='max pred', c='darkblue', alpha=.8,linestyle=':')\n",
    "            axes[1,0].plot(moving_avg(average_q_target), label='avg target', c='crimson')\n",
    "            axes[1,0].plot(moving_avg(min_q_target), label='min target', c='crimson', alpha=.8,linestyle=':')\n",
    "            axes[1,0].plot(moving_avg(max_q_target), label='max target', c='crimson', alpha=.8,linestyle=':')\n",
    "            axes[1,1].plot(moving_avg(average_q_pred[200:]), label='avg pred', c='darkblue')\n",
    "            axes[1,1].plot(moving_avg(min_q_pred[200:]), label='min pred', c='darkblue', alpha=.8,linestyle=':')\n",
    "            axes[1,1].plot(moving_avg(max_q_pred[200:]), label='max pred', c='darkblue', alpha=.8,linestyle=':')\n",
    "            axes[1,1].plot(moving_avg(average_q_target[200:]), label='avg target', c='crimson')\n",
    "            axes[1,1].plot(moving_avg(min_q_target[200:]), label='min target', c='crimson', alpha=.8,linestyle=':')\n",
    "            axes[1,1].plot(moving_avg(max_q_target[200:]), label='max target', c='crimson', alpha=.8,linestyle=':')\n",
    "            axes[1,1].legend(loc='center left', bbox_to_anchor=(1, 0.5))\n",
    "            # actions (vaso and fluid)\n",
    "            axes[2,0].plot(moving_avg(average_fluid), label='avg fluid', c='darkblue')\n",
    "            axes[2,0].plot(moving_avg(min_fluid), label='min fluid', c='darkblue', alpha=.8,linestyle=':')\n",
    "            axes[2,0].plot(moving_avg(max_fluid), label='max fluid', c='darkblue', alpha=.8,linestyle=':')\n",
    "            axes[2,0].plot(moving_avg(average_vaso), label='avg vaso', c='crimson')\n",
    "            axes[2,0].plot(moving_avg(min_vaso), label='min vaso', c='crimson', alpha=.8,linestyle=':')\n",
    "            axes[2,0].plot(moving_avg(max_vaso), label='max vaso', c='crimson', alpha=.8,linestyle=':')\n",
    "            axes[2,1].plot(moving_avg(average_fluid[200:]), label='avg fluid', c='darkblue')\n",
    "            axes[2,1].plot(moving_avg(min_fluid[200:]), label='min fluid', c='darkblue', alpha=.8,linestyle=':')\n",
    "            axes[2,1].plot(moving_avg(max_fluid[200:]), label='max fluid', c='darkblue', alpha=.8,linestyle=':')\n",
    "            axes[2,1].plot(moving_avg(average_vaso[200:]), label='avg vaso', c='crimson')\n",
    "            axes[2,1].plot(moving_avg(min_vaso[200:]), label='min vaso', c='crimson', alpha=.8,linestyle=':')\n",
    "            axes[2,1].plot(moving_avg(max_vaso[200:]), label='max vaso', c='crimson', alpha=.8,linestyle=':')\n",
    "            axes[2,1].legend(loc='center left', bbox_to_anchor=(1, 0.5))\n",
    "            plt.tight_layout()\n",
    "            plt.show()\n",
    "            \n",
    "            print('Epoch %s\\n%s steps in this epoch\\n%s steps/s' % (str(_), str(step), str(step/(time()-t0))))"
   ]
  },
  {
   "cell_type": "code",
   "execution_count": 2,
   "metadata": {
    "scrolled": true
   },
   "outputs": [
    {
     "data": {
      "text/plain": [
       "'tensorboard\\\\models/6000'"
      ]
     },
     "execution_count": 2,
     "metadata": {},
     "output_type": "execute_result"
    }
   ],
   "source": [
    "import os\n",
    "os.path.join('tensorboard', 'models/6000')"
   ]
  },
  {
   "cell_type": "code",
   "execution_count": 22,
   "metadata": {
    "scrolled": true
   },
   "outputs": [
    {
     "data": {
      "text/plain": [
       "Variable containing:\n",
       " -9.4549\n",
       "  9.0465\n",
       " 12.2210\n",
       " 11.6398\n",
       " -7.4161\n",
       " 11.2829\n",
       "  6.3840\n",
       " -5.1809\n",
       "  9.3233\n",
       "  9.3063\n",
       " -5.1453\n",
       " -8.3277\n",
       " -7.0646\n",
       " -6.3603\n",
       " -9.0721\n",
       "  7.4978\n",
       "  9.4080\n",
       " -4.4689\n",
       " 10.1877\n",
       " 15.1662\n",
       "  9.1227\n",
       " -8.8364\n",
       " -5.3155\n",
       "  1.7906\n",
       "-12.7779\n",
       " 16.4919\n",
       "-11.4033\n",
       " -2.4583\n",
       " -6.7034\n",
       " -1.6795\n",
       " 16.1003\n",
       " 10.6520\n",
       "[torch.FloatTensor of size 32]"
      ]
     },
     "execution_count": 22,
     "metadata": {},
     "output_type": "execute_result"
    }
   ],
   "source": [
    "pred"
   ]
  },
  {
   "cell_type": "code",
   "execution_count": null,
   "metadata": {
    "collapsed": true,
    "scrolled": true
   },
   "outputs": [],
   "source": [
    "t.mean((pred-target)**2)"
   ]
  },
  {
   "cell_type": "code",
   "execution_count": 38,
   "metadata": {
    "scrolled": true
   },
   "outputs": [
    {
     "data": {
      "image/png": "[encoded data removed]",
      "text/plain": [
       "<matplotlib.figure.Figure at 0x25ed7b27208>"
      ]
     },
     "metadata": {},
     "output_type": "display_data"
    }
   ],
   "source": [
    "plt.rcParams['figure.figsize']=(5,5)\n",
    "a, b = -50, 50\n",
    "state = variable(np.concatenate(100*[np.random.normal(size=(1,50))], 0)).float()\n",
    "actions = variable(np.array([[aa,0] for aa in np.linspace(a,b,100)])).float()\n",
    "Q_select.eval()\n",
    "Qvalues = Q_select.forward(state, actions).data.numpy()\n",
    "plt.plot(np.linspace(a,b,100), Qvalues)\n",
    "plt.show()"
   ]
  },
  {
   "cell_type": "markdown",
   "metadata": {},
   "source": [
    "# Graphs"
   ]
  },
  {
   "cell_type": "code",
   "execution_count": null,
   "metadata": {
    "collapsed": true,
    "scrolled": true
   },
   "outputs": [],
   "source": [
    "fig, axes = plt.subplots(3, 2)\n",
    "plt.rcParams['figure.figsize'] = (20,20)\n",
    "# td error\n",
    "axes[0,0].plot(moving_avg(np.log(losses[:5000])))\n",
    "# Q values (target and pred)\n",
    "axes[1,0].plot(moving_avg(average_q_pred[:5000]), label='avg pred', c='darkblue')\n",
    "axes[1,0].plot(moving_avg(min_q_pred[:5000]), label='min pred', c='darkblue', alpha=.8,linestyle=':')\n",
    "axes[1,0].plot(moving_avg(max_q_pred[:5000]), label='max pred', c='darkblue', alpha=.8,linestyle=':')\n",
    "axes[1,0].plot(moving_avg(average_q_target[:5000]), label='avg target', c='crimson')\n",
    "axes[1,0].plot(moving_avg(min_q_target[:5000]), label='min target', c='crimson', alpha=.8,linestyle=':')\n",
    "axes[1,0].plot(moving_avg(max_q_target[:5000]), label='max target', c='crimson', alpha=.8,linestyle=':')\n",
    "axes[1,1].plot(moving_avg(average_q_pred[200:5000]), label='avg pred', c='darkblue')\n",
    "axes[1,1].plot(moving_avg(min_q_pred[200:5000]), label='min pred', c='darkblue', alpha=.8,linestyle=':')\n",
    "axes[1,1].plot(moving_avg(max_q_pred[200:5000]), label='max pred', c='darkblue', alpha=.8,linestyle=':')\n",
    "axes[1,1].plot(moving_avg(average_q_target[200:5000]), label='avg target', c='crimson')\n",
    "axes[1,1].plot(moving_avg(min_q_target[200:5000]), label='min target', c='crimson', alpha=.8,linestyle=':')\n",
    "axes[1,1].plot(moving_avg(max_q_target[200:5000]), label='max target', c='crimson', alpha=.8,linestyle=':')\n",
    "axes[1,1].legend(loc='center left', bbox_to_anchor=(1, 0.5))\n",
    "# actions (vaso and fluid)\n",
    "axes[2,0].plot(moving_avg(average_fluid[:5000]), label='avg fluid', c='darkblue')\n",
    "axes[2,0].plot(moving_avg(min_fluid[:5000]), label='min fluid', c='darkblue', alpha=.8,linestyle=':')\n",
    "axes[2,0].plot(moving_avg(max_fluid[:5000]), label='max fluid', c='darkblue', alpha=.8,linestyle=':')\n",
    "axes[2,0].plot(moving_avg(average_vaso[:5000]), label='avg vaso', c='crimson')\n",
    "axes[2,0].plot(moving_avg(min_vaso[:5000]), label='min vaso', c='crimson', alpha=.8,linestyle=':')\n",
    "axes[2,0].plot(moving_avg(max_vaso[:5000]), label='max vaso', c='crimson', alpha=.8,linestyle=':')\n",
    "axes[2,1].plot(moving_avg(average_fluid[200:5000]), label='avg fluid', c='darkblue')\n",
    "axes[2,1].plot(moving_avg(min_fluid[200:5000]), label='min fluid', c='darkblue', alpha=.8,linestyle=':')\n",
    "axes[2,1].plot(moving_avg(max_fluid[200:5000]), label='max fluid', c='darkblue', alpha=.8,linestyle=':')\n",
    "axes[2,1].plot(moving_avg(average_vaso[200:5000]), label='avg vaso', c='crimson')\n",
    "axes[2,1].plot(moving_avg(min_vaso[200:5000]), label='min vaso', c='crimson', alpha=.8,linestyle=':')\n",
    "axes[2,1].plot(moving_avg(max_vaso[200:5000]), label='max vaso', c='crimson', alpha=.8,linestyle=':')\n",
    "axes[2,1].legend(loc='center left', bbox_to_anchor=(1, 0.5))\n",
    "plt.tight_layout()\n",
    "plt.show()"
   ]
  },
  {
   "cell_type": "code",
   "execution_count": null,
   "metadata": {
    "collapsed": true
   },
   "outputs": [],
   "source": []
  },
  {
   "cell_type": "markdown",
   "metadata": {},
   "source": [
    "# save model"
   ]
  },
  {
   "cell_type": "code",
   "execution_count": null,
   "metadata": {
    "collapsed": true
   },
   "outputs": [],
   "source": [
    "t.save(Q_select.state_dict(), 'icnn.3layers.50hdim.41epochs.nosigmoid.pytorch')"
   ]
  },
  {
   "cell_type": "markdown",
   "metadata": {},
   "source": [
    "# Test values"
   ]
  },
  {
   "cell_type": "code",
   "execution_count": null,
   "metadata": {
    "collapsed": true,
    "scrolled": true
   },
   "outputs": [],
   "source": [
    "max_q_pred[-50:]"
   ]
  },
  {
   "cell_type": "code",
   "execution_count": null,
   "metadata": {
    "collapsed": true
   },
   "outputs": [],
   "source": [
    "np.mean(average_q_pred[-50:])"
   ]
  },
  {
   "cell_type": "code",
   "execution_count": null,
   "metadata": {
    "collapsed": true
   },
   "outputs": [],
   "source": [
    "target, max_actions = get_q_target(Q_select, Q_eval, next_states, rewards, min0, max0, min1, max1, gamma=gamma, max_steps_a=max_steps_a, return_max_actions=True)  # max_a' Q(s', a)"
   ]
  },
  {
   "cell_type": "code",
   "execution_count": null,
   "metadata": {
    "collapsed": true,
    "scrolled": true
   },
   "outputs": [],
   "source": [
    "max_actions"
   ]
  },
  {
   "cell_type": "code",
   "execution_count": null,
   "metadata": {
    "collapsed": true
   },
   "outputs": [],
   "source": [
    "arange = np.linspace(min0,max0,100)\n",
    "n = arange.shape[0]\n",
    "a = variable(np.array([[aa,0.] for aa in arange])).float()\n",
    "s = t.cat(n*[states[:1]])\n",
    "Qvalues = Q_select.forward(s, a).data.numpy()\n",
    "plt.plot(arange,Qvalues)\n",
    "plt.show()"
   ]
  },
  {
   "cell_type": "code",
   "execution_count": null,
   "metadata": {
    "collapsed": true,
    "scrolled": true
   },
   "outputs": [],
   "source": [
    "target"
   ]
  },
  {
   "cell_type": "markdown",
   "metadata": {},
   "source": [
    "Note that the **log batch-averaged loss** is plotted"
   ]
  },
  {
   "cell_type": "code",
   "execution_count": null,
   "metadata": {
    "collapsed": true,
    "scrolled": true
   },
   "outputs": [],
   "source": [
    "rewards"
   ]
  },
  {
   "cell_type": "code",
   "execution_count": null,
   "metadata": {
    "collapsed": true,
    "scrolled": true
   },
   "outputs": [],
   "source": [
    "Q_eval(next_states,actions)"
   ]
  },
  {
   "cell_type": "code",
   "execution_count": null,
   "metadata": {
    "collapsed": true,
    "scrolled": true
   },
   "outputs": [],
   "source": [
    "a_range = np.arange(min0,max0,1e-2)\n",
    "n = a_range.shape[0]\n",
    "a = variable(np.array([[aa,0.] for aa in a_range]))\n",
    "plt.plot(a_range,Q_eval(t.cat(n*[next_states[:1]]), a).squeeze().data.numpy())\n",
    "plt.show()"
   ]
  },
  {
   "cell_type": "code",
   "execution_count": null,
   "metadata": {
    "collapsed": true
   },
   "outputs": [],
   "source": [
    "Q_eval(next_states)"
   ]
  },
  {
   "cell_type": "code",
   "execution_count": null,
   "metadata": {
    "collapsed": true,
    "scrolled": true
   },
   "outputs": [],
   "source": [
    "get_q_target(Q_select, Q_eval, next_states, rewards, min0, max0, min1, max1, gamma=gamma, max_steps_a=10)"
   ]
  },
  {
   "cell_type": "code",
   "execution_count": null,
   "metadata": {
    "collapsed": true,
    "scrolled": true
   },
   "outputs": [],
   "source": [
    "Q_select.forward(states,actions)"
   ]
  },
  {
   "cell_type": "code",
   "execution_count": null,
   "metadata": {
    "collapsed": true
   },
   "outputs": [],
   "source": [
    "list(Q_select.parameters())[0]"
   ]
  },
  {
   "cell_type": "code",
   "execution_count": null,
   "metadata": {
    "collapsed": true
   },
   "outputs": [],
   "source": [
    "60000/240000*64"
   ]
  },
  {
   "cell_type": "code",
   "execution_count": null,
   "metadata": {
    "collapsed": true,
    "scrolled": true
   },
   "outputs": [],
   "source": [
    "print('finished')"
   ]
  },
  {
   "cell_type": "markdown",
   "metadata": {},
   "source": [
    "# Look at the predictions of the model once trained"
   ]
  },
  {
   "cell_type": "code",
   "execution_count": null,
   "metadata": {
    "collapsed": true,
    "scrolled": true
   },
   "outputs": [],
   "source": [
    "t.sum((Q_target.squeeze()-Q_pred.squeeze())**2 + c*loss_beyond_RMAX(Q_pred, RMAX).squeeze())"
   ]
  },
  {
   "cell_type": "code",
   "execution_count": null,
   "metadata": {
    "collapsed": true,
    "scrolled": true
   },
   "outputs": [],
   "source": [
    "Q1.forward(states,actions)"
   ]
  },
  {
   "cell_type": "code",
   "execution_count": null,
   "metadata": {
    "collapsed": true,
    "scrolled": true
   },
   "outputs": [],
   "source": [
    "Q_target"
   ]
  },
  {
   "cell_type": "code",
   "execution_count": null,
   "metadata": {
    "collapsed": true
   },
   "outputs": [],
   "source": [
    "next_state_ = []\n",
    "good = dict()\n",
    "for i, s in enumerate(next_states):\n",
    "    if not np.isnan(s.data.numpy()[0]):\n",
    "        next_state_.append(s.resize(1, 50))\n",
    "        good[i] = len(good)\n",
    "\n",
    "next_state_ = t.cat(next_state_)\n",
    "max_action = variable(np.zeros((len(next_state_), 2)), requires_grad=True).float()\n",
    "prev_action = variable(np.zeros((len(next_state_), 2)), requires_grad=True).float()\n",
    "input_param = t.nn.Parameter(max_action.data)\n",
    "optimizer_for_a = t.optim.Rprop([input_param], lr=5e-1)\n",
    "for k in range(5):\n",
    "    max_action, input_param, optimizer_for_a = gradient_step_action(Q1, Q2, next_state_, max_action, min0, max0, min1, max1, input_param=input_param, optimizer=optimizer_for_a)\n",
    "    if np.max(np.abs(prev_action.data.numpy() - max_action.data.numpy())) < 1e-3:\n",
    "        break\n",
    "    prev_action = max_action * 1"
   ]
  },
  {
   "cell_type": "code",
   "execution_count": null,
   "metadata": {
    "collapsed": true,
    "scrolled": true
   },
   "outputs": [],
   "source": [
    "max_action"
   ]
  },
  {
   "cell_type": "code",
   "execution_count": null,
   "metadata": {
    "collapsed": true
   },
   "outputs": [],
   "source": [
    "state = t.cat(np.arange(min0,max0,1e-2).shape[0]*[next_state_[0].resize(1,50)]).float()\n",
    "actions = variable(np.array([[a,0.] for a in np.arange(min0,max0,1e-2)])).float()\n",
    "Qvalues = Q1.forward(state, actions).data.numpy()\n",
    "plt.plot(np.arange(min0,max0,1e-2), Qvalues)\n",
    "plt.show()"
   ]
  },
  {
   "cell_type": "code",
   "execution_count": null,
   "metadata": {
    "collapsed": true
   },
   "outputs": [],
   "source": []
  }
 ],
 "metadata": {
  "kernelspec": {
   "display_name": "Python 3",
   "language": "python",
   "name": "python3"
  },
  "language_info": {
   "codemirror_mode": {
    "name": "ipython",
    "version": 3
   },
   "file_extension": ".py",
   "mimetype": "text/x-python",
   "name": "python",
   "nbconvert_exporter": "python",
   "pygments_lexer": "ipython3",
   "version": "3.6.1"
  }
 },
 "nbformat": 4,
 "nbformat_minor": 2
}
