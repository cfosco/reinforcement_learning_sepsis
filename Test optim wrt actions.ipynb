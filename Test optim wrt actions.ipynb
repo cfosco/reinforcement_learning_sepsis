{
 "cells": [
  {
   "cell_type": "code",
   "execution_count": 2,
   "metadata": {},
   "outputs": [
    {
     "name": "stdout",
     "output_type": "stream",
     "text": [
      "ready\n"
     ]
    }
   ],
   "source": [
    "print('ready')"
   ]
  },
  {
   "cell_type": "code",
   "execution_count": 4,
   "metadata": {},
   "outputs": [],
   "source": [
    "import torch as t\n",
    "from torch.nn import ReLU, SELU, LeakyReLU\n",
    "import numpy as np\n",
    "from matplotlib import pyplot as plt\n",
    "from sklearn.preprocessing import StandardScaler\n",
    "from IPython import display\n",
    "from parse_dataset import *\n",
    "from icnn import ICNNBN, gradient_step_action, diff_params, loss_beyond_RMAX\n",
    "from copy import deepcopy\n",
    "from utils import variable"
   ]
  },
  {
   "cell_type": "markdown",
   "metadata": {},
   "source": [
    "# Load and parse dataset"
   ]
  },
  {
   "cell_type": "code",
   "execution_count": 5,
   "metadata": {
    "scrolled": true
   },
   "outputs": [
    {
     "data": {
      "image/png": "[encoded data removed]",
      "text/plain": [
       "<matplotlib.figure.Figure at 0x1ec0c9e5198>"
      ]
     },
     "metadata": {},
     "output_type": "display_data"
    },
    {
     "data": {
      "image/png": "[encoded data removed]",
      "text/plain": [
       "<matplotlib.figure.Figure at 0x1ec1277d588>"
      ]
     },
     "metadata": {},
     "output_type": "display_data"
    }
   ],
   "source": [
    "data = pd.read_csv('Sepsis_imp.csv')\n",
    "replace_absurd_temperatures(data)\n",
    "data = drop_patients_with_absurd_weights(data)\n",
    "data = drop_patients_with_unrealistic_HR_or_BP(data)\n",
    "data = add_relative_time_column(data)\n",
    "data = drop_patient_with_negative_input(data)\n",
    "add_small_quantities(data)\n",
    "create_action_column(data)\n",
    "add_log_actions(data)\n",
    "\n",
    "log_scaler = StandardScaler()\n",
    "scaler = StandardScaler()\n",
    "action_scaler = StandardScaler()\n",
    "train_idx, test_idx = split_train_test_idx(data)\n",
    "\n",
    "# scale on train data only\n",
    "scaler.fit(data.loc[data.icustayid.isin(train_idx)][numerical_columns_not_to_be_logged])\n",
    "log_scaler.fit(np.log(data.loc[data.icustayid.isin(train_idx)][numerical_columns_to_be_logged]))\n",
    "action_scaler.fit(data.loc[data.icustayid.isin(train_idx)][log_action_cols])\n",
    "\n",
    "plt.hist(data.log_vaso, bins=20)\n",
    "plt.show()\n",
    "plt.hist(data.log_fluid, bins=20)\n",
    "plt.show()"
   ]
  },
  {
   "cell_type": "markdown",
   "metadata": {},
   "source": [
    "Split train/test"
   ]
  },
  {
   "cell_type": "code",
   "execution_count": 6,
   "metadata": {
    "collapsed": true
   },
   "outputs": [],
   "source": [
    "train_idx, test_idx = split_train_test_idx(data)"
   ]
  },
  {
   "cell_type": "markdown",
   "metadata": {},
   "source": [
    "List of transitions `(s,a,r,s')`"
   ]
  },
  {
   "cell_type": "code",
   "execution_count": 7,
   "metadata": {
    "collapsed": true,
    "scrolled": true
   },
   "outputs": [],
   "source": [
    "# transitions_train = transition_iterator(data, test_idx, scaler, log_scaler, action_scaler, RMAX=15, log_action=True)\n",
    "transitions_train = transition_iterator(data, train_idx, scaler, log_scaler, action_scaler, RMAX=15, log_action=True)"
   ]
  },
  {
   "cell_type": "code",
   "execution_count": 8,
   "metadata": {
    "collapsed": true
   },
   "outputs": [],
   "source": [
    "transitions_dict = {k: {\n",
    "    's': values[0],\n",
    "    'a': values[1],\n",
    "    'r': values[2],\n",
    "    's\\'': values[3]   \n",
    "}\n",
    " for k, values in enumerate(transitions_train)\n",
    "}"
   ]
  },
  {
   "cell_type": "markdown",
   "metadata": {},
   "source": [
    "Compute bounds for the actions (you don't have right to prescribe less than the min or more than the max). It gives bounds to the possible actions and ensure that the max of Q can actually be found"
   ]
  },
  {
   "cell_type": "code",
   "execution_count": 9,
   "metadata": {
    "collapsed": true
   },
   "outputs": [],
   "source": [
    "min0 = min([d['a'][0] for k, d in transitions_dict.items()])\n",
    "max0 = max([d['a'][0] for k, d in transitions_dict.items()])\n",
    "min1 = min([d['a'][1] for k, d in transitions_dict.items()])\n",
    "max1 = max([d['a'][1] for k, d in transitions_dict.items()])"
   ]
  },
  {
   "cell_type": "markdown",
   "metadata": {},
   "source": [
    "# Test maximisation de Q"
   ]
  },
  {
   "cell_type": "markdown",
   "metadata": {},
   "source": [
    "Ce bout de code est celui qui est au debut de `get_q_target`"
   ]
  },
  {
   "cell_type": "code",
   "execution_count": 11,
   "metadata": {},
   "outputs": [],
   "source": [
    "icnn = ICNNBN(2,200,50,activation=LeakyReLU(.01))"
   ]
  },
  {
   "cell_type": "code",
   "execution_count": 12,
   "metadata": {
    "scrolled": true
   },
   "outputs": [
    {
     "name": "stdout",
     "output_type": "stream",
     "text": [
      "0.01581287384033203\n"
     ]
    }
   ],
   "source": [
    "next_state = t.cat([\n",
    "    variable(np.array([50*[np.nan]])),\n",
    "    variable(np.random.normal(size=(1,50)))\n",
    "]).float()\n",
    "\n",
    "from time import time\n",
    "t0 = time()\n",
    "next_state_ = []\n",
    "good = dict()\n",
    "for i, s in enumerate(next_state):\n",
    "    if np.sum(np.isnan(s.data.numpy()))==0:\n",
    "        next_state_.append(s.resize(1, 50))\n",
    "        good[i] = len(good)\n",
    "if len(good) == 0:\n",
    "    print('no good', rewards.squeeze())\n",
    "else:\n",
    "    next_state_ = t.cat(next_state_)\n",
    "    max_action = variable(np.zeros((len(next_state_), 2)), requires_grad=True).float()\n",
    "    prev_action = variable(np.zeros((len(next_state_), 2)), requires_grad=True).float()\n",
    "    input_param = t.nn.Parameter(max_action.data)\n",
    "    optimizer_for_a = t.optim.Rprop([input_param], lr=5e-1)\n",
    "    for k in range(7):\n",
    "        max_action, input_param, optimizer_for_a = gradient_step_action(icnn, next_state_, max_action, min0, max0, min1, max1, input_param=input_param, optimizer=optimizer_for_a)\n",
    "        if np.max(np.abs(prev_action.data.numpy() - max_action.data.numpy())) < 1e-5:\n",
    "            break\n",
    "print(time()-t0)"
   ]
  },
  {
   "cell_type": "code",
   "execution_count": 13,
   "metadata": {},
   "outputs": [
    {
     "data": {
      "text/plain": [
       "Variable containing:\n",
       " 0  0\n",
       "[torch.FloatTensor of size 1x2]"
      ]
     },
     "execution_count": 13,
     "metadata": {},
     "output_type": "execute_result"
    }
   ],
   "source": [
    "max_action"
   ]
  },
  {
   "cell_type": "code",
   "execution_count": 14,
   "metadata": {},
   "outputs": [
    {
     "data": {
      "text/plain": [
       "(-0.44044644924062354,\n",
       " -1.6014361525447329,\n",
       " 4.0414326568511685,\n",
       " 1.5351429620772477)"
      ]
     },
     "execution_count": 14,
     "metadata": {},
     "output_type": "execute_result"
    }
   ],
   "source": [
    "min0, min1, max0, max1"
   ]
  },
  {
   "cell_type": "code",
   "execution_count": 15,
   "metadata": {
    "scrolled": true
   },
   "outputs": [
    {
     "data": {
      "image/png": "[encoded data removed]",
      "text/plain": [
       "<matplotlib.figure.Figure at 0x1ec129251d0>"
      ]
     },
     "metadata": {},
     "output_type": "display_data"
    }
   ],
   "source": [
    "actions = variable(np.array([[a,0.] for a in np.arange(min0,max0,1e-2)])).float()\n",
    "Qvalues = icnn.forward(next_state_, actions).data.numpy()\n",
    "plt.plot(np.arange(min0,max0,1e-2),Qvalues)\n",
    "plt.show()"
   ]
  },
  {
   "cell_type": "code",
   "execution_count": 16,
   "metadata": {},
   "outputs": [
    {
     "data": {
      "image/png": "[encoded data removed]",
      "text/plain": [
       "<matplotlib.figure.Figure at 0x1ec129fb7f0>"
      ]
     },
     "metadata": {},
     "output_type": "display_data"
    }
   ],
   "source": [
    "actions = variable(np.array([[-.52,a] for a in np.arange(min1,max1,1e-2)])).float()\n",
    "Qvalues = icnn.forward(next_state_, actions).data.numpy()\n",
    "plt.plot(np.arange(min1,max1,1e-2),Qvalues)\n",
    "plt.show()"
   ]
  },
  {
   "cell_type": "code",
   "execution_count": 17,
   "metadata": {},
   "outputs": [
    {
     "data": {
      "image/png": "[encoded data removed]",
      "text/plain": [
       "<matplotlib.figure.Figure at 0x1ec12958f60>"
      ]
     },
     "metadata": {},
     "output_type": "display_data"
    }
   ],
   "source": [
    "actions = variable(np.array([[0.,a] for a in np.arange(min1,max1,1e-2)])).float()\n",
    "Qvalues = icnn.forward(next_state_, actions).data.numpy()\n",
    "plt.plot(np.arange(min1,max1,1e-2), Qvalues)\n",
    "plt.show()"
   ]
  },
  {
   "cell_type": "markdown",
   "metadata": {},
   "source": [
    "# test get_q_target"
   ]
  },
  {
   "cell_type": "code",
   "execution_count": 96,
   "metadata": {
    "collapsed": true
   },
   "outputs": [],
   "source": [
    "Q_select = ICNN(3,50)\n",
    "from copy import deepcopy\n",
    "Q_eval = deepcopy(Q_target)"
   ]
  },
  {
   "cell_type": "code",
   "execution_count": 97,
   "metadata": {
    "collapsed": true,
    "scrolled": true
   },
   "outputs": [],
   "source": [
    "s = []\n",
    "a = []\n",
    "r = []\n",
    "s_ = []\n",
    "for i in range(20):\n",
    "    s.append(variable(transitions_dict[i]['s'].reshape((1,-1))))\n",
    "    a.append(variable(transitions_dict[i]['a'].reshape((1,-1))))\n",
    "    r.append(variable(transitions_dict[i]['r'].reshape((1,-1))))\n",
    "    s_.append(variable(transitions_dict[i]['s\\''].reshape((1,-1))) if transitions_dict[i]['s\\''] is not None else variable(np.array(50*[np.nan]).reshape((1,-1))))\n",
    "s = t.cat(s)\n",
    "a = t.cat(a)\n",
    "r = t.cat(r)\n",
    "s_ = t.cat(s_)"
   ]
  },
  {
   "cell_type": "code",
   "execution_count": 106,
   "metadata": {},
   "outputs": [
    {
     "data": {
      "text/plain": [
       "Variable containing:\n",
       " 1.3395 -1.8131  0.4918  ...   0.0000  0.0000  0.0000\n",
       " 1.3395 -1.8131  0.2042  ...   0.0000  0.0000  0.0000\n",
       " 1.3395 -1.8131 -0.0834  ...   0.0000  0.0000  0.0000\n",
       "          ...             ⋱             ...          \n",
       "    nan     nan     nan  ...      nan     nan     nan\n",
       "-0.5504 -0.8776 -0.6587  ...   1.0000  0.0000  0.0000\n",
       "-0.5504 -0.8776 -0.6587  ...   1.0000  0.0000  0.0000\n",
       "[torch.FloatTensor of size 20x50]"
      ]
     },
     "execution_count": 106,
     "metadata": {},
     "output_type": "execute_result"
    }
   ],
   "source": [
    "s_"
   ]
  },
  {
   "cell_type": "code",
   "execution_count": 105,
   "metadata": {},
   "outputs": [
    {
     "name": "stdout",
     "output_type": "stream",
     "text": [
      "{0: 0, 1: 1, 2: 2, 3: 3, 4: 4, 5: 5, 6: 6, 7: 7, 8: 8, 9: 9, 10: 10, 11: 11, 12: 12, 14: 13, 15: 14, 16: 15, 18: 16, 19: 17}\n"
     ]
    }
   ],
   "source": [
    "max_steps_a = 10\n",
    "gamma = 0.98\n",
    "next_state_ = []\n",
    "good = dict()\n",
    "for i, s in enumerate(s_):\n",
    "    if not np.isnan(s.data.numpy()[0]):\n",
    "        next_state_.append(s.resize(1, 50))\n",
    "        good[i] = len(good)\n",
    "if len(good) == 0:\n",
    "    raise Exception\n",
    "else:\n",
    "    next_state_ = t.cat(next_state_)\n",
    "    max_action = variable(np.zeros((len(next_state_), 2)), requires_grad=True).float()\n",
    "    prev_action = variable(np.zeros((len(next_state_), 2)), requires_grad=True).float()\n",
    "    input_param = t.nn.Parameter(max_action.data)\n",
    "    optimizer_for_a = t.optim.Rprop([input_param], lr=5e-1)\n",
    "    for k in range(max_steps_a):\n",
    "        max_action, input_param, optimizer_for_a = gradient_step_action(Q_select, next_state_, max_action, min0, max0, min1, max1, input_param=input_param, optimizer=optimizer_for_a)\n",
    "        if np.max(np.abs(prev_action.data.numpy() - max_action.data.numpy())) < 1e-3:\n",
    "            break\n",
    "        prev_action = max_action * 1\n",
    "    \n",
    "    print(good)\n",
    "    pred = Q_eval.forward(next_state_, max_action)\n",
    "    Qvalues = [pred[good[i]].float().resize(1, 1) if i in good else variable(np.zeros((1, 1))).float() for i in range(len(s_))]\n",
    "    max_prev_Q_value = t.cat(Qvalues, dim=0)\n",
    "    Q_target = r.squeeze() + gamma * max_prev_Q_value.squeeze()\n"
   ]
  },
  {
   "cell_type": "code",
   "execution_count": 107,
   "metadata": {},
   "outputs": [
    {
     "data": {
      "text/plain": [
       "Variable containing:\n",
       "    0\n",
       "    0\n",
       "    0\n",
       "    0\n",
       "    0\n",
       "    0\n",
       "    0\n",
       "    0\n",
       "    0\n",
       "    0\n",
       "    0\n",
       "    0\n",
       "    0\n",
       "   15\n",
       "    0\n",
       "    0\n",
       "    0\n",
       "    0\n",
       "    0\n",
       "    0\n",
       "[torch.FloatTensor of size 20x1]"
      ]
     },
     "execution_count": 107,
     "metadata": {},
     "output_type": "execute_result"
    }
   ],
   "source": [
    "r"
   ]
  },
  {
   "cell_type": "raw",
   "metadata": {},
   "source": [
    "get_q_target(Q_select, Q_eval, s_, r, min0, max0, min1, max1, gamma=.98, max_steps_a=10y)"
   ]
  },
  {
   "cell_type": "code",
   "execution_count": null,
   "metadata": {
    "collapsed": true
   },
   "outputs": [],
   "source": [
    "actions = variable(np.array([[0.,a] for a in np.arange(min1,max1,1e-2)])).float()\n",
    "Qvalues = Q_select.forward(next_state_, actions).data.numpy()\n",
    "plt.plot(np.arange(min1,max1,1e-2), Qvalues)\n",
    "plt.show()"
   ]
  }
 ],
 "metadata": {
  "kernelspec": {
   "display_name": "Python 3",
   "language": "python",
   "name": "python3"
  },
  "language_info": {
   "codemirror_mode": {
    "name": "ipython",
    "version": 3
   },
   "file_extension": ".py",
   "mimetype": "text/x-python",
   "name": "python",
   "nbconvert_exporter": "python",
   "pygments_lexer": "ipython3",
   "version": "3.6.1"
  }
 },
 "nbformat": 4,
 "nbformat_minor": 2
}
