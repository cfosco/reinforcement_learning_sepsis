{
 "cells": [
  {
   "cell_type": "markdown",
   "metadata": {},
   "source": [
    "* Double DQN\n",
    "* prioritized ER \n",
    "* gradient clipping\n",
    "* 3 layers, 50 hidden dim\n",
    "* $\\gamma = 0.99$\n",
    "* activation is softplus\n",
    "* batch normalization\n",
    "* optimizer is Adam and learning rate is 0.001\n",
    "* the loss is the MSE (Bellman) + a penalty for going outside of (-RMAX, RMAX)\n",
    "* maximum 8-10 steps of optimization for finding $argmax_{a}Q(s,a)$ with Rprop algorithm\n",
    "* actions are logged. As some can be zero, we replace the zeros by the minimal action taken\n"
   ]
  },
  {
   "cell_type": "code",
   "execution_count": 1,
   "metadata": {},
   "outputs": [
    {
     "name": "stdout",
     "output_type": "stream",
     "text": [
      "ready\n"
     ]
    }
   ],
   "source": [
    "print('ready')"
   ]
  },
  {
   "cell_type": "code",
   "execution_count": 2,
   "metadata": {
    "scrolled": true
   },
   "outputs": [],
   "source": [
    "import torch as t\n",
    "from torch.nn import ReLU, SELU, LeakyReLU\n",
    "import numpy as np\n",
    "from random import random, sample\n",
    "from matplotlib import pyplot as plt\n",
    "from sklearn.preprocessing import StandardScaler\n",
    "from IPython import display\n",
    "from parse_dataset import *\n",
    "from icnn import ICNN, ICNNBN, gradient_step_action, diff_params, loss_beyond_RMAX, clip_gradients, get_q_target, update_parameters_lag\n",
    "from copy import deepcopy\n",
    "from utils import variable, moving_avg\n",
    "from replay_buffer import PrioritizedReplayBuffer"
   ]
  },
  {
   "cell_type": "markdown",
   "metadata": {},
   "source": [
    "# Load and parse dataset"
   ]
  },
  {
   "cell_type": "code",
   "execution_count": 3,
   "metadata": {
    "scrolled": true
   },
   "outputs": [
    {
     "data": {
      "text/plain": [
       "StandardScaler(copy=True, with_mean=True, with_std=True)"
      ]
     },
     "execution_count": 3,
     "metadata": {},
     "output_type": "execute_result"
    }
   ],
   "source": [
    "data = pd.read_csv('Sepsis_imp.csv')\n",
    "replace_absurd_temperatures(data)\n",
    "data = drop_patients_with_absurd_weights(data)\n",
    "data = drop_patients_with_unrealistic_HR_or_BP(data)\n",
    "data = add_relative_time_column(data)\n",
    "data = drop_patient_with_negative_input(data)\n",
    "add_small_quantities(data)\n",
    "create_action_column(data)\n",
    "add_log_actions(data)\n",
    "\n",
    "log_scaler = StandardScaler()\n",
    "scaler = StandardScaler()\n",
    "action_scaler = StandardScaler()\n",
    "train_idx, test_idx = split_train_test_idx(data)\n",
    "\n",
    "# scale on train data only\n",
    "scaler.fit(data.loc[data.icustayid.isin(train_idx)][numerical_columns_not_to_be_logged])\n",
    "log_scaler.fit(np.log(data.loc[data.icustayid.isin(train_idx)][numerical_columns_to_be_logged]))\n",
    "action_scaler.fit(data.loc[data.icustayid.isin(train_idx)][log_action_cols])"
   ]
  },
  {
   "cell_type": "code",
   "execution_count": 4,
   "metadata": {
    "scrolled": true
   },
   "outputs": [
    {
     "data": {
      "image/png": "[encoded data removed]",
      "text/plain": [
       "<matplotlib.figure.Figure at 0x1f0471ab278>"
      ]
     },
     "metadata": {},
     "output_type": "display_data"
    },
    {
     "data": {
      "image/png": "[encoded data removed]",
      "text/plain": [
       "<matplotlib.figure.Figure at 0x1f0485adc88>"
      ]
     },
     "metadata": {},
     "output_type": "display_data"
    }
   ],
   "source": [
    "plt.rcParams['figure.figsize'] = (5,5)\n",
    "plt.hist(data.log_vaso, bins=20)\n",
    "plt.show()\n",
    "plt.hist(data.log_fluid, bins=20)\n",
    "plt.show()"
   ]
  },
  {
   "cell_type": "code",
   "execution_count": 5,
   "metadata": {},
   "outputs": [
    {
     "data": {
      "image/png": "[encoded data removed]",
      "text/plain": [
       "<matplotlib.figure.Figure at 0x1f0488c9ba8>"
      ]
     },
     "metadata": {},
     "output_type": "display_data"
    }
   ],
   "source": [
    "plt.hist(action_scaler.transform(data.loc[data.icustayid.isin(train_idx)][log_action_cols])[:,1], bins=20)\n",
    "plt.show()"
   ]
  },
  {
   "cell_type": "markdown",
   "metadata": {},
   "source": [
    "Split train/test"
   ]
  },
  {
   "cell_type": "code",
   "execution_count": 6,
   "metadata": {
    "collapsed": true
   },
   "outputs": [],
   "source": [
    "train_idx, test_idx = split_train_test_idx(data)"
   ]
  },
  {
   "cell_type": "markdown",
   "metadata": {},
   "source": [
    "List of transitions `(s,a,r,s')`"
   ]
  },
  {
   "cell_type": "code",
   "execution_count": 7,
   "metadata": {
    "scrolled": false
   },
   "outputs": [
    {
     "name": "stderr",
     "output_type": "stream",
     "text": [
      "C:\\Users\\sebastien\\anaconda_notebook\\cs282-f17-sebastian-camilo\\parse_dataset.py:264: FutureWarning: comparison to `None` will result in an elementwise object comparison in the future.\n",
      "  if idx == None:\n"
     ]
    }
   ],
   "source": [
    "transitions_train = transition_iterator(data, train_idx, scaler, log_scaler, action_scaler, RMAX=15, log_action=True)"
   ]
  },
  {
   "cell_type": "code",
   "execution_count": 8,
   "metadata": {},
   "outputs": [
    {
     "name": "stderr",
     "output_type": "stream",
     "text": [
      "C:\\Users\\sebastien\\anaconda_notebook\\cs282-f17-sebastian-camilo\\parse_dataset.py:264: FutureWarning: comparison to `None` will result in an elementwise object comparison in the future.\n",
      "  if idx == None:\n"
     ]
    }
   ],
   "source": [
    "transitions_test = transition_iterator(data, test_idx, scaler, log_scaler, action_scaler, RMAX=15, log_action=True)"
   ]
  },
  {
   "cell_type": "code",
   "execution_count": 9,
   "metadata": {
    "collapsed": true
   },
   "outputs": [],
   "source": [
    "transitions_dict = {k: {\n",
    "    \"s\": values[0],\n",
    "    \"a\": values[1],\n",
    "    \"r\": values[2],\n",
    "    \"s'\": values[3]   \n",
    "}\n",
    " for k, values in enumerate(transitions_train)\n",
    "}"
   ]
  },
  {
   "cell_type": "markdown",
   "metadata": {},
   "source": [
    "Compute bounds for the actions (you don't have right to prescribe less than the min or more than the max). It gives bounds to the possible actions and ensure that the max of Q can actually be found"
   ]
  },
  {
   "cell_type": "code",
   "execution_count": 10,
   "metadata": {
    "collapsed": true
   },
   "outputs": [],
   "source": [
    "min0 = min([d['a'][0] for k, d in transitions_dict.items()])\n",
    "max0 = max([d['a'][0] for k, d in transitions_dict.items()])\n",
    "min1 = min([d['a'][1] for k, d in transitions_dict.items()])\n",
    "max1 = max([d['a'][1] for k, d in transitions_dict.items()])"
   ]
  },
  {
   "cell_type": "markdown",
   "metadata": {},
   "source": [
    "### Build neural network\n",
    "The neural network is convex in $a$\n",
    "\n",
    "$$u_0 = s$$\n",
    "$$z_0 = a$$\n",
    "$$u_{i+1} = \\tilde{g}_i(\\tilde{W}_iu_i+b_i)$$\n",
    "$$z_{i+1} = g_i\\left(W_i^{(z)}(z_i \\cdot (W_i^{(zu)}u_i+b_i^{(z)})_+) + W_i^{(a)}(a \\cdot (W_i^{(au)}u_i+b_i^{(a)})) + W_i^{(u)}u_i+b_i\\right)$$\n",
    "with $$W_i^{(z)}\\geq 0$$\n"
   ]
  },
  {
   "cell_type": "code",
   "execution_count": 11,
   "metadata": {
    "scrolled": true
   },
   "outputs": [
    {
     "data": {
      "text/plain": [
       "ICNNBN (\n",
       "  (activation): Softplus (beta=1, threshold=20)\n",
       "  (u0): Linear (50 -> 50)\n",
       "  (bn_u0): BatchNorm1d(50, eps=0.001, momentum=0.99, affine=True)\n",
       "  (u1): Linear (50 -> 50)\n",
       "  (bn_u1): BatchNorm1d(50, eps=0.001, momentum=0.99, affine=True)\n",
       "  (z_u0): Linear (50 -> 50)\n",
       "  (bn_z_u0): BatchNorm1d(50, eps=0.001, momentum=0.99, affine=True)\n",
       "  (z_au0): Linear (50 -> 2)\n",
       "  (bn_z_au0): BatchNorm1d(2, eps=0.001, momentum=0.99, affine=True)\n",
       "  (z_au_0): Linear (2 -> 50)\n",
       "  (bn_z_au_0): BatchNorm1d(50, eps=0.001, momentum=0.99, affine=True)\n",
       "  (z_u1): Linear (50 -> 50)\n",
       "  (bn_z_u1): BatchNorm1d(50, eps=0.001, momentum=0.99, affine=True)\n",
       "  (z_au1): Linear (50 -> 2)\n",
       "  (bn_z_au1): BatchNorm1d(2, eps=0.001, momentum=0.99, affine=True)\n",
       "  (z_au_1): Linear (2 -> 50)\n",
       "  (bn_z_au_1): BatchNorm1d(50, eps=0.001, momentum=0.99, affine=True)\n",
       "  (z_zu1): Linear (50 -> 50)\n",
       "  (bn_z_zu1): BatchNorm1d(50, eps=0.001, momentum=0.99, affine=True)\n",
       "  (z_zu_1): Linear (50 -> 50)\n",
       "  (bn_z_zu_1): BatchNorm1d(50, eps=0.001, momentum=0.99, affine=True)\n",
       "  (z_u2): Linear (50 -> 1)\n",
       "  (bn_z_u2): BatchNorm1d(1, eps=0.001, momentum=0.99, affine=True)\n",
       "  (z_au2): Linear (50 -> 2)\n",
       "  (bn_z_au2): BatchNorm1d(2, eps=0.001, momentum=0.99, affine=True)\n",
       "  (z_au_2): Linear (2 -> 1)\n",
       "  (bn_z_au_2): BatchNorm1d(1, eps=0.001, momentum=0.99, affine=True)\n",
       "  (z_zu2): Linear (50 -> 50)\n",
       "  (bn_z_zu2): BatchNorm1d(50, eps=0.001, momentum=0.99, affine=True)\n",
       "  (z_zu_2): Linear (50 -> 1)\n",
       "  (bn_z_zu_2): BatchNorm1d(1, eps=0.001, momentum=0.99, affine=True)\n",
       ")"
      ]
     },
     "execution_count": 11,
     "metadata": {},
     "output_type": "execute_result"
    }
   ],
   "source": [
    "# Q_select = ICNN(3, 50, activation=SELU())\n",
    "Q_select = ICNNBN(3, 50, LeakyReLU(-1.))\n",
    "Q_eval = deepcopy(Q_select)\n",
    "Q_eval.eval()"
   ]
  },
  {
   "cell_type": "code",
   "execution_count": 13,
   "metadata": {},
   "outputs": [
    {
     "name": "stdout",
     "output_type": "stream",
     "text": [
      "#params: 19327\n"
     ]
    }
   ],
   "source": [
    "print('#params: %s' % np.sum([np.prod(p.data.numpy().shape) for p in Q_select.parameters()]))"
   ]
  },
  {
   "cell_type": "markdown",
   "metadata": {},
   "source": [
    "# Get PER"
   ]
  },
  {
   "cell_type": "code",
   "execution_count": 14,
   "metadata": {
    "scrolled": true
   },
   "outputs": [],
   "source": [
    "# CREATE PRIORITIZED ER EXPERIENCE BUFFER\n",
    "memory = PrioritizedReplayBuffer(len(transitions_dict), .6)\n",
    "\n",
    "for tr in shuffle(transitions_dict):\n",
    "    \n",
    "    # check if state is terminal\n",
    "    if tr[\"s'\"] is not None:\n",
    "        s_ = tr[\"s'\"]\n",
    "        done = False\n",
    "    else:\n",
    "        s_ = np.array(50*[np.nan])\n",
    "        done = True\n",
    "    s = tr['s']\n",
    "    a = tr['a']\n",
    "    r = np.array([tr['r']])\n",
    "    \n",
    "    transition = (s,a,r,s_,done)\n",
    "    memory.add(*transition)"
   ]
  },
  {
   "cell_type": "markdown",
   "metadata": {},
   "source": [
    "# Train model"
   ]
  },
  {
   "cell_type": "code",
   "execution_count": 15,
   "metadata": {},
   "outputs": [
    {
     "name": "stdout",
     "output_type": "stream",
     "text": [
      "ready\n"
     ]
    }
   ],
   "source": [
    "print('ready')"
   ]
  },
  {
   "cell_type": "code",
   "execution_count": 16,
   "metadata": {
    "collapsed": true
   },
   "outputs": [],
   "source": [
    "def clip(x):\n",
    "    \"\"\"\n",
    "    Clip values below -RMAX or above RMAX\n",
    "    Might be useful when the target goes beyond\n",
    "    \"\"\"\n",
    "    return x*((x>=-RMAX).float())*((x<=RMAX).float()) + RMAX*(x>RMAX).float() - RMAX*(x<-RMAX).float()"
   ]
  },
  {
   "cell_type": "code",
   "execution_count": 17,
   "metadata": {
    "collapsed": true
   },
   "outputs": [],
   "source": [
    "def test():\n",
    "    n = len(transitions_test)\n",
    "    for i in range(0, len(transitions_test), batch_size):\n",
    "        transitions = transitions_test[i:i+batch_size]\n",
    "        s = t.cat([variable(tr[0].reshape((1,50))) for tr in transitions])\n",
    "        a = t.cat([variable(tr[1].reshape((1,2))) for tr in transitions])\n",
    "        r = t.cat([variable(tr[2].reshape((1,1))) for tr in transitions])\n",
    "        s_ = t.cat([variable(tr[3].reshape((1,50))) if tr[3] is not None else variable(np.array([50*[np.nan]])) for tr in transitions])\n",
    "        Q_select.eval()\n",
    "        pred = Q_select.forward(s, a).squeeze()  # Q(s, a)\n",
    "        target, max_actions = get_q_target(Q_select, Q_eval, s_, r, min0, max0, min1, max1, gamma=gamma, max_steps_a=max_steps_a, return_max_actions=True)  # max_a' Q(s', a)\n",
    "        Q_select.train()\n",
    "        target = target.squeeze()\n",
    "        if i == 0:\n",
    "            td_error = t.sum(t.abs(pred-target))\n",
    "            avg_Q = t.sum(pred)\n",
    "            max_Q = t.max(pred)\n",
    "            min_Q = t.min(pred)\n",
    "        else:\n",
    "            td_error += t.sum(t.abs(pred-target))\n",
    "            avg_Q += t.sum(pred)\n",
    "            max_Q += t.max(pred)\n",
    "            min_Q += t.min(pred)\n",
    "    return td_error.data.numpy()[0]/n, avg_Q.data.numpy()[0]/n, max_Q.data.numpy()[0]/(n/batch_size), min_Q.data.numpy()[0]/(n/batch_size)\n",
    "        "
   ]
  },
  {
   "cell_type": "markdown",
   "metadata": {},
   "source": [
    "# Idees\n",
    "* lag update ?\n",
    "* commencer avec une proportion egale de +15, -15, 0, et ajouter des 0 a chaque batch\n",
    "* ajouter un terme dans la loss pour penaliser les valeurs extremes, avec une loss ressemblant a $(Q(s, \\alpha) + 15)^2$ avec $\\alpha$ le max des vasos par exemple\n"
   ]
  },
  {
   "cell_type": "code",
   "execution_count": 18,
   "metadata": {
    "scrolled": true
   },
   "outputs": [
    {
     "ename": "KeyboardInterrupt",
     "evalue": "",
     "output_type": "error",
     "traceback": [
      "\u001b[1;31m---------------------------------------------------------------------------\u001b[0m",
      "\u001b[1;31mKeyboardInterrupt\u001b[0m                         Traceback (most recent call last)",
      "\u001b[1;32m<ipython-input-18-9b0f49d5e1f9>\u001b[0m in \u001b[0;36m<module>\u001b[1;34m()\u001b[0m\n\u001b[0;32m    124\u001b[0m             \u001b[0maxes\u001b[0m\u001b[1;33m[\u001b[0m\u001b[1;36m1\u001b[0m\u001b[1;33m,\u001b[0m\u001b[1;36m1\u001b[0m\u001b[1;33m]\u001b[0m\u001b[1;33m.\u001b[0m\u001b[0mplot\u001b[0m\u001b[1;33m(\u001b[0m\u001b[0mmoving_avg\u001b[0m\u001b[1;33m(\u001b[0m\u001b[0mmin_q_pred\u001b[0m\u001b[1;33m[\u001b[0m\u001b[1;36m200\u001b[0m\u001b[1;33m:\u001b[0m\u001b[1;33m]\u001b[0m\u001b[1;33m)\u001b[0m\u001b[1;33m,\u001b[0m \u001b[0mlabel\u001b[0m\u001b[1;33m=\u001b[0m\u001b[1;34m'min pred'\u001b[0m\u001b[1;33m,\u001b[0m \u001b[0mc\u001b[0m\u001b[1;33m=\u001b[0m\u001b[1;34m'darkblue'\u001b[0m\u001b[1;33m,\u001b[0m \u001b[0malpha\u001b[0m\u001b[1;33m=\u001b[0m\u001b[1;36m.8\u001b[0m\u001b[1;33m,\u001b[0m\u001b[0mlinestyle\u001b[0m\u001b[1;33m=\u001b[0m\u001b[1;34m':'\u001b[0m\u001b[1;33m)\u001b[0m\u001b[1;33m\u001b[0m\u001b[0m\n\u001b[0;32m    125\u001b[0m             \u001b[0maxes\u001b[0m\u001b[1;33m[\u001b[0m\u001b[1;36m1\u001b[0m\u001b[1;33m,\u001b[0m\u001b[1;36m1\u001b[0m\u001b[1;33m]\u001b[0m\u001b[1;33m.\u001b[0m\u001b[0mplot\u001b[0m\u001b[1;33m(\u001b[0m\u001b[0mmoving_avg\u001b[0m\u001b[1;33m(\u001b[0m\u001b[0mmax_q_pred\u001b[0m\u001b[1;33m[\u001b[0m\u001b[1;36m200\u001b[0m\u001b[1;33m:\u001b[0m\u001b[1;33m]\u001b[0m\u001b[1;33m)\u001b[0m\u001b[1;33m,\u001b[0m \u001b[0mlabel\u001b[0m\u001b[1;33m=\u001b[0m\u001b[1;34m'max pred'\u001b[0m\u001b[1;33m,\u001b[0m \u001b[0mc\u001b[0m\u001b[1;33m=\u001b[0m\u001b[1;34m'darkblue'\u001b[0m\u001b[1;33m,\u001b[0m \u001b[0malpha\u001b[0m\u001b[1;33m=\u001b[0m\u001b[1;36m.8\u001b[0m\u001b[1;33m,\u001b[0m\u001b[0mlinestyle\u001b[0m\u001b[1;33m=\u001b[0m\u001b[1;34m':'\u001b[0m\u001b[1;33m)\u001b[0m\u001b[1;33m\u001b[0m\u001b[0m\n\u001b[1;32m--> 126\u001b[1;33m             \u001b[0maxes\u001b[0m\u001b[1;33m[\u001b[0m\u001b[1;36m1\u001b[0m\u001b[1;33m,\u001b[0m\u001b[1;36m1\u001b[0m\u001b[1;33m]\u001b[0m\u001b[1;33m.\u001b[0m\u001b[0mplot\u001b[0m\u001b[1;33m(\u001b[0m\u001b[0mmoving_avg\u001b[0m\u001b[1;33m(\u001b[0m\u001b[0maverage_q_target\u001b[0m\u001b[1;33m[\u001b[0m\u001b[1;36m200\u001b[0m\u001b[1;33m:\u001b[0m\u001b[1;33m]\u001b[0m\u001b[1;33m)\u001b[0m\u001b[1;33m,\u001b[0m \u001b[0mlabel\u001b[0m\u001b[1;33m=\u001b[0m\u001b[1;34m'avg target'\u001b[0m\u001b[1;33m,\u001b[0m \u001b[0mc\u001b[0m\u001b[1;33m=\u001b[0m\u001b[1;34m'crimson'\u001b[0m\u001b[1;33m)\u001b[0m\u001b[1;33m\u001b[0m\u001b[0m\n\u001b[0m\u001b[0;32m    127\u001b[0m             \u001b[0maxes\u001b[0m\u001b[1;33m[\u001b[0m\u001b[1;36m1\u001b[0m\u001b[1;33m,\u001b[0m\u001b[1;36m1\u001b[0m\u001b[1;33m]\u001b[0m\u001b[1;33m.\u001b[0m\u001b[0mplot\u001b[0m\u001b[1;33m(\u001b[0m\u001b[0mmoving_avg\u001b[0m\u001b[1;33m(\u001b[0m\u001b[0mmin_q_target\u001b[0m\u001b[1;33m[\u001b[0m\u001b[1;36m200\u001b[0m\u001b[1;33m:\u001b[0m\u001b[1;33m]\u001b[0m\u001b[1;33m)\u001b[0m\u001b[1;33m,\u001b[0m \u001b[0mlabel\u001b[0m\u001b[1;33m=\u001b[0m\u001b[1;34m'min target'\u001b[0m\u001b[1;33m,\u001b[0m \u001b[0mc\u001b[0m\u001b[1;33m=\u001b[0m\u001b[1;34m'crimson'\u001b[0m\u001b[1;33m,\u001b[0m \u001b[0malpha\u001b[0m\u001b[1;33m=\u001b[0m\u001b[1;36m.8\u001b[0m\u001b[1;33m,\u001b[0m\u001b[0mlinestyle\u001b[0m\u001b[1;33m=\u001b[0m\u001b[1;34m':'\u001b[0m\u001b[1;33m)\u001b[0m\u001b[1;33m\u001b[0m\u001b[0m\n\u001b[0;32m    128\u001b[0m             \u001b[0maxes\u001b[0m\u001b[1;33m[\u001b[0m\u001b[1;36m1\u001b[0m\u001b[1;33m,\u001b[0m\u001b[1;36m1\u001b[0m\u001b[1;33m]\u001b[0m\u001b[1;33m.\u001b[0m\u001b[0mplot\u001b[0m\u001b[1;33m(\u001b[0m\u001b[0mmoving_avg\u001b[0m\u001b[1;33m(\u001b[0m\u001b[0mmax_q_target\u001b[0m\u001b[1;33m[\u001b[0m\u001b[1;36m200\u001b[0m\u001b[1;33m:\u001b[0m\u001b[1;33m]\u001b[0m\u001b[1;33m)\u001b[0m\u001b[1;33m,\u001b[0m \u001b[0mlabel\u001b[0m\u001b[1;33m=\u001b[0m\u001b[1;34m'max target'\u001b[0m\u001b[1;33m,\u001b[0m \u001b[0mc\u001b[0m\u001b[1;33m=\u001b[0m\u001b[1;34m'crimson'\u001b[0m\u001b[1;33m,\u001b[0m \u001b[0malpha\u001b[0m\u001b[1;33m=\u001b[0m\u001b[1;36m.8\u001b[0m\u001b[1;33m,\u001b[0m\u001b[0mlinestyle\u001b[0m\u001b[1;33m=\u001b[0m\u001b[1;34m':'\u001b[0m\u001b[1;33m)\u001b[0m\u001b[1;33m\u001b[0m\u001b[0m\n",
      "\u001b[1;32mC:\\Users\\sebastien\\anaconda_notebook\\cs282-f17-sebastian-camilo\\utils.py\u001b[0m in \u001b[0;36mmoving_avg\u001b[1;34m(x, window)\u001b[0m\n\u001b[0;32m    125\u001b[0m \u001b[1;33m\u001b[0m\u001b[0m\n\u001b[0;32m    126\u001b[0m \u001b[1;32mdef\u001b[0m \u001b[0mmoving_avg\u001b[0m\u001b[1;33m(\u001b[0m\u001b[0mx\u001b[0m\u001b[1;33m,\u001b[0m \u001b[0mwindow\u001b[0m\u001b[1;33m=\u001b[0m\u001b[1;36m100\u001b[0m\u001b[1;33m)\u001b[0m\u001b[1;33m:\u001b[0m\u001b[1;33m\u001b[0m\u001b[0m\n\u001b[1;32m--> 127\u001b[1;33m     \u001b[1;32mreturn\u001b[0m \u001b[1;33m[\u001b[0m\u001b[0mnp\u001b[0m\u001b[1;33m.\u001b[0m\u001b[0mmean\u001b[0m\u001b[1;33m(\u001b[0m\u001b[0mx\u001b[0m\u001b[1;33m[\u001b[0m\u001b[0mk\u001b[0m\u001b[1;33m:\u001b[0m\u001b[0mk\u001b[0m\u001b[1;33m+\u001b[0m\u001b[0mwindow\u001b[0m\u001b[1;33m]\u001b[0m\u001b[1;33m)\u001b[0m \u001b[1;32mfor\u001b[0m \u001b[0mk\u001b[0m \u001b[1;32min\u001b[0m \u001b[0mrange\u001b[0m\u001b[1;33m(\u001b[0m\u001b[0mlen\u001b[0m\u001b[1;33m(\u001b[0m\u001b[0mx\u001b[0m\u001b[1;33m)\u001b[0m\u001b[1;33m-\u001b[0m\u001b[0mwindow\u001b[0m\u001b[1;33m)\u001b[0m\u001b[1;33m]\u001b[0m\u001b[1;33m\u001b[0m\u001b[0m\n\u001b[0m\u001b[0;32m    128\u001b[0m \u001b[1;33m\u001b[0m\u001b[0m\n\u001b[0;32m    129\u001b[0m \u001b[1;33m\u001b[0m\u001b[0m\n",
      "\u001b[1;32mC:\\Users\\sebastien\\anaconda_notebook\\cs282-f17-sebastian-camilo\\utils.py\u001b[0m in \u001b[0;36m<listcomp>\u001b[1;34m(.0)\u001b[0m\n\u001b[0;32m    125\u001b[0m \u001b[1;33m\u001b[0m\u001b[0m\n\u001b[0;32m    126\u001b[0m \u001b[1;32mdef\u001b[0m \u001b[0mmoving_avg\u001b[0m\u001b[1;33m(\u001b[0m\u001b[0mx\u001b[0m\u001b[1;33m,\u001b[0m \u001b[0mwindow\u001b[0m\u001b[1;33m=\u001b[0m\u001b[1;36m100\u001b[0m\u001b[1;33m)\u001b[0m\u001b[1;33m:\u001b[0m\u001b[1;33m\u001b[0m\u001b[0m\n\u001b[1;32m--> 127\u001b[1;33m     \u001b[1;32mreturn\u001b[0m \u001b[1;33m[\u001b[0m\u001b[0mnp\u001b[0m\u001b[1;33m.\u001b[0m\u001b[0mmean\u001b[0m\u001b[1;33m(\u001b[0m\u001b[0mx\u001b[0m\u001b[1;33m[\u001b[0m\u001b[0mk\u001b[0m\u001b[1;33m:\u001b[0m\u001b[0mk\u001b[0m\u001b[1;33m+\u001b[0m\u001b[0mwindow\u001b[0m\u001b[1;33m]\u001b[0m\u001b[1;33m)\u001b[0m \u001b[1;32mfor\u001b[0m \u001b[0mk\u001b[0m \u001b[1;32min\u001b[0m \u001b[0mrange\u001b[0m\u001b[1;33m(\u001b[0m\u001b[0mlen\u001b[0m\u001b[1;33m(\u001b[0m\u001b[0mx\u001b[0m\u001b[1;33m)\u001b[0m\u001b[1;33m-\u001b[0m\u001b[0mwindow\u001b[0m\u001b[1;33m)\u001b[0m\u001b[1;33m]\u001b[0m\u001b[1;33m\u001b[0m\u001b[0m\n\u001b[0m\u001b[0;32m    128\u001b[0m \u001b[1;33m\u001b[0m\u001b[0m\n\u001b[0;32m    129\u001b[0m \u001b[1;33m\u001b[0m\u001b[0m\n",
      "\u001b[1;32mC:\\ProgramData\\Anaconda3\\lib\\site-packages\\numpy\\core\\fromnumeric.py\u001b[0m in \u001b[0;36mmean\u001b[1;34m(a, axis, dtype, out, keepdims)\u001b[0m\n\u001b[0;32m   2887\u001b[0m \u001b[1;33m\u001b[0m\u001b[0m\n\u001b[0;32m   2888\u001b[0m     return _methods._mean(a, axis=axis, dtype=dtype,\n\u001b[1;32m-> 2889\u001b[1;33m                           out=out, **kwargs)\n\u001b[0m\u001b[0;32m   2890\u001b[0m \u001b[1;33m\u001b[0m\u001b[0m\n\u001b[0;32m   2891\u001b[0m \u001b[1;33m\u001b[0m\u001b[0m\n",
      "\u001b[1;31mKeyboardInterrupt\u001b[0m: "
     ]
    }
   ],
   "source": [
    "from time import time\n",
    "plt.rcParams['figure.figsize'] = (20,20)\n",
    "\n",
    "# RL parameters\n",
    "global_step = -1\n",
    "EPOCHS = 100\n",
    "gamma = .99\n",
    "max_steps_beta = 100000\n",
    "beta0 = .4\n",
    "beta = lambda t: (t<max_steps_beta)*(beta0 + t*(1-beta0)/max_steps_beta) + (t>=max_steps_beta)*1.\n",
    "RMAX = 15\n",
    "c = 1e3\n",
    "T_UPDATE = 200  # parameter to copy the weights periodically\n",
    "\n",
    "# OPTIMIZER PARAMETERS\n",
    "batch_size = 32\n",
    "learning_rate = 1e-3  # can have higher than default value if use BatchNorm\n",
    "optimizer = t.optim.Adam(Q_select.parameters(), lr=learning_rate)\n",
    "max_steps = int(len(data) / batch_size)\n",
    "max_steps_a = 8\n",
    "\n",
    "# monitoring\n",
    "losses = []\n",
    "td_errors = []\n",
    "test_td_errors = []\n",
    "test_average_q_pred = []\n",
    "test_max_q_pred = []\n",
    "test_min_q_pred = []\n",
    "average_q_pred = []\n",
    "average_q_target = []\n",
    "max_q_pred = []\n",
    "min_q_pred = []\n",
    "max_q_target = []\n",
    "min_q_target = []\n",
    "average_vaso = []\n",
    "max_vaso = []\n",
    "min_vaso = []\n",
    "average_fluid = []\n",
    "max_fluid = []\n",
    "min_fluid = []\n",
    "\n",
    "\n",
    "# TRAIN\n",
    "for _ in range(EPOCHS):\n",
    "    t0 = time()\n",
    "    for step in range(max_steps):\n",
    "        global_step += 1\n",
    "\n",
    "        # Sample batch\n",
    "        s,a,r,s_,done,w,idx = memory.sample(batch_size, beta(global_step))\n",
    "        states = variable(s)\n",
    "        actions = variable(a)\n",
    "        rewards = variable(r)\n",
    "        next_states = variable(s_)\n",
    "        weights = variable(w).squeeze()\n",
    "        \n",
    "        # Init grad (set all of them to zero)\n",
    "        optimizer.zero_grad()\n",
    "\n",
    "        # Compute loss\n",
    "        pred = Q_select.forward(states, actions).squeeze()  # Q(s, a)\n",
    "        Q_select.eval()\n",
    "        target, max_actions = get_q_target(Q_select, Q_eval, next_states, rewards, min0, max0, min1, max1, gamma=gamma, max_steps_a=max_steps_a, return_max_actions=True)  # max_a' Q(s', a)\n",
    "        Q_select.train()\n",
    "        target = clip(target.squeeze())\n",
    "        loss = (pred-target)\n",
    "        loss = loss**2\n",
    "        loss = loss*weights  # multiplication by the PER coefficients\n",
    "        loss = t.mean(loss) + c*t.mean(loss_beyond_RMAX(pred, RMAX))\n",
    "        \n",
    "        # Update priorities\n",
    "        td_error = t.abs(pred - target) + 1e-3\n",
    "        memory.update_priorities(idx, td_error.data.numpy())\n",
    "        \n",
    "        # Monitoring\n",
    "        losses.append(loss.data.numpy()[0])\n",
    "        td_errors.append(td_error.data.numpy().mean())\n",
    "        average_q_pred.append(t.mean(pred).squeeze().data.numpy()[0])\n",
    "        max_q_pred.append(t.max(pred).squeeze().data.numpy()[0])\n",
    "        min_q_pred.append(t.min(pred).squeeze().data.numpy()[0])\n",
    "        average_q_target.append(t.mean(target).squeeze().data.numpy()[0])\n",
    "        max_q_target.append(t.max(target).squeeze().data.numpy()[0])\n",
    "        min_q_target.append(t.min(target).squeeze().data.numpy()[0])\n",
    "        min_a = np.min(max_actions.data.numpy(), 0).squeeze()\n",
    "        max_a = np.max(max_actions.data.numpy(), 0).squeeze()\n",
    "        mean_a = np.mean(max_actions.data.numpy(), 0).squeeze()\n",
    "        min_vaso.append(min_a[0])\n",
    "        max_vaso.append(max_a[0])\n",
    "        average_vaso.append(mean_a[0])\n",
    "        min_fluid.append(min_a[1])\n",
    "        max_fluid.append(max_a[1])\n",
    "        average_fluid.append(mean_a[1])\n",
    "        \n",
    "        # Compute gradients and update weights of the selection network\n",
    "        loss.backward()\n",
    "        clip_gradients(Q_select, 10)\n",
    "        optimizer.step()\n",
    "        \n",
    "        # Keep weights positive so that the Q_select stays concave\n",
    "        Q_select.proj()\n",
    "        \n",
    "        # update parameters of the evaluation network. Its weights lag behind\n",
    "        if global_step % T_UPDATE == 0:\n",
    "            Q_eval = deepcopy(Q_select)\n",
    "            Q_eval.eval()\n",
    "\n",
    "        # PLOT\n",
    "        if step % 250 == 0:\n",
    "            display.clear_output(wait=True)\n",
    "            \n",
    "            fig, axes = plt.subplots(3, 2)\n",
    "            # td error\n",
    "            axes[0,0].plot(moving_avg(losses))\n",
    "            axes[0,1].plot(moving_avg(td_errors))\n",
    "            # Q values (target and pred)\n",
    "            axes[1,0].plot(moving_avg(average_q_pred), label='avg pred', c='darkblue')\n",
    "            axes[1,0].plot(moving_avg(min_q_pred), label='min pred', c='darkblue', alpha=.8,linestyle=':')\n",
    "            axes[1,0].plot(moving_avg(max_q_pred), label='max pred', c='darkblue', alpha=.8,linestyle=':')\n",
    "            axes[1,0].plot(moving_avg(average_q_target), label='avg target', c='crimson')\n",
    "            axes[1,0].plot(moving_avg(min_q_target), label='min target', c='crimson', alpha=.8,linestyle=':')\n",
    "            axes[1,0].plot(moving_avg(max_q_target), label='max target', c='crimson', alpha=.8,linestyle=':')\n",
    "            axes[1,1].plot(moving_avg(average_q_pred[200:]), label='avg pred', c='darkblue')\n",
    "            axes[1,1].plot(moving_avg(min_q_pred[200:]), label='min pred', c='darkblue', alpha=.8,linestyle=':')\n",
    "            axes[1,1].plot(moving_avg(max_q_pred[200:]), label='max pred', c='darkblue', alpha=.8,linestyle=':')\n",
    "            axes[1,1].plot(moving_avg(average_q_target[200:]), label='avg target', c='crimson')\n",
    "            axes[1,1].plot(moving_avg(min_q_target[200:]), label='min target', c='crimson', alpha=.8,linestyle=':')\n",
    "            axes[1,1].plot(moving_avg(max_q_target[200:]), label='max target', c='crimson', alpha=.8,linestyle=':')\n",
    "            axes[1,1].legend(loc='center left', bbox_to_anchor=(1, 0.5))\n",
    "            # actions (vaso and fluid)\n",
    "            axes[2,0].plot(moving_avg(average_fluid), label='avg fluid', c='darkblue')\n",
    "            axes[2,0].plot(moving_avg(min_fluid), label='min fluid', c='darkblue', alpha=.8,linestyle=':')\n",
    "            axes[2,0].plot(moving_avg(max_fluid), label='max fluid', c='darkblue', alpha=.8,linestyle=':')\n",
    "            axes[2,0].plot(moving_avg(average_vaso), label='avg vaso', c='crimson')\n",
    "            axes[2,0].plot(moving_avg(min_vaso), label='min vaso', c='crimson', alpha=.8,linestyle=':')\n",
    "            axes[2,0].plot(moving_avg(max_vaso), label='max vaso', c='crimson', alpha=.8,linestyle=':')\n",
    "            axes[2,1].plot(moving_avg(average_fluid[200:]), label='avg fluid', c='darkblue')\n",
    "            axes[2,1].plot(moving_avg(min_fluid[200:]), label='min fluid', c='darkblue', alpha=.8,linestyle=':')\n",
    "            axes[2,1].plot(moving_avg(max_fluid[200:]), label='max fluid', c='darkblue', alpha=.8,linestyle=':')\n",
    "            axes[2,1].plot(moving_avg(average_vaso[200:]), label='avg vaso', c='crimson')\n",
    "            axes[2,1].plot(moving_avg(min_vaso[200:]), label='min vaso', c='crimson', alpha=.8,linestyle=':')\n",
    "            axes[2,1].plot(moving_avg(max_vaso[200:]), label='max vaso', c='crimson', alpha=.8,linestyle=':')\n",
    "            axes[2,1].legend(loc='center left', bbox_to_anchor=(1, 0.5))\n",
    "            plt.tight_layout()\n",
    "            plt.show()\n",
    "            \n",
    "            print('Epoch %s\\n%s steps in this epoch\\n%s steps/s' % (str(_), str(step), str(step/(time()-t0))))"
   ]
  },
  {
   "cell_type": "code",
   "execution_count": 42,
   "metadata": {
    "scrolled": true
   },
   "outputs": [
    {
     "data": {
      "text/plain": [
       "Variable containing:\n",
       " 142.3045\n",
       "[torch.FloatTensor of size 1]"
      ]
     },
     "execution_count": 42,
     "metadata": {},
     "output_type": "execute_result"
    }
   ],
   "source": [
    "t.mean((pred-target)**2)"
   ]
  },
  {
   "cell_type": "code",
   "execution_count": 27,
   "metadata": {
    "scrolled": true
   },
   "outputs": [
    {
     "data": {
      "text/plain": [
       "ICNNBN (\n",
       "  (activation): Softplus (beta=1, threshold=20)\n",
       "  (u0): Linear (50 -> 50)\n",
       "  (bn_u0): BatchNorm1d(50, eps=0.001, momentum=0.99, affine=True)\n",
       "  (u1): Linear (50 -> 50)\n",
       "  (bn_u1): BatchNorm1d(50, eps=0.001, momentum=0.99, affine=True)\n",
       "  (z_u0): Linear (50 -> 50)\n",
       "  (bn_z_u0): BatchNorm1d(50, eps=0.001, momentum=0.99, affine=True)\n",
       "  (z_au0): Linear (50 -> 2)\n",
       "  (bn_z_au0): BatchNorm1d(2, eps=0.001, momentum=0.99, affine=True)\n",
       "  (z_au_0): Linear (2 -> 50)\n",
       "  (bn_z_au_0): BatchNorm1d(50, eps=0.001, momentum=0.99, affine=True)\n",
       "  (z_u1): Linear (50 -> 50)\n",
       "  (bn_z_u1): BatchNorm1d(50, eps=0.001, momentum=0.99, affine=True)\n",
       "  (z_au1): Linear (50 -> 2)\n",
       "  (bn_z_au1): BatchNorm1d(2, eps=0.001, momentum=0.99, affine=True)\n",
       "  (z_au_1): Linear (2 -> 50)\n",
       "  (bn_z_au_1): BatchNorm1d(50, eps=0.001, momentum=0.99, affine=True)\n",
       "  (z_zu1): Linear (50 -> 50)\n",
       "  (bn_z_zu1): BatchNorm1d(50, eps=0.001, momentum=0.99, affine=True)\n",
       "  (z_zu_1): Linear (50 -> 50)\n",
       "  (bn_z_zu_1): BatchNorm1d(50, eps=0.001, momentum=0.99, affine=True)\n",
       "  (z_u2): Linear (50 -> 1)\n",
       "  (bn_z_u2): BatchNorm1d(1, eps=0.001, momentum=0.99, affine=True)\n",
       "  (z_au2): Linear (50 -> 2)\n",
       "  (bn_z_au2): BatchNorm1d(2, eps=0.001, momentum=0.99, affine=True)\n",
       "  (z_au_2): Linear (2 -> 1)\n",
       "  (bn_z_au_2): BatchNorm1d(1, eps=0.001, momentum=0.99, affine=True)\n",
       "  (z_zu2): Linear (50 -> 50)\n",
       "  (bn_z_zu2): BatchNorm1d(50, eps=0.001, momentum=0.99, affine=True)\n",
       "  (z_zu_2): Linear (50 -> 1)\n",
       "  (bn_z_zu_2): BatchNorm1d(1, eps=0.001, momentum=0.99, affine=True)\n",
       ")"
      ]
     },
     "execution_count": 27,
     "metadata": {},
     "output_type": "execute_result"
    }
   ],
   "source": [
    "plt.rcParams['figure.figsize']=(5,5)\n",
    "a, b = -50, 50\n",
    "state = variable(np.concatenate(100*[np.random.normal(size=(1,50))], 0)).float()\n",
    "actions = variable(np.array([[aa,0] for aa in np.linspace(a,b,100)])).float()\n",
    "Q_select.eval()\n"
   ]
  },
  {
   "cell_type": "code",
   "execution_count": 31,
   "metadata": {
    "scrolled": true
   },
   "outputs": [
    {
     "data": {
      "text/plain": [
       "Variable containing:\n",
       "    0\n",
       "    0\n",
       "    0\n",
       "    0\n",
       "    0\n",
       "  -15\n",
       "    0\n",
       "    0\n",
       "    0\n",
       "    0\n",
       "  -15\n",
       "    0\n",
       "    0\n",
       "    0\n",
       "   15\n",
       "    0\n",
       "    0\n",
       "    0\n",
       "    0\n",
       "    0\n",
       "    0\n",
       "    0\n",
       "    0\n",
       "    0\n",
       "   15\n",
       "    0\n",
       "    0\n",
       "    0\n",
       "    0\n",
       "  -15\n",
       "    0\n",
       "  -15\n",
       "[torch.FloatTensor of size 32x1]"
      ]
     },
     "execution_count": 31,
     "metadata": {},
     "output_type": "execute_result"
    }
   ],
   "source": [
    "rewards"
   ]
  },
  {
   "cell_type": "code",
   "execution_count": 30,
   "metadata": {
    "scrolled": true
   },
   "outputs": [
    {
     "data": {
      "text/plain": [
       "Variable containing:\n",
       " 15.0000\n",
       " 15.0000\n",
       " 15.0000\n",
       " 15.0000\n",
       " 15.0000\n",
       "-15.0000\n",
       " 15.0000\n",
       " 15.0000\n",
       " 15.0000\n",
       " 15.0000\n",
       "-15.0000\n",
       " 15.0000\n",
       " 15.0000\n",
       " 15.0000\n",
       " 15.0000\n",
       " 15.0000\n",
       " 15.0000\n",
       " 15.0000\n",
       " 14.8976\n",
       " 15.0000\n",
       " 15.0000\n",
       " 15.0000\n",
       " 15.0000\n",
       " 15.0000\n",
       " 15.0000\n",
       " 15.0000\n",
       " 15.0000\n",
       " 15.0000\n",
       " 15.0000\n",
       "-15.0000\n",
       " 15.0000\n",
       "-15.0000\n",
       "[torch.FloatTensor of size 32]"
      ]
     },
     "execution_count": 30,
     "metadata": {},
     "output_type": "execute_result"
    }
   ],
   "source": [
    "target"
   ]
  },
  {
   "cell_type": "code",
   "execution_count": 29,
   "metadata": {
    "scrolled": true
   },
   "outputs": [
    {
     "data": {
      "text/plain": [
       "Variable containing:\n",
       " 12.6436\n",
       " 13.4766\n",
       " 13.8448\n",
       " 14.4333\n",
       " -9.1691\n",
       " 12.7021\n",
       " 12.8848\n",
       " 13.1709\n",
       " 13.2326\n",
       " 12.6446\n",
       " 14.6200\n",
       " 10.1545\n",
       " -1.3438\n",
       " 13.5700\n",
       " 12.8291\n",
       " 12.9865\n",
       " 13.6627\n",
       " 13.0036\n",
       "  8.6997\n",
       " 14.6383\n",
       " 13.8866\n",
       " 12.2882\n",
       " 12.8150\n",
       " 14.2299\n",
       " 13.7532\n",
       " 15.7066\n",
       " 12.1564\n",
       " 13.0250\n",
       " 12.5338\n",
       " 14.1350\n",
       "  3.1184\n",
       " 15.4794\n",
       "[torch.FloatTensor of size 32]"
      ]
     },
     "execution_count": 29,
     "metadata": {},
     "output_type": "execute_result"
    }
   ],
   "source": [
    "pred"
   ]
  },
  {
   "cell_type": "code",
   "execution_count": 34,
   "metadata": {},
   "outputs": [
    {
     "data": {
      "image/png": "[encoded data removed]",
      "text/plain": [
       "<matplotlib.figure.Figure at 0x1f00169cc88>"
      ]
     },
     "metadata": {},
     "output_type": "display_data"
    }
   ],
   "source": [
    "Qvalues = Q_select.forward(state, actions).data.numpy()\n",
    "plt.plot(np.linspace(a,b,100), Qvalues)\n",
    "plt.show()"
   ]
  },
  {
   "cell_type": "markdown",
   "metadata": {},
   "source": [
    "# Graphs"
   ]
  },
  {
   "cell_type": "code",
   "execution_count": 90,
   "metadata": {
    "scrolled": true
   },
   "outputs": [
    {
     "data": {
      "image/png": "[encoded data removed]",
      "text/plain": [
       "<matplotlib.figure.Figure at 0x1f94c883748>"
      ]
     },
     "metadata": {},
     "output_type": "display_data"
    }
   ],
   "source": [
    "fig, axes = plt.subplots(3, 2)\n",
    "plt.rcParams['figure.figsize'] = (20,20)\n",
    "# td error\n",
    "axes[0,0].plot(moving_avg(np.log(losses[:5000])))\n",
    "# Q values (target and pred)\n",
    "axes[1,0].plot(moving_avg(average_q_pred[:5000]), label='avg pred', c='darkblue')\n",
    "axes[1,0].plot(moving_avg(min_q_pred[:5000]), label='min pred', c='darkblue', alpha=.8,linestyle=':')\n",
    "axes[1,0].plot(moving_avg(max_q_pred[:5000]), label='max pred', c='darkblue', alpha=.8,linestyle=':')\n",
    "axes[1,0].plot(moving_avg(average_q_target[:5000]), label='avg target', c='crimson')\n",
    "axes[1,0].plot(moving_avg(min_q_target[:5000]), label='min target', c='crimson', alpha=.8,linestyle=':')\n",
    "axes[1,0].plot(moving_avg(max_q_target[:5000]), label='max target', c='crimson', alpha=.8,linestyle=':')\n",
    "axes[1,1].plot(moving_avg(average_q_pred[200:5000]), label='avg pred', c='darkblue')\n",
    "axes[1,1].plot(moving_avg(min_q_pred[200:5000]), label='min pred', c='darkblue', alpha=.8,linestyle=':')\n",
    "axes[1,1].plot(moving_avg(max_q_pred[200:5000]), label='max pred', c='darkblue', alpha=.8,linestyle=':')\n",
    "axes[1,1].plot(moving_avg(average_q_target[200:5000]), label='avg target', c='crimson')\n",
    "axes[1,1].plot(moving_avg(min_q_target[200:5000]), label='min target', c='crimson', alpha=.8,linestyle=':')\n",
    "axes[1,1].plot(moving_avg(max_q_target[200:5000]), label='max target', c='crimson', alpha=.8,linestyle=':')\n",
    "axes[1,1].legend(loc='center left', bbox_to_anchor=(1, 0.5))\n",
    "# actions (vaso and fluid)\n",
    "axes[2,0].plot(moving_avg(average_fluid[:5000]), label='avg fluid', c='darkblue')\n",
    "axes[2,0].plot(moving_avg(min_fluid[:5000]), label='min fluid', c='darkblue', alpha=.8,linestyle=':')\n",
    "axes[2,0].plot(moving_avg(max_fluid[:5000]), label='max fluid', c='darkblue', alpha=.8,linestyle=':')\n",
    "axes[2,0].plot(moving_avg(average_vaso[:5000]), label='avg vaso', c='crimson')\n",
    "axes[2,0].plot(moving_avg(min_vaso[:5000]), label='min vaso', c='crimson', alpha=.8,linestyle=':')\n",
    "axes[2,0].plot(moving_avg(max_vaso[:5000]), label='max vaso', c='crimson', alpha=.8,linestyle=':')\n",
    "axes[2,1].plot(moving_avg(average_fluid[200:5000]), label='avg fluid', c='darkblue')\n",
    "axes[2,1].plot(moving_avg(min_fluid[200:5000]), label='min fluid', c='darkblue', alpha=.8,linestyle=':')\n",
    "axes[2,1].plot(moving_avg(max_fluid[200:5000]), label='max fluid', c='darkblue', alpha=.8,linestyle=':')\n",
    "axes[2,1].plot(moving_avg(average_vaso[200:5000]), label='avg vaso', c='crimson')\n",
    "axes[2,1].plot(moving_avg(min_vaso[200:5000]), label='min vaso', c='crimson', alpha=.8,linestyle=':')\n",
    "axes[2,1].plot(moving_avg(max_vaso[200:5000]), label='max vaso', c='crimson', alpha=.8,linestyle=':')\n",
    "axes[2,1].legend(loc='center left', bbox_to_anchor=(1, 0.5))\n",
    "plt.tight_layout()\n",
    "plt.show()"
   ]
  },
  {
   "cell_type": "code",
   "execution_count": null,
   "metadata": {
    "collapsed": true
   },
   "outputs": [],
   "source": []
  },
  {
   "cell_type": "markdown",
   "metadata": {},
   "source": [
    "# save model"
   ]
  },
  {
   "cell_type": "code",
   "execution_count": 96,
   "metadata": {
    "collapsed": true
   },
   "outputs": [],
   "source": [
    "t.save(Q_select.state_dict(), 'icnn.3layers.50hdim.41epochs.nosigmoid.pytorch')"
   ]
  },
  {
   "cell_type": "markdown",
   "metadata": {},
   "source": [
    "# Test values"
   ]
  },
  {
   "cell_type": "code",
   "execution_count": 18,
   "metadata": {
    "scrolled": true
   },
   "outputs": [
    {
     "data": {
      "text/plain": [
       "[14.923473,\n",
       " 14.923453,\n",
       " 14.923435,\n",
       " 14.923414,\n",
       " 14.923396,\n",
       " 14.923374,\n",
       " 14.923357,\n",
       " 14.923335,\n",
       " 14.923317,\n",
       " 14.923296,\n",
       " 14.923278,\n",
       " 14.923257,\n",
       " 14.923239,\n",
       " 14.923218,\n",
       " 14.9232,\n",
       " 14.923178,\n",
       " 14.923161,\n",
       " 14.923139,\n",
       " 14.923117,\n",
       " 14.923101,\n",
       " 14.923079,\n",
       " 14.923061,\n",
       " 14.92304,\n",
       " 14.923022,\n",
       " 14.923001,\n",
       " 14.922983,\n",
       " 14.922961,\n",
       " 14.92294,\n",
       " 14.922922,\n",
       " 14.922901,\n",
       " 14.922883,\n",
       " 14.922861,\n",
       " 14.922844,\n",
       " 14.922822,\n",
       " 14.922801,\n",
       " 14.922783,\n",
       " 14.922761,\n",
       " 14.922742,\n",
       " 14.922724,\n",
       " 14.922703,\n",
       " 14.922685,\n",
       " 14.922663,\n",
       " 14.922642,\n",
       " 14.922624,\n",
       " 14.922602,\n",
       " 14.922581,\n",
       " 14.922563,\n",
       " 14.922542,\n",
       " 14.92252,\n",
       " 14.922503]"
      ]
     },
     "execution_count": 18,
     "metadata": {},
     "output_type": "execute_result"
    }
   ],
   "source": [
    "max_q_pred[-50:]"
   ]
  },
  {
   "cell_type": "code",
   "execution_count": 24,
   "metadata": {},
   "outputs": [
    {
     "data": {
      "text/plain": [
       "3.2619476"
      ]
     },
     "execution_count": 24,
     "metadata": {},
     "output_type": "execute_result"
    }
   ],
   "source": [
    "np.mean(average_q_pred[-50:])"
   ]
  },
  {
   "cell_type": "code",
   "execution_count": 19,
   "metadata": {
    "collapsed": true
   },
   "outputs": [],
   "source": [
    "target, max_actions = get_q_target(Q_select, Q_eval, next_states, rewards, min0, max0, min1, max1, gamma=gamma, max_steps_a=max_steps_a, return_max_actions=True)  # max_a' Q(s', a)"
   ]
  },
  {
   "cell_type": "code",
   "execution_count": 20,
   "metadata": {
    "scrolled": true
   },
   "outputs": [
    {
     "data": {
      "text/plain": [
       "Variable containing:\n",
       "    0     0\n",
       "    0     0\n",
       "    0     0\n",
       "    0     0\n",
       "    0     0\n",
       "    0     0\n",
       "    0     0\n",
       "    0     0\n",
       "    0     0\n",
       "    0     0\n",
       "    0     0\n",
       "    0     0\n",
       "    0     0\n",
       "    0     0\n",
       "    0     0\n",
       "    0     0\n",
       "    0     0\n",
       "    0     0\n",
       "    0     0\n",
       "    0     0\n",
       "    0     0\n",
       "    0     0\n",
       "    0     0\n",
       "    0     0\n",
       "    0     0\n",
       "    0     0\n",
       "    0     0\n",
       "    0     0\n",
       "    0     0\n",
       "    0     0\n",
       "    0     0\n",
       "    0     0\n",
       "    0     0\n",
       "    0     0\n",
       "    0     0\n",
       "    0     0\n",
       "    0     0\n",
       "    0     0\n",
       "    0     0\n",
       "    0     0\n",
       "    0     0\n",
       "    0     0\n",
       "    0     0\n",
       "    0     0\n",
       "    0     0\n",
       "    0     0\n",
       "    0     0\n",
       "    0     0\n",
       "    0     0\n",
       "[torch.FloatTensor of size 49x2]"
      ]
     },
     "execution_count": 20,
     "metadata": {},
     "output_type": "execute_result"
    }
   ],
   "source": [
    "max_actions"
   ]
  },
  {
   "cell_type": "code",
   "execution_count": 22,
   "metadata": {},
   "outputs": [
    {
     "data": {
      "image/png": "[encoded data removed]",
      "text/plain": [
       "<matplotlib.figure.Figure at 0x2460bb52208>"
      ]
     },
     "metadata": {},
     "output_type": "display_data"
    }
   ],
   "source": [
    "arange = np.linspace(min0,max0,100)\n",
    "n = arange.shape[0]\n",
    "a = variable(np.array([[aa,0.] for aa in arange])).float()\n",
    "s = t.cat(n*[states[:1]])\n",
    "Qvalues = Q_select.forward(s, a).data.numpy()\n",
    "plt.plot(arange,Qvalues)\n",
    "plt.show()"
   ]
  },
  {
   "cell_type": "code",
   "execution_count": 23,
   "metadata": {
    "scrolled": true
   },
   "outputs": [
    {
     "data": {
      "text/plain": [
       "Variable containing:\n",
       "-15.0000\n",
       "-15.0000\n",
       "-15.0000\n",
       "-15.0000\n",
       "-15.0000\n",
       "-15.0000\n",
       "-15.0000\n",
       "-15.0000\n",
       "-15.0000\n",
       "-15.0000\n",
       "-15.0000\n",
       "-15.0000\n",
       "-15.0000\n",
       "-15.0000\n",
       " 14.6253\n",
       " 14.6253\n",
       "-15.0000\n",
       " 14.6253\n",
       " 14.6253\n",
       " 14.6253\n",
       " 14.6253\n",
       " 14.6253\n",
       " 14.6253\n",
       " 14.6253\n",
       " 14.6253\n",
       " 14.6253\n",
       " 14.6253\n",
       " 14.6253\n",
       " 14.6253\n",
       " 14.6253\n",
       " 14.6253\n",
       " 14.6253\n",
       " 14.6253\n",
       " 14.6253\n",
       " 14.6253\n",
       " 14.6253\n",
       " 14.6253\n",
       " 14.6253\n",
       " 14.6253\n",
       " 14.6253\n",
       " 14.6253\n",
       " 14.6253\n",
       " 14.6253\n",
       " 14.6253\n",
       " 14.6253\n",
       " 14.6253\n",
       " 14.6253\n",
       " 14.6253\n",
       " 14.6253\n",
       " 14.6253\n",
       " 14.6253\n",
       " 14.6253\n",
       " 14.6253\n",
       " 14.6253\n",
       " 14.6253\n",
       " 14.6253\n",
       " 14.6253\n",
       " 14.6253\n",
       " 14.6253\n",
       " 14.6253\n",
       " 14.6253\n",
       " 14.6253\n",
       " 14.6253\n",
       " 14.6253\n",
       "[torch.FloatTensor of size 64]"
      ]
     },
     "execution_count": 23,
     "metadata": {},
     "output_type": "execute_result"
    }
   ],
   "source": [
    "target"
   ]
  },
  {
   "cell_type": "markdown",
   "metadata": {},
   "source": [
    "Note that the **log batch-averaged loss** is plotted"
   ]
  },
  {
   "cell_type": "code",
   "execution_count": 21,
   "metadata": {
    "scrolled": true
   },
   "outputs": [
    {
     "data": {
      "text/plain": [
       "Variable containing:\n",
       "    0\n",
       "    0\n",
       "    0\n",
       "    0\n",
       "    0\n",
       "    0\n",
       "    0\n",
       "    0\n",
       "    0\n",
       "    0\n",
       "    0\n",
       "    0\n",
       "    0\n",
       "    0\n",
       "    0\n",
       "    0\n",
       "    0\n",
       "    0\n",
       "    0\n",
       "    0\n",
       "    0\n",
       "    0\n",
       "    0\n",
       "    0\n",
       "    0\n",
       "    0\n",
       "    0\n",
       "    0\n",
       "    0\n",
       "    0\n",
       "    0\n",
       "    0\n",
       "    0\n",
       "    0\n",
       "    0\n",
       "    0\n",
       "    0\n",
       "    0\n",
       "    0\n",
       "    0\n",
       "    0\n",
       "    0\n",
       "    0\n",
       "    0\n",
       "    0\n",
       "    0\n",
       "    0\n",
       "  -15\n",
       "  -15\n",
       "    0\n",
       "    0\n",
       "    0\n",
       "    0\n",
       "    0\n",
       "    0\n",
       "    0\n",
       "  -15\n",
       "    0\n",
       "    0\n",
       "    0\n",
       "    0\n",
       "    0\n",
       "    0\n",
       "    0\n",
       "[torch.FloatTensor of size 64x1]"
      ]
     },
     "execution_count": 21,
     "metadata": {},
     "output_type": "execute_result"
    }
   ],
   "source": [
    "rewards"
   ]
  },
  {
   "cell_type": "code",
   "execution_count": 25,
   "metadata": {
    "scrolled": true
   },
   "outputs": [
    {
     "data": {
      "text/plain": [
       "Variable containing:\n",
       "  28.4563\n",
       " 148.5353\n",
       " 108.7014\n",
       "-141.9309\n",
       "  75.2661\n",
       " -75.8976\n",
       "  -2.0415\n",
       "  84.1697\n",
       "  23.4179\n",
       "  22.8115\n",
       "  14.6229\n",
       "  19.6716\n",
       "  28.7770\n",
       "  18.8936\n",
       "  16.4613\n",
       "  17.6385\n",
       "  30.5715\n",
       "  16.4891\n",
       "   0.7122\n",
       "  24.0434\n",
       "  17.2358\n",
       "  16.1694\n",
       "  16.5111\n",
       "  15.5321\n",
       "  20.1218\n",
       "  -5.7534\n",
       "  11.0557\n",
       "  18.2607\n",
       "  12.8817\n",
       " -15.1665\n",
       "  13.0907\n",
       "  14.7033\n",
       "  15.6846\n",
       "  15.8474\n",
       "  21.2077\n",
       "  14.1347\n",
       "  17.8210\n",
       "  12.1388\n",
       "  17.6575\n",
       "  18.7089\n",
       "  14.1716\n",
       "  16.0359\n",
       "  14.0638\n",
       "   2.6963\n",
       "  12.5733\n",
       "  12.5238\n",
       "  18.1778\n",
       "      nan\n",
       "      nan\n",
       "      nan\n",
       "  10.4622\n",
       "  10.7528\n",
       "  13.6480\n",
       "   1.4924\n",
       "  11.7418\n",
       "  12.6888\n",
       "      nan\n",
       "  14.2888\n",
       "      nan\n",
       "   7.8551\n",
       "      nan\n",
       "   9.6255\n",
       "   6.1235\n",
       "  14.3881\n",
       "[torch.FloatTensor of size 64x1]"
      ]
     },
     "execution_count": 25,
     "metadata": {},
     "output_type": "execute_result"
    }
   ],
   "source": [
    "Q_eval(next_states,actions)"
   ]
  },
  {
   "cell_type": "code",
   "execution_count": 32,
   "metadata": {
    "scrolled": true
   },
   "outputs": [
    {
     "data": {
      "image/png": "[encoded data removed]",
      "text/plain": [
       "<matplotlib.figure.Figure at 0x2ae041c3e80>"
      ]
     },
     "metadata": {},
     "output_type": "display_data"
    }
   ],
   "source": [
    "a_range = np.arange(min0,max0,1e-2)\n",
    "n = a_range.shape[0]\n",
    "a = variable(np.array([[aa,0.] for aa in a_range]))\n",
    "plt.plot(a_range,Q_eval(t.cat(n*[next_states[:1]]), a).squeeze().data.numpy())\n",
    "plt.show()"
   ]
  },
  {
   "cell_type": "code",
   "execution_count": null,
   "metadata": {
    "collapsed": true
   },
   "outputs": [],
   "source": [
    "Q_eval(next_states)"
   ]
  },
  {
   "cell_type": "code",
   "execution_count": 38,
   "metadata": {
    "scrolled": true
   },
   "outputs": [
    {
     "data": {
      "text/plain": [
       "Variable containing:\n",
       " 1790.2780\n",
       " 1643.3878\n",
       " 1787.9060\n",
       " 1496.0699\n",
       "  789.2684\n",
       " 1406.1121\n",
       "  104.9660\n",
       "  263.5234\n",
       "  104.6287\n",
       "  121.8344\n",
       "  101.7226\n",
       "   90.2202\n",
       "  119.5100\n",
       "   99.4207\n",
       "   84.2035\n",
       "   95.4223\n",
       "  133.9977\n",
       "   72.4200\n",
       "  104.3044\n",
       "   78.6366\n",
       "   63.3387\n",
       "  111.6996\n",
       "   62.9658\n",
       "   73.4466\n",
       "   58.1271\n",
       "   55.3777\n",
       "   47.1392\n",
       "   53.4155\n",
       "   51.2329\n",
       "   19.8687\n",
       "   53.1616\n",
       "   52.2792\n",
       "   66.1770\n",
       "   52.1191\n",
       "   57.5115\n",
       "   29.5410\n",
       "   60.3852\n",
       "   29.7892\n",
       "   50.1051\n",
       "   73.2300\n",
       "   49.9458\n",
       "   50.9286\n",
       "   18.2821\n",
       "   16.7677\n",
       "   16.4405\n",
       "   22.5923\n",
       "   57.6409\n",
       "  -15.0000\n",
       "  -15.0000\n",
       "    0.0000\n",
       "   27.3097\n",
       "   25.9635\n",
       "   26.8996\n",
       "   12.8332\n",
       "   20.5806\n",
       "   17.0540\n",
       "  -15.0000\n",
       "   19.6306\n",
       "    0.0000\n",
       "   15.0982\n",
       "    0.0000\n",
       "   18.4602\n",
       "   10.6833\n",
       "   24.0039\n",
       "[torch.FloatTensor of size 64]"
      ]
     },
     "execution_count": 38,
     "metadata": {},
     "output_type": "execute_result"
    }
   ],
   "source": [
    "get_q_target(Q_select, Q_eval, next_states, rewards, min0, max0, min1, max1, gamma=gamma, max_steps_a=10)"
   ]
  },
  {
   "cell_type": "code",
   "execution_count": 22,
   "metadata": {
    "scrolled": true
   },
   "outputs": [
    {
     "data": {
      "text/plain": [
       "Variable containing:\n",
       "-11.7047\n",
       " 10.2352\n",
       " 33.9770\n",
       " 29.4974\n",
       " 14.9893\n",
       " 26.3221\n",
       "-13.1252\n",
       " -8.0333\n",
       "  8.5030\n",
       " 18.7784\n",
       " 13.9194\n",
       "  8.4334\n",
       "  7.5097\n",
       " 12.8985\n",
       " 15.2889\n",
       " 10.7791\n",
       " 14.9318\n",
       " 12.9657\n",
       " -0.4006\n",
       " 15.9688\n",
       " 14.6702\n",
       "  9.4117\n",
       " 11.4694\n",
       " 18.0737\n",
       " 19.8918\n",
       " -3.3134\n",
       " 12.4765\n",
       " 13.1068\n",
       " 10.0027\n",
       " -5.1556\n",
       " 11.0213\n",
       " 14.8180\n",
       "  8.6074\n",
       " 12.6010\n",
       " 16.4605\n",
       " 13.8778\n",
       " 12.6061\n",
       " 10.4542\n",
       " 10.0825\n",
       " 15.4770\n",
       " 11.2268\n",
       " 13.4959\n",
       "  5.7692\n",
       " -1.5311\n",
       " 10.4093\n",
       " 12.0270\n",
       " 15.4374\n",
       "  6.4289\n",
       "  4.3289\n",
       " 14.1689\n",
       "  8.6549\n",
       "  9.3800\n",
       " 12.2867\n",
       " 18.9277\n",
       " 14.9170\n",
       " 12.1276\n",
       "  1.0136\n",
       " 15.5491\n",
       " 13.7131\n",
       " 10.6751\n",
       " 10.3403\n",
       " 11.3353\n",
       "  2.4930\n",
       " 11.6165\n",
       "[torch.FloatTensor of size 64x1]"
      ]
     },
     "execution_count": 22,
     "metadata": {},
     "output_type": "execute_result"
    }
   ],
   "source": [
    "Q_select.forward(states,actions)"
   ]
  },
  {
   "cell_type": "code",
   "execution_count": null,
   "metadata": {
    "collapsed": true
   },
   "outputs": [],
   "source": [
    "list(Q_select.parameters())[0]"
   ]
  },
  {
   "cell_type": "code",
   "execution_count": null,
   "metadata": {
    "collapsed": true
   },
   "outputs": [],
   "source": [
    "60000/240000*64"
   ]
  },
  {
   "cell_type": "code",
   "execution_count": null,
   "metadata": {
    "collapsed": true,
    "scrolled": true
   },
   "outputs": [],
   "source": [
    "print('finished')"
   ]
  },
  {
   "cell_type": "markdown",
   "metadata": {},
   "source": [
    "# Look at the predictions of the model once trained"
   ]
  },
  {
   "cell_type": "code",
   "execution_count": null,
   "metadata": {
    "collapsed": true,
    "scrolled": true
   },
   "outputs": [],
   "source": [
    "t.sum((Q_target.squeeze()-Q_pred.squeeze())**2 + c*loss_beyond_RMAX(Q_pred, RMAX).squeeze())"
   ]
  },
  {
   "cell_type": "code",
   "execution_count": null,
   "metadata": {
    "collapsed": true,
    "scrolled": true
   },
   "outputs": [],
   "source": [
    "Q1.forward(states,actions)"
   ]
  },
  {
   "cell_type": "code",
   "execution_count": null,
   "metadata": {
    "collapsed": true,
    "scrolled": true
   },
   "outputs": [],
   "source": [
    "Q_target"
   ]
  },
  {
   "cell_type": "code",
   "execution_count": null,
   "metadata": {
    "collapsed": true
   },
   "outputs": [],
   "source": [
    "next_state_ = []\n",
    "good = dict()\n",
    "for i, s in enumerate(next_states):\n",
    "    if not np.isnan(s.data.numpy()[0]):\n",
    "        next_state_.append(s.resize(1, 50))\n",
    "        good[i] = len(good)\n",
    "\n",
    "next_state_ = t.cat(next_state_)\n",
    "max_action = variable(np.zeros((len(next_state_), 2)), requires_grad=True).float()\n",
    "prev_action = variable(np.zeros((len(next_state_), 2)), requires_grad=True).float()\n",
    "input_param = t.nn.Parameter(max_action.data)\n",
    "optimizer_for_a = t.optim.Rprop([input_param], lr=5e-1)\n",
    "for k in range(5):\n",
    "    max_action, input_param, optimizer_for_a = gradient_step_action(Q1, Q2, next_state_, max_action, min0, max0, min1, max1, input_param=input_param, optimizer=optimizer_for_a)\n",
    "    if np.max(np.abs(prev_action.data.numpy() - max_action.data.numpy())) < 1e-3:\n",
    "        break\n",
    "    prev_action = max_action * 1"
   ]
  },
  {
   "cell_type": "code",
   "execution_count": null,
   "metadata": {
    "collapsed": true,
    "scrolled": true
   },
   "outputs": [],
   "source": [
    "max_action"
   ]
  },
  {
   "cell_type": "code",
   "execution_count": null,
   "metadata": {
    "collapsed": true
   },
   "outputs": [],
   "source": [
    "state = t.cat(np.arange(min0,max0,1e-2).shape[0]*[next_state_[0].resize(1,50)]).float()\n",
    "actions = variable(np.array([[a,0.] for a in np.arange(min0,max0,1e-2)])).float()\n",
    "Qvalues = Q1.forward(state, actions).data.numpy()\n",
    "plt.plot(np.arange(min0,max0,1e-2), Qvalues)\n",
    "plt.show()"
   ]
  },
  {
   "cell_type": "code",
   "execution_count": null,
   "metadata": {
    "collapsed": true
   },
   "outputs": [],
   "source": []
  }
 ],
 "metadata": {
  "kernelspec": {
   "display_name": "Python 3",
   "language": "python",
   "name": "python3"
  },
  "language_info": {
   "codemirror_mode": {
    "name": "ipython",
    "version": 3
   },
   "file_extension": ".py",
   "mimetype": "text/x-python",
   "name": "python",
   "nbconvert_exporter": "python",
   "pygments_lexer": "ipython3",
   "version": "3.6.1"
  }
 },
 "nbformat": 4,
 "nbformat_minor": 2
}
