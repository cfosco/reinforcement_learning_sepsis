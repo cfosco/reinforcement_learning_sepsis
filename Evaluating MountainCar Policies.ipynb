{
 "cells": [
  {
   "cell_type": "code",
   "execution_count": 1,
   "metadata": {},
   "outputs": [
    {
     "name": "stdout",
     "output_type": "stream",
     "text": [
      "curses is not supported on this machine (please install/reinstall curses for an optimal experience)\n"
     ]
    }
   ],
   "source": [
    "# Imports \n",
    "import numpy as np\n",
    "from icnn_tf import Agent\n",
    "from agent import *\n",
    "import evaluation\n",
    "import importlib\n",
    "import tensorflow as tf\n",
    "import tflearn\n",
    "import matplotlib.pyplot as plt\n",
    "import gym\n",
    "import actor_critic_mountaincar as ac\n",
    "flags = tf.app.flags\n",
    "FLAGS = flags.FLAGS\n",
    "%matplotlib inline"
   ]
  },
  {
   "cell_type": "markdown",
   "metadata": {},
   "source": [
    "## Importing our MountainCar trained agents"
   ]
  },
  {
   "cell_type": "code",
   "execution_count": 2,
   "metadata": {},
   "outputs": [
    {
     "name": "stdout",
     "output_type": "stream",
     "text": [
      "x shape (?, 2)\n",
      "y shape (?, 1)\n",
      "z shape (?, 1)\n",
      "x shape (?, 2)\n",
      "y shape (?, 1)\n",
      "z shape (?, 1)\n",
      "y shape (?,)\n",
      "q shape (?,)\n",
      "per weights shape (?,)\n",
      "multi td error^2 per weights shape (?,)\n",
      "ms td error shape ()\n",
      "INFO:tensorflow:Summary name Qvalue (batch avg) is illegal; using Qvalue__batch_avg_ instead.\n",
      "INFO:tensorflow:Summary name Qvalue (batch max) is illegal; using Qvalue__batch_max_ instead.\n",
      "INFO:tensorflow:Summary name Qvalue (batch min) is illegal; using Qvalue__batch_min_ instead.\n",
      "INFO:tensorflow:Summary name Q targets (batch avg) is illegal; using Q_targets__batch_avg_ instead.\n",
      "INFO:tensorflow:Summary name Q targets (batch min) is illegal; using Q_targets__batch_min_ instead.\n",
      "INFO:tensorflow:Summary name Q targets (batch max) is illegal; using Q_targets__batch_max_ instead.\n",
      "INFO:tensorflow:Summary name td error is illegal; using td_error instead.\n",
      "INFO:tensorflow:Summary name chosen actions is illegal; using chosen_actions instead.\n",
      "INFO:tensorflow:Summary name maximizing action (batch avg) is illegal; using maximizing_action__batch_avg_ instead.\n",
      "INFO:tensorflow:Summary name maximizing action (batch max) is illegal; using maximizing_action__batch_max_ instead.\n",
      "INFO:tensorflow:Summary name maximizing action (batch min) is illegal; using maximizing_action__batch_min_ instead.\n",
      "WARNING:tensorflow:The saved meta_graph is possibly from an older release:\n",
      "'model_variables' collection should be of type 'byte_list', but instead is of type 'node_list'.\n",
      "INFO:tensorflow:Restoring parameters from tensorboard/models/38314\n"
     ]
    }
   ],
   "source": [
    "# Creating agent and filling it with an imported version\n",
    "beta0 = .9\n",
    "max_steps_beta = int(5e4)\n",
    "beta = lambda t: (t<max_steps_beta)*(beta0 + t*(1-beta0)/max_steps_beta) + (t>=max_steps_beta)*1.\n",
    "agent = Agent(2,1,beta,[20,20],finalize_graph=False)\n",
    "agent.restore('tensorboard/models/38314')\n",
    "tflearn.is_training(False, session=agent.sess)\n",
    "\n",
    "# agent2 = Agent(2,1,beta,[20,20],finalize_graph=False)\n",
    "# agent2.restore('tensorboard/models/32314')\n",
    "# tflearn.is_training(False, session=agent2.sess)"
   ]
  },
  {
   "cell_type": "markdown",
   "metadata": {},
   "source": [
    "## Getting histories with winning MountainCar implementation"
   ]
  },
  {
   "cell_type": "code",
   "execution_count": 24,
   "metadata": {},
   "outputs": [
    {
     "name": "stdout",
     "output_type": "stream",
     "text": [
      "Episode: 0, reward: 80.44633561973214, length: 635\n",
      "Episode: 1, reward: -28.088110074941905, length: 999\n",
      "Episode: 2, reward: 86.30179464506926, length: 594\n",
      "Episode: 3, reward: -26.197427198762345, length: 999\n",
      "Episode: 4, reward: 89.50172337149318, length: 466\n",
      "Episode: 5, reward: 87.19413061831908, length: 604\n",
      "Episode: 6, reward: -24.621898806322132, length: 999\n",
      "Episode: 7, reward: -22.644811235172913, length: 999\n",
      "Episode: 8, reward: 80.17897705690106, length: 767\n",
      "Episode: 9, reward: 92.59810255600664, length: 429\n",
      "Episode: 10, reward: 92.59388728042238, length: 452\n",
      "Episode: 11, reward: -20.324356291216542, length: 999\n",
      "Episode: 12, reward: -21.641796165324287, length: 999\n",
      "Episode: 13, reward: 84.93909641035397, length: 816\n",
      "Episode: 14, reward: 92.03048076059541, length: 555\n",
      "Episode: 15, reward: 83.57784233862566, length: 828\n",
      "Episode: 16, reward: 92.14983386365437, length: 437\n",
      "Episode: 17, reward: 94.48493893019754, length: 334\n",
      "Episode: 18, reward: 85.87063300933322, length: 725\n",
      "Episode: 19, reward: 93.82680077691268, length: 351\n",
      "Episode: 20, reward: 92.86421833347106, length: 478\n",
      "Episode: 21, reward: 90.53313899417583, length: 449\n",
      "Episode: 22, reward: 90.15412876797036, length: 550\n",
      "Episode: 23, reward: 90.2750395035678, length: 518\n",
      "Episode: 24, reward: 88.36542085909826, length: 631\n",
      "Episode: 25, reward: 93.30459172439396, length: 420\n",
      "Episode: 26, reward: 81.42367575442877, length: 916\n",
      "Episode: 27, reward: 94.08444597270037, length: 338\n",
      "Episode: 28, reward: 93.37219996142755, length: 425\n",
      "Episode: 29, reward: 93.39575918162657, length: 365\n",
      "Episode: 30, reward: 93.56947820883265, length: 427\n",
      "Episode: 31, reward: 88.42936086526748, length: 522\n",
      "Episode: 32, reward: 93.98777269459583, length: 426\n",
      "Episode: 33, reward: 91.6685497401313, length: 490\n",
      "Episode: 34, reward: 92.96525502679636, length: 451\n",
      "Episode: 35, reward: 92.7387146803408, length: 385\n",
      "Episode: 36, reward: 90.5117428367089, length: 538\n",
      "Episode: 37, reward: 93.68367192684853, length: 374\n",
      "Episode: 38, reward: 85.05821662862478, length: 771\n",
      "Episode: 39, reward: 90.10619385035523, length: 491\n",
      "Episode: 40, reward: 83.82894920783528, length: 788\n",
      "Episode: 41, reward: 90.49072272757208, length: 491\n",
      "Episode: 42, reward: 90.41182306198908, length: 564\n",
      "Episode: 43, reward: 94.99278157350012, length: 265\n",
      "Episode: 44, reward: 92.0664266547681, length: 491\n",
      "Episode: 45, reward: 94.1999198955808, length: 343\n",
      "Episode: 46, reward: 93.6732547538449, length: 418\n",
      "Episode: 47, reward: 82.16515257199093, length: 813\n",
      "Episode: 48, reward: 93.4747970801932, length: 366\n",
      "Episode: 49, reward: 94.44803481803781, length: 351\n",
      "Cost 91.75962996482849 seconds.\n",
      "len(histories) 50\n",
      "len(histories[0]) 635\n",
      "-loss -76.4483923065\n",
      "Action prediction for initial state: [ 0.03629783]\n",
      "Value prediction for initial state: -2.00868\n"
     ]
    }
   ],
   "source": [
    "importlib.reload(ac)\n",
    "\n",
    "policy_lr, value_lr, lamb, gamma = [0.0001, 0.00046415888336127773, 2.782559402207126e-05, 0.98999999999999999]\n",
    "loss, histories, policy_estimator, value_estimator, sess = ac.actor_critic(episodes=50, gamma=gamma, display=False, lamb=lamb, policy_lr=policy_lr, value_lr=value_lr)\n",
    "print('len(histories)',len(histories))\n",
    "print('len(histories[0])',len(histories[0]))\n",
    "print('-loss',-loss)\n",
    "# print('histories[0]',histories[0])\n",
    "print('Action prediction for initial state:',policy_estimator.predict([-0.4,0],sess))\n",
    "print('Value prediction for initial state:',value_estimator.predict([-0.4,0],sess))"
   ]
  },
  {
   "cell_type": "code",
   "execution_count": 7,
   "metadata": {},
   "outputs": [
    {
     "name": "stdout",
     "output_type": "stream",
     "text": [
      "<class 'numpy.ndarray'>\n"
     ]
    },
    {
     "data": {
      "image/png": "[encoded data removed]",
      "text/plain": [
       "<matplotlib.figure.Figure at 0x271aa15e278>"
      ]
     },
     "metadata": {},
     "output_type": "display_data"
    }
   ],
   "source": [
    "# Plotting the action to check validity\n",
    "action_steps =100\n",
    "action_range = np.linspace(-1,1,action_steps).reshape((action_steps,1))\n",
    "state_range = np.array([[-0.4,0.4]]*action_steps)\n",
    "Q_values_action_sweep = -agent._fg(state_range,action_range)[0]\n",
    "print(type(Q_values_action_sweep))\n",
    "plt.plot(action_range, Q_values_action_sweep)\n",
    "plt.show()"
   ]
  },
  {
   "cell_type": "code",
   "execution_count": 25,
   "metadata": {},
   "outputs": [
    {
     "name": "stdout",
     "output_type": "stream",
     "text": [
      "cont_states_sequence.shape (28842, 2)\n",
      "cont_actions_sequence.shape (28842, 1)\n",
      "rewards_sequence.shape (28842,)\n",
      "fence_posts: [635, 1634, 2228, 3227, 3693, 4297, 5296, 6295, 7062, 7491, 7943, 8942, 9941, 10757, 11312, 12140, 12577, 12911, 13636, 13987, 14465, 14914, 15464, 15982, 16613, 17033, 17949, 18287, 18712, 19077, 19504, 20026, 20452, 20942, 21393, 21778, 22316, 22690, 23461, 23952, 24740, 25231, 25795, 26060, 26551, 26894, 27312, 28125, 28491]\n"
     ]
    }
   ],
   "source": [
    "def train_episode_mountaincar(agent, env, max_iter):\n",
    "    global_step = -1\n",
    "    max_steps_beta = 100000\n",
    "    beta0 = .9\n",
    "    beta = lambda t: (t<max_steps_beta)*(beta0 + t*(1-beta0)/max_steps_beta) + (t>=max_steps_beta)*1.\n",
    "    all_rewards = [0]\n",
    "    history = []\n",
    "\n",
    "    RMIN, RMAX = -1, 100\n",
    "\n",
    "    ss = env.reset()\n",
    "    it=0\n",
    "    while it< max_iter:\n",
    "        global_step += 1\n",
    "\n",
    "        # act\n",
    "        agent.observation = ss\n",
    "        a = agent.act()\n",
    "        ss_, reward, done, info = env.step(a)\n",
    "        reward *= (reward>0)\n",
    "        all_rewards.append(all_rewards[-1]+reward)\n",
    "        agent.rm.add(*(ss, a, reward, ss_, np.array([done])))\n",
    "        history.append([ss, a, reward, ss_])\n",
    "        ss = ss_\n",
    "        \n",
    "        loss, td_error, q_entr, q_target = agent.train()   \n",
    "#         env.render()\n",
    "        it+=1\n",
    "        if done:\n",
    "            ss = env.reset()\n",
    "            return history, agent\n",
    "    \n",
    "    return history, agent\n",
    "\n",
    "def Q_func(s,a):\n",
    "    if s.shape == (2,):\n",
    "        s=s.reshape(1,2)\n",
    "    if a.shape == (1,):\n",
    "        a=a.reshape(1,1)\n",
    "        \n",
    "    return -agent._fg(s,a)[0]\n",
    "\n",
    "def Q_func_b(s,a):\n",
    "    params  = policy_estimator.get_q_function_params(s, sess)\n",
    "#     print(params)\n",
    "    mu = params[0]\n",
    "    sig = params[1]\n",
    "    \n",
    "    return (1/(sig*np.sqrt(2*np.pi)))*np.exp(-(a - mu)**2 / (2 * sig**2))\n",
    "\n",
    "def generate_histories_mountaincar(n_histories, agent, env):\n",
    "    cont_states_sequence = []\n",
    "    cont_actions_sequence = []\n",
    "    rewards_sequence = []\n",
    "    fence_posts = [0]*(n_histories+1)\n",
    "\n",
    "    for h in range(n_histories):\n",
    "        history, agent = train_episode_mountaincar(agent, env, 300)\n",
    "        cont_states_sequence.extend([hi[0] for hi in history])\n",
    "        cont_actions_sequence.extend([hi[1] for hi in history])\n",
    "        rewards_sequence.extend([hi[2] for hi in history])\n",
    "        fence_posts[h+1]=(fence_posts[h]+len(history))\n",
    "        print(\"history\",h,\"is of length:\",len(history))\n",
    "    \n",
    "    return np.array(cont_states_sequence), np.array(cont_actions_sequence), np.array(rewards_sequence), fence_posts[1:-1], agent\n",
    "\n",
    "def get_variables_for_WDR(histories_dict):\n",
    "    \n",
    "    cont_states_sequence = []\n",
    "    cont_actions_sequence = []\n",
    "    rewards_sequence = []\n",
    "    fence_posts = [0]*(len(histories_dict)+1)\n",
    "    i=0\n",
    "    for k in histories_dict.keys():\n",
    "        cont_states_sequence.extend(h[0] for h in histories_dict[k])\n",
    "        cont_actions_sequence.extend(h[1] for h in histories_dict[k])\n",
    "        rewards_sequence.extend(h[2] for h in histories_dict[k])\n",
    "        fence_posts[i+1]=(fence_posts[i]+len(histories_dict[k]))\n",
    "        i+=1\n",
    "    return np.array(cont_states_sequence), np.array(cont_actions_sequence), np.array(rewards_sequence), fence_posts[1:-1], agent\n",
    "\n",
    "\n",
    "# env = gym.make('MountainCarContinuous-v0')\n",
    "# env.reset()\n",
    "gamma = .99\n",
    "extremums_of_action_space = (-1, 1)\n",
    "cont_states_sequence, cont_actions_sequence, rewards_sequence, fence_posts, agent =get_variables_for_WDR(histories)\n",
    "pi_evaluation = Q_func\n",
    "pi_behavior = Q_func_b\n",
    "\n",
    "print('cont_states_sequence.shape',cont_states_sequence.shape)\n",
    "print('cont_actions_sequence.shape',cont_actions_sequence.shape)\n",
    "print('rewards_sequence.shape',rewards_sequence.shape)\n",
    "print('fence_posts:', fence_posts)"
   ]
  },
  {
   "cell_type": "code",
   "execution_count": 26,
   "metadata": {},
   "outputs": [
    {
     "name": "stdout",
     "output_type": "stream",
     "text": [
      "Starting WDR calculations\n",
      "Starting calculation of individual estimators (per episode)\n"
     ]
    },
    {
     "name": "stderr",
     "output_type": "stream",
     "text": [
      "\r",
      "  0%|          | 0/49 [00:00<?, ?it/s]"
     ]
    },
    {
     "name": "stdout",
     "output_type": "stream",
     "text": [
      "Estimator for episode 0 : [-0.02692792]\n"
     ]
    },
    {
     "name": "stderr",
     "output_type": "stream",
     "text": [
      "\r",
      "  2%|▏         | 1/49 [00:19<15:23, 19.24s/it]"
     ]
    },
    {
     "name": "stdout",
     "output_type": "stream",
     "text": [
      "Estimator for episode 1 : [-0.79787569]\n"
     ]
    },
    {
     "name": "stderr",
     "output_type": "stream",
     "text": [
      "\r",
      "  4%|▍         | 2/49 [00:30<13:14, 16.90s/it]"
     ]
    },
    {
     "name": "stdout",
     "output_type": "stream",
     "text": [
      "Estimator for episode 2 : [ 0.00952076]\n"
     ]
    },
    {
     "name": "stderr",
     "output_type": "stream",
     "text": [
      "\r",
      "  6%|▌         | 3/49 [00:49<13:27, 17.55s/it]"
     ]
    },
    {
     "name": "stdout",
     "output_type": "stream",
     "text": [
      "Estimator for episode 3 : [-0.09922989]\n"
     ]
    },
    {
     "name": "stderr",
     "output_type": "stream",
     "text": [
      "\r",
      "  8%|▊         | 4/49 [00:58<11:14, 14.99s/it]"
     ]
    },
    {
     "name": "stdout",
     "output_type": "stream",
     "text": [
      "Estimator for episode 4 : [-0.69515552]\n"
     ]
    },
    {
     "name": "stderr",
     "output_type": "stream",
     "text": [
      "\r",
      " 10%|█         | 5/49 [01:10<10:10, 13.88s/it]"
     ]
    },
    {
     "name": "stdout",
     "output_type": "stream",
     "text": [
      "Estimator for episode 5 : [ 0.00285961]\n"
     ]
    },
    {
     "name": "stderr",
     "output_type": "stream",
     "text": [
      "\r",
      " 12%|█▏        | 6/49 [01:29<11:06, 15.50s/it]"
     ]
    },
    {
     "name": "stdout",
     "output_type": "stream",
     "text": [
      "Estimator for episode 6 : [ 0.01072835]\n"
     ]
    },
    {
     "name": "stderr",
     "output_type": "stream",
     "text": [
      "\r",
      " 14%|█▍        | 7/49 [01:49<11:45, 16.79s/it]"
     ]
    },
    {
     "name": "stdout",
     "output_type": "stream",
     "text": [
      "Estimator for episode 7 : [-0.0041179]\n"
     ]
    },
    {
     "name": "stderr",
     "output_type": "stream",
     "text": [
      "\r",
      " 16%|█▋        | 8/49 [02:03<10:59, 16.09s/it]"
     ]
    },
    {
     "name": "stdout",
     "output_type": "stream",
     "text": [
      "Estimator for episode 8 : [-0.00331174]\n"
     ]
    },
    {
     "name": "stderr",
     "output_type": "stream",
     "text": [
      "\r",
      " 18%|█▊        | 9/49 [02:11<09:07, 13.68s/it]"
     ]
    },
    {
     "name": "stdout",
     "output_type": "stream",
     "text": [
      "Estimator for episode 9 : [ 0.01012587]\n"
     ]
    },
    {
     "name": "stderr",
     "output_type": "stream",
     "text": [
      "\r",
      " 20%|██        | 10/49 [02:19<07:50, 12.08s/it]"
     ]
    },
    {
     "name": "stdout",
     "output_type": "stream",
     "text": [
      "Estimator for episode 10 : [ 0.00737245]\n"
     ]
    },
    {
     "name": "stderr",
     "output_type": "stream",
     "text": [
      "\r",
      " 22%|██▏       | 11/49 [02:39<09:01, 14.25s/it]"
     ]
    },
    {
     "name": "stdout",
     "output_type": "stream",
     "text": [
      "Estimator for episode 11 : [-0.00607337]\n"
     ]
    },
    {
     "name": "stderr",
     "output_type": "stream",
     "text": [
      "\r",
      " 24%|██▍       | 12/49 [02:59<09:50, 15.96s/it]"
     ]
    },
    {
     "name": "stdout",
     "output_type": "stream",
     "text": [
      "Estimator for episode 12 : [ 0.00965759]\n"
     ]
    },
    {
     "name": "stderr",
     "output_type": "stream",
     "text": [
      "\r",
      " 27%|██▋       | 13/49 [03:15<09:38, 16.07s/it]"
     ]
    },
    {
     "name": "stdout",
     "output_type": "stream",
     "text": [
      "Estimator for episode 13 : [ 0.00974896]\n"
     ]
    },
    {
     "name": "stderr",
     "output_type": "stream",
     "text": [
      "\r",
      " 29%|██▊       | 14/49 [03:26<08:23, 14.38s/it]"
     ]
    },
    {
     "name": "stdout",
     "output_type": "stream",
     "text": [
      "Estimator for episode 14 : [ 0.01026483]\n"
     ]
    },
    {
     "name": "stderr",
     "output_type": "stream",
     "text": [
      "\r",
      " 31%|███       | 15/49 [03:42<08:33, 15.11s/it]"
     ]
    },
    {
     "name": "stdout",
     "output_type": "stream",
     "text": [
      "Estimator for episode 15 : [ 0.0096358]\n"
     ]
    },
    {
     "name": "stderr",
     "output_type": "stream",
     "text": [
      "\r",
      " 33%|███▎      | 16/49 [03:50<07:09, 13.00s/it]"
     ]
    },
    {
     "name": "stdout",
     "output_type": "stream",
     "text": [
      "Estimator for episode 16 : [ 0.002317]\n"
     ]
    },
    {
     "name": "stderr",
     "output_type": "stream",
     "text": [
      "\r",
      " 35%|███▍      | 17/49 [03:57<05:50, 10.96s/it]"
     ]
    },
    {
     "name": "stdout",
     "output_type": "stream",
     "text": [
      "Estimator for episode 17 : [ 0.00997676]\n"
     ]
    },
    {
     "name": "stderr",
     "output_type": "stream",
     "text": [
      "\r",
      " 37%|███▋      | 18/49 [04:11<06:13, 12.03s/it]"
     ]
    },
    {
     "name": "stdout",
     "output_type": "stream",
     "text": [
      "Estimator for episode 18 : [ 0.0017071]\n"
     ]
    },
    {
     "name": "stderr",
     "output_type": "stream",
     "text": [
      "\r",
      " 39%|███▉      | 19/49 [04:18<05:15, 10.52s/it]"
     ]
    },
    {
     "name": "stdout",
     "output_type": "stream",
     "text": [
      "Estimator for episode 19 : [ 0.00813669]\n"
     ]
    },
    {
     "name": "stderr",
     "output_type": "stream",
     "text": [
      "\r",
      " 41%|████      | 20/49 [04:28<04:58, 10.30s/it]"
     ]
    },
    {
     "name": "stdout",
     "output_type": "stream",
     "text": [
      "Estimator for episode 20 : [ 0.00740485]\n"
     ]
    },
    {
     "name": "stderr",
     "output_type": "stream",
     "text": [
      "\r",
      " 43%|████▎     | 21/49 [04:37<04:35,  9.82s/it]"
     ]
    },
    {
     "name": "stdout",
     "output_type": "stream",
     "text": [
      "Estimator for episode 21 : [ 0.00934728]\n"
     ]
    },
    {
     "name": "stderr",
     "output_type": "stream",
     "text": [
      "\r",
      " 45%|████▍     | 22/49 [04:47<04:29,  9.99s/it]"
     ]
    },
    {
     "name": "stdout",
     "output_type": "stream",
     "text": [
      "Estimator for episode 22 : [ 0.0094397]\n"
     ]
    },
    {
     "name": "stderr",
     "output_type": "stream",
     "text": [
      "\r",
      " 47%|████▋     | 23/49 [04:58<04:24, 10.18s/it]"
     ]
    },
    {
     "name": "stdout",
     "output_type": "stream",
     "text": [
      "Estimator for episode 23 : [ 0.00939524]\n"
     ]
    },
    {
     "name": "stderr",
     "output_type": "stream",
     "text": [
      "\r",
      " 49%|████▉     | 24/49 [05:09<04:26, 10.65s/it]"
     ]
    },
    {
     "name": "stdout",
     "output_type": "stream",
     "text": [
      "Estimator for episode 24 : [ 0.00836705]\n"
     ]
    },
    {
     "name": "stderr",
     "output_type": "stream",
     "text": [
      "\r",
      " 51%|█████     | 25/49 [05:17<03:54,  9.77s/it]"
     ]
    },
    {
     "name": "stdout",
     "output_type": "stream",
     "text": [
      "Estimator for episode 25 : [ 0.00813449]\n"
     ]
    },
    {
     "name": "stderr",
     "output_type": "stream",
     "text": [
      "\r",
      " 53%|█████▎    | 26/49 [05:52<06:38, 17.34s/it]"
     ]
    },
    {
     "name": "stdout",
     "output_type": "stream",
     "text": [
      "Estimator for episode 26 : [-0.02461952]\n"
     ]
    },
    {
     "name": "stderr",
     "output_type": "stream",
     "text": [
      "\r",
      " 55%|█████▌    | 27/49 [06:00<05:22, 14.64s/it]"
     ]
    },
    {
     "name": "stdout",
     "output_type": "stream",
     "text": [
      "Estimator for episode 27 : [ 0.00965425]\n"
     ]
    },
    {
     "name": "stderr",
     "output_type": "stream",
     "text": [
      "\r",
      " 57%|█████▋    | 28/49 [06:09<04:31, 12.91s/it]"
     ]
    },
    {
     "name": "stdout",
     "output_type": "stream",
     "text": [
      "Estimator for episode 28 : [ 0.00944903]\n"
     ]
    },
    {
     "name": "stderr",
     "output_type": "stream",
     "text": [
      "\r",
      " 59%|█████▉    | 29/49 [06:16<03:43, 11.15s/it]"
     ]
    },
    {
     "name": "stdout",
     "output_type": "stream",
     "text": [
      "Estimator for episode 29 : [ 0.008299]\n"
     ]
    },
    {
     "name": "stderr",
     "output_type": "stream",
     "text": [
      "\r",
      " 61%|██████    | 30/49 [06:25<03:16, 10.34s/it]"
     ]
    },
    {
     "name": "stdout",
     "output_type": "stream",
     "text": [
      "Estimator for episode 30 : [ 0.00025263]\n"
     ]
    },
    {
     "name": "stderr",
     "output_type": "stream",
     "text": [
      "\r",
      " 63%|██████▎   | 31/49 [06:35<03:05, 10.32s/it]"
     ]
    },
    {
     "name": "stdout",
     "output_type": "stream",
     "text": [
      "Estimator for episode 31 : [ 0.00974788]\n"
     ]
    },
    {
     "name": "stderr",
     "output_type": "stream",
     "text": [
      "\r",
      " 65%|██████▌   | 32/49 [06:44<02:46,  9.82s/it]"
     ]
    },
    {
     "name": "stdout",
     "output_type": "stream",
     "text": [
      "Estimator for episode 32 : [ 0.00980597]\n"
     ]
    },
    {
     "name": "stderr",
     "output_type": "stream",
     "text": [
      "\r",
      " 67%|██████▋   | 33/49 [06:53<02:35,  9.70s/it]"
     ]
    },
    {
     "name": "stdout",
     "output_type": "stream",
     "text": [
      "Estimator for episode 33 : [ 0.0098943]\n"
     ]
    },
    {
     "name": "stderr",
     "output_type": "stream",
     "text": [
      "\r",
      " 69%|██████▉   | 34/49 [07:02<02:21,  9.40s/it]"
     ]
    },
    {
     "name": "stdout",
     "output_type": "stream",
     "text": [
      "Estimator for episode 34 : [ 0.01008098]\n"
     ]
    },
    {
     "name": "stderr",
     "output_type": "stream",
     "text": [
      "\r",
      " 71%|███████▏  | 35/49 [07:09<02:01,  8.71s/it]"
     ]
    },
    {
     "name": "stdout",
     "output_type": "stream",
     "text": [
      "Estimator for episode 35 : [-0.00105387]\n"
     ]
    },
    {
     "name": "stderr",
     "output_type": "stream",
     "text": [
      "\r",
      " 73%|███████▎  | 36/49 [07:19<01:58,  9.11s/it]"
     ]
    },
    {
     "name": "stdout",
     "output_type": "stream",
     "text": [
      "Estimator for episode 36 : [ 0.01009523]\n"
     ]
    },
    {
     "name": "stderr",
     "output_type": "stream",
     "text": [
      "\r",
      " 76%|███████▌  | 37/49 [07:26<01:42,  8.57s/it]"
     ]
    },
    {
     "name": "stdout",
     "output_type": "stream",
     "text": [
      "Estimator for episode 37 : [ 0.00757183]\n"
     ]
    },
    {
     "name": "stderr",
     "output_type": "stream",
     "text": [
      "\r",
      " 78%|███████▊  | 38/49 [07:41<01:52, 10.26s/it]"
     ]
    },
    {
     "name": "stdout",
     "output_type": "stream",
     "text": [
      "Estimator for episode 38 : [-0.0771072]\n"
     ]
    },
    {
     "name": "stderr",
     "output_type": "stream",
     "text": [
      "\r",
      " 80%|███████▉  | 39/49 [07:50<01:41, 10.16s/it]"
     ]
    },
    {
     "name": "stdout",
     "output_type": "stream",
     "text": [
      "Estimator for episode 39 : [-0.0158309]\n"
     ]
    },
    {
     "name": "stderr",
     "output_type": "stream",
     "text": [
      "\r",
      " 82%|████████▏ | 40/49 [08:07<01:48, 12.08s/it]"
     ]
    },
    {
     "name": "stdout",
     "output_type": "stream",
     "text": [
      "Estimator for episode 40 : [ 0.01019871]\n"
     ]
    },
    {
     "name": "stderr",
     "output_type": "stream",
     "text": [
      "\r",
      " 84%|████████▎ | 41/49 [08:17<01:31, 11.41s/it]"
     ]
    },
    {
     "name": "stdout",
     "output_type": "stream",
     "text": [
      "Estimator for episode 41 : [ 0.00791139]\n"
     ]
    },
    {
     "name": "stderr",
     "output_type": "stream",
     "text": [
      "\r",
      " 86%|████████▌ | 42/49 [08:27<01:18, 11.15s/it]"
     ]
    },
    {
     "name": "stdout",
     "output_type": "stream",
     "text": [
      "Estimator for episode 42 : [ 0.00445297]\n"
     ]
    },
    {
     "name": "stderr",
     "output_type": "stream",
     "text": [
      "\r",
      " 88%|████████▊ | 43/49 [08:33<00:56,  9.48s/it]"
     ]
    },
    {
     "name": "stdout",
     "output_type": "stream",
     "text": [
      "Estimator for episode 43 : [ 0.01022289]\n"
     ]
    },
    {
     "name": "stderr",
     "output_type": "stream",
     "text": [
      "\r",
      " 90%|████████▉ | 44/49 [08:43<00:47,  9.54s/it]"
     ]
    },
    {
     "name": "stdout",
     "output_type": "stream",
     "text": [
      "Estimator for episode 44 : [ 0.00898687]\n"
     ]
    },
    {
     "name": "stderr",
     "output_type": "stream",
     "text": [
      "\r",
      " 92%|█████████▏| 45/49 [08:49<00:34,  8.64s/it]"
     ]
    },
    {
     "name": "stdout",
     "output_type": "stream",
     "text": [
      "Estimator for episode 45 : [-0.00299714]\n"
     ]
    },
    {
     "name": "stderr",
     "output_type": "stream",
     "text": [
      "\r",
      " 94%|█████████▍| 46/49 [08:58<00:25,  8.58s/it]"
     ]
    },
    {
     "name": "stdout",
     "output_type": "stream",
     "text": [
      "Estimator for episode 46 : [ 0.0017264]\n"
     ]
    },
    {
     "name": "stderr",
     "output_type": "stream",
     "text": [
      "\r",
      " 96%|█████████▌| 47/49 [09:14<00:22, 11.04s/it]"
     ]
    },
    {
     "name": "stdout",
     "output_type": "stream",
     "text": [
      "Estimator for episode 47 : [ 0.00794624]\n"
     ]
    },
    {
     "name": "stderr",
     "output_type": "stream",
     "text": [
      "\r",
      " 98%|█████████▊| 48/49 [09:22<00:09,  9.99s/it]"
     ]
    },
    {
     "name": "stdout",
     "output_type": "stream",
     "text": [
      "Estimator for episode 48 : [ 0.00861101]\n"
     ]
    },
    {
     "name": "stderr",
     "output_type": "stream",
     "text": [
      "100%|██████████| 49/49 [09:29<00:00,  9.19s/it]\n"
     ]
    },
    {
     "name": "stdout",
     "output_type": "stream",
     "text": [
      "Time elapsed in WDR calculation: 646.205081831014\n",
      "WDR_estim: -1.45525275097\n"
     ]
    }
   ],
   "source": [
    "importlib.reload(evaluation)\n",
    "\n",
    "# print(pi_behavior(cont_states_sequence, cont_actions_sequence))\n",
    "\n",
    "WDR_estim, indiv_estim = evaluation.eval_ICNN_WDR_mountaincar(pi_evaluation, pi_behavior, extremums_of_action_space, \n",
    "                                                                cont_states_sequence, cont_actions_sequence, \n",
    "                                                                rewards_sequence, fence_posts, gamma)\n",
    "\n",
    "print('WDR_estim:',WDR_estim)"
   ]
  },
  {
   "cell_type": "code",
   "execution_count": 27,
   "metadata": {},
   "outputs": [
    {
     "name": "stdout",
     "output_type": "stream",
     "text": [
      "Value_estimation for initial state [-0.4, 0]: -2.00868\n"
     ]
    }
   ],
   "source": [
    "print('Value_estimation for initial state [-0.4, 0]:',value_estimator.predict([-0.4, 0],sess))"
   ]
  },
  {
   "cell_type": "code",
   "execution_count": null,
   "metadata": {
    "collapsed": true
   },
   "outputs": [],
   "source": []
  }
 ],
 "metadata": {
  "kernelspec": {
   "display_name": "Python 3",
   "language": "python",
   "name": "python3"
  },
  "language_info": {
   "codemirror_mode": {
    "name": "ipython",
    "version": 3
   },
   "file_extension": ".py",
   "mimetype": "text/x-python",
   "name": "python",
   "nbconvert_exporter": "python",
   "pygments_lexer": "ipython3",
   "version": "3.6.1"
  }
 },
 "nbformat": 4,
 "nbformat_minor": 2
}
