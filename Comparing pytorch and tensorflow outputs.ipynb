{
 "cells": [
  {
   "cell_type": "code",
   "execution_count": 2,
   "metadata": {},
   "outputs": [],
   "source": [
    "from icnn_tf import Agent\n",
    "from agent import *\n",
    "import tensorflow as tf\n",
    "import tflearn\n",
    "from icnn import ICNNBN2"
   ]
  },
  {
   "cell_type": "code",
   "execution_count": 4,
   "metadata": {},
   "outputs": [
    {
     "name": "stdout",
     "output_type": "stream",
     "text": [
      "x shape (?, 50)\n",
      "y shape (?, 2)\n",
      "z shape (?, 1)\n",
      "x shape (?, 50)\n",
      "y shape (?, 2)\n",
      "z shape (?, 1)\n",
      "y shape (?,)\n",
      "q shape (?,)\n",
      "per weights shape (?,)\n",
      "multi td error^2 per weights shape (?,)\n",
      "ms td error shape ()\n",
      "INFO:tensorflow:Summary name Qvalue (batch avg) is illegal; using Qvalue__batch_avg_ instead.\n",
      "INFO:tensorflow:Summary name Qvalue (batch max) is illegal; using Qvalue__batch_max_ instead.\n",
      "INFO:tensorflow:Summary name Qvalue (batch min) is illegal; using Qvalue__batch_min_ instead.\n",
      "INFO:tensorflow:Summary name Q targets (batch avg) is illegal; using Q_targets__batch_avg_ instead.\n",
      "INFO:tensorflow:Summary name Q targets (batch min) is illegal; using Q_targets__batch_min_ instead.\n",
      "INFO:tensorflow:Summary name Q targets (batch max) is illegal; using Q_targets__batch_max_ instead.\n",
      "INFO:tensorflow:Summary name td error is illegal; using td_error instead.\n",
      "INFO:tensorflow:Summary name chosen actions is illegal; using chosen_actions instead.\n",
      "INFO:tensorflow:Summary name maximizing action (batch avg) is illegal; using maximizing_action__batch_avg_ instead.\n",
      "INFO:tensorflow:Summary name maximizing action (batch max) is illegal; using maximizing_action__batch_max_ instead.\n",
      "INFO:tensorflow:Summary name maximizing action (batch min) is illegal; using maximizing_action__batch_min_ instead.\n"
     ]
    }
   ],
   "source": [
    "beta0 = .9\n",
    "max_steps_beta = int(5e4)\n",
    "beta = lambda t: (t<max_steps_beta)*(beta0 + t*(1-beta0)/max_steps_beta) + (t>=max_steps_beta)*1.\n",
    "agent = Agent(50, 2, beta, [50, 50], finalize_graph=False)\n",
    "q = ICNNBN2(3, 50, 50, 2)"
   ]
  },
  {
   "cell_type": "code",
   "execution_count": 5,
   "metadata": {},
   "outputs": [
    {
     "data": {
      "text/plain": [
       "[<tf.Variable 'q/u0/W:0' shape=(50, 50) dtype=float32_ref>,\n",
       " <tf.Variable 'q/u0/b:0' shape=(50,) dtype=float32_ref>,\n",
       " <tf.Variable 'q/u0/beta:0' shape=(50,) dtype=float32_ref>,\n",
       " <tf.Variable 'q/u0/gamma:0' shape=(50,) dtype=float32_ref>,\n",
       " <tf.Variable 'q/u1/W:0' shape=(50, 50) dtype=float32_ref>,\n",
       " <tf.Variable 'q/u1/b:0' shape=(50,) dtype=float32_ref>,\n",
       " <tf.Variable 'q/z0_yu_u/W:0' shape=(50, 2) dtype=float32_ref>,\n",
       " <tf.Variable 'q/z0_yu_u/b:0' shape=(2,) dtype=float32_ref>,\n",
       " <tf.Variable 'q/z0_yu/W:0' shape=(2, 50) dtype=float32_ref>,\n",
       " <tf.Variable 'q/z0_u/W:0' shape=(50, 50) dtype=float32_ref>,\n",
       " <tf.Variable 'q/z0_u/b:0' shape=(50,) dtype=float32_ref>,\n",
       " <tf.Variable 'q/z1_zu_u/W:0' shape=(50, 50) dtype=float32_ref>,\n",
       " <tf.Variable 'q/z1_zu_u/b:0' shape=(50,) dtype=float32_ref>,\n",
       " <tf.Variable 'q/z1_zu_proj/W:0' shape=(50, 50) dtype=float32_ref>,\n",
       " <tf.Variable 'q/z1_yu_u/W:0' shape=(50, 2) dtype=float32_ref>,\n",
       " <tf.Variable 'q/z1_yu_u/b:0' shape=(2,) dtype=float32_ref>,\n",
       " <tf.Variable 'q/z1_yu/W:0' shape=(2, 50) dtype=float32_ref>,\n",
       " <tf.Variable 'q/z1_u/W:0' shape=(50, 50) dtype=float32_ref>,\n",
       " <tf.Variable 'q/z1_u/b:0' shape=(50,) dtype=float32_ref>,\n",
       " <tf.Variable 'q/z2_zu_u/W:0' shape=(50, 50) dtype=float32_ref>,\n",
       " <tf.Variable 'q/z2_zu_u/b:0' shape=(50,) dtype=float32_ref>,\n",
       " <tf.Variable 'q/z2_zu_proj/W:0' shape=(50, 1) dtype=float32_ref>,\n",
       " <tf.Variable 'q/z2_yu_u/W:0' shape=(50, 2) dtype=float32_ref>,\n",
       " <tf.Variable 'q/z2_yu_u/b:0' shape=(2,) dtype=float32_ref>,\n",
       " <tf.Variable 'q/z2_yu/W:0' shape=(2, 1) dtype=float32_ref>,\n",
       " <tf.Variable 'q/z2_u/W:0' shape=(50, 1) dtype=float32_ref>,\n",
       " <tf.Variable 'q/z2_u/b:0' shape=(1,) dtype=float32_ref>]"
      ]
     },
     "execution_count": 5,
     "metadata": {},
     "output_type": "execute_result"
    }
   ],
   "source": [
    "agent.theta_"
   ]
  },
  {
   "cell_type": "code",
   "execution_count": 21,
   "metadata": {},
   "outputs": [
    {
     "data": {
      "text/plain": [
       "18509"
      ]
     },
     "execution_count": 21,
     "metadata": {},
     "output_type": "execute_result"
    }
   ],
   "source": []
  },
  {
   "cell_type": "code",
   "execution_count": 29,
   "metadata": {},
   "outputs": [
    {
     "data": {
      "text/plain": [
       "[Parameter containing:\n",
       " -0.4643 -0.1388\n",
       "  0.0607  0.1539\n",
       " -0.0444 -0.2667\n",
       " -0.2024 -0.1873\n",
       "  0.0143 -0.2070\n",
       "  0.0562  0.1970\n",
       " -0.1275  0.2644\n",
       " -0.2274 -0.0300\n",
       " -0.1983 -0.0735\n",
       "  0.3409  0.0190\n",
       "  0.4723 -0.2518\n",
       "  0.1760  0.1054\n",
       " -0.2658  0.0044\n",
       " -0.2183 -0.2094\n",
       "  0.2038 -0.2765\n",
       " -0.0659  0.3881\n",
       "  0.3293  0.2927\n",
       " -0.1020  0.2605\n",
       "  0.1926 -0.1486\n",
       " -0.3787 -0.3923\n",
       " -0.1674 -0.4505\n",
       "  0.4075  0.1778\n",
       "  0.2150 -0.0232\n",
       " -0.4449 -0.2205\n",
       " -0.0935  0.3847\n",
       "  0.2216 -0.1825\n",
       "  0.2530  0.4198\n",
       " -0.0196 -0.1840\n",
       "  0.1659  0.1214\n",
       "  0.4407 -0.0893\n",
       "  0.3056 -0.2143\n",
       "  0.2760 -0.2472\n",
       " -0.4606 -0.3679\n",
       "  0.4449  0.3924\n",
       "  0.2650 -0.3658\n",
       "  0.1645  0.3216\n",
       "  0.4303  0.1968\n",
       " -0.1806 -0.3032\n",
       "  0.3456 -0.0555\n",
       "  0.0094 -0.4701\n",
       " -0.3079  0.0678\n",
       "  0.0240  0.1193\n",
       "  0.2486  0.1117\n",
       " -0.4576 -0.2225\n",
       " -0.1583 -0.0638\n",
       " -0.0135  0.1934\n",
       "  0.2847  0.4141\n",
       " -0.0139 -0.4030\n",
       "  0.1129  0.1460\n",
       "  0.1940  0.0852\n",
       " [torch.FloatTensor of size 50x2]]"
      ]
     },
     "execution_count": 29,
     "metadata": {},
     "output_type": "execute_result"
    }
   ],
   "source": [
    "list(q.z_au_0.parameters())"
   ]
  },
  {
   "cell_type": "code",
   "execution_count": 22,
   "metadata": {},
   "outputs": [
    {
     "name": "stdout",
     "output_type": "stream",
     "text": [
      "#params: 18509\n"
     ]
    }
   ],
   "source": [
    "print('#params: %s' % np.sum([np.prod(p.data.numpy().shape) for p in q.parameters()]))"
   ]
  },
  {
   "cell_type": "code",
   "execution_count": null,
   "metadata": {
    "collapsed": true
   },
   "outputs": [],
   "source": []
  }
 ],
 "metadata": {
  "kernelspec": {
   "display_name": "Python 3",
   "language": "python",
   "name": "python3"
  },
  "language_info": {
   "codemirror_mode": {
    "name": "ipython",
    "version": 3
   },
   "file_extension": ".py",
   "mimetype": "text/x-python",
   "name": "python",
   "nbconvert_exporter": "python",
   "pygments_lexer": "ipython3",
   "version": "3.6.1"
  }
 },
 "nbformat": 4,
 "nbformat_minor": 2
}
